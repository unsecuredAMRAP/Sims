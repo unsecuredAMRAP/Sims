{
  "cells": [
    {
      "cell_type": "markdown",
      "id": "external-reward",
      "metadata": {
        "id": "external-reward"
      },
      "source": [
        "# Projecting Population Growth"
      ]
    },
    {
      "cell_type": "markdown",
      "id": "imported-table",
      "metadata": {
        "tags": [],
        "id": "imported-table"
      },
      "source": [
        "*Modeling and Simulation in Python*\n",
        "\n",
        "Copyright 2021 Allen Downey\n",
        "\n",
        "License: [Creative Commons Attribution-NonCommercial-ShareAlike 4.0 International](https://creativecommons.org/licenses/by-nc-sa/4.0/)"
      ]
    },
    {
      "cell_type": "code",
      "execution_count": 1,
      "id": "electoral-turkey",
      "metadata": {
        "tags": [],
        "id": "electoral-turkey",
        "colab": {
          "base_uri": "https://localhost:8080/"
        },
        "outputId": "eb39cfe8-51ef-409b-9da4-db9e4be90285"
      },
      "outputs": [
        {
          "output_type": "stream",
          "name": "stdout",
          "text": [
            "Collecting pint\n",
            "  Downloading Pint-0.24-py3-none-any.whl (300 kB)\n",
            "\u001b[2K     \u001b[90m━━━━━━━━━━━━━━━━━━━━━━━━━━━━━━━━━━━━━━━━\u001b[0m \u001b[32m300.7/300.7 kB\u001b[0m \u001b[31m2.7 MB/s\u001b[0m eta \u001b[36m0:00:00\u001b[0m\n",
            "\u001b[?25hCollecting appdirs>=1.4.4 (from pint)\n",
            "  Downloading appdirs-1.4.4-py2.py3-none-any.whl (9.6 kB)\n",
            "Requirement already satisfied: typing-extensions in /usr/local/lib/python3.10/dist-packages (from pint) (4.12.2)\n",
            "Collecting flexcache>=0.3 (from pint)\n",
            "  Downloading flexcache-0.3-py3-none-any.whl (13 kB)\n",
            "Collecting flexparser>=0.3 (from pint)\n",
            "  Downloading flexparser-0.3.1-py3-none-any.whl (27 kB)\n",
            "Installing collected packages: appdirs, flexparser, flexcache, pint\n",
            "Successfully installed appdirs-1.4.4 flexcache-0.3 flexparser-0.3.1 pint-0.24\n"
          ]
        }
      ],
      "source": [
        "# install Pint if necessary\n",
        "\n",
        "try:\n",
        "    import pint\n",
        "except ImportError:\n",
        "    !pip install pint"
      ]
    },
    {
      "cell_type": "code",
      "execution_count": 2,
      "id": "formal-context",
      "metadata": {
        "tags": [],
        "id": "formal-context",
        "colab": {
          "base_uri": "https://localhost:8080/"
        },
        "outputId": "efc9490e-4635-4619-f674-c2c564347811"
      },
      "outputs": [
        {
          "output_type": "stream",
          "name": "stdout",
          "text": [
            "Downloaded modsim.py\n"
          ]
        }
      ],
      "source": [
        "# download modsim.py if necessary\n",
        "\n",
        "from os.path import basename, exists\n",
        "\n",
        "def download(url):\n",
        "    filename = basename(url)\n",
        "    if not exists(filename):\n",
        "        from urllib.request import urlretrieve\n",
        "        local, _ = urlretrieve(url, filename)\n",
        "        print('Downloaded ' + local)\n",
        "\n",
        "download('https://github.com/AllenDowney/ModSimPy/raw/master/' +\n",
        "         'modsim.py')"
      ]
    },
    {
      "cell_type": "code",
      "execution_count": 3,
      "id": "progressive-typing",
      "metadata": {
        "tags": [],
        "id": "progressive-typing"
      },
      "outputs": [],
      "source": [
        "# import functions from modsim\n",
        "\n",
        "from modsim import *"
      ]
    },
    {
      "cell_type": "markdown",
      "id": "global-international",
      "metadata": {
        "tags": [],
        "id": "global-international"
      },
      "source": [
        "Here's the data from the previous chapters, one last time."
      ]
    },
    {
      "cell_type": "code",
      "execution_count": 4,
      "id": "necessary-factor",
      "metadata": {
        "tags": [],
        "id": "necessary-factor",
        "colab": {
          "base_uri": "https://localhost:8080/"
        },
        "outputId": "cce22e74-9ddb-45e6-ef3f-086d5419bb5b"
      },
      "outputs": [
        {
          "output_type": "stream",
          "name": "stdout",
          "text": [
            "Downloaded World_population_estimates.html\n"
          ]
        }
      ],
      "source": [
        "download('https://raw.githubusercontent.com/AllenDowney/' +\n",
        "         'ModSimPy/master/data/World_population_estimates.html')"
      ]
    },
    {
      "cell_type": "code",
      "execution_count": 5,
      "id": "changed-desktop",
      "metadata": {
        "tags": [],
        "id": "changed-desktop"
      },
      "outputs": [],
      "source": [
        "from pandas import read_html\n",
        "\n",
        "filename = 'World_population_estimates.html'\n",
        "tables = read_html(filename, header=0, index_col=0, decimal='M')\n",
        "table2 = tables[2]\n",
        "table2.columns = ['census', 'prb', 'un', 'maddison',\n",
        "                  'hyde', 'tanton', 'biraben', 'mj',\n",
        "                  'thomlinson', 'durand', 'clark']"
      ]
    },
    {
      "cell_type": "code",
      "execution_count": 6,
      "id": "metallic-inventory",
      "metadata": {
        "tags": [],
        "id": "metallic-inventory"
      },
      "outputs": [],
      "source": [
        "un = table2.un / 1e9\n",
        "census = table2.census / 1e9"
      ]
    },
    {
      "cell_type": "markdown",
      "id": "current-canberra",
      "metadata": {
        "tags": [],
        "id": "current-canberra"
      },
      "source": [
        "And here are the functions from the previous chapter."
      ]
    },
    {
      "cell_type": "code",
      "execution_count": 7,
      "id": "measured-arthur",
      "metadata": {
        "tags": [],
        "id": "measured-arthur",
        "colab": {
          "base_uri": "https://localhost:8080/"
        },
        "outputId": "b4f7769e-48f4-41d9-b8dd-7db9c260656f"
      },
      "outputs": [
        {
          "output_type": "stream",
          "name": "stdout",
          "text": [
            "Downloaded chap06.py\n"
          ]
        }
      ],
      "source": [
        "download('https://github.com/AllenDowney/ModSimPy/raw/master/' +\n",
        "         'chap06.py')"
      ]
    },
    {
      "cell_type": "code",
      "execution_count": 8,
      "id": "cutting-financing",
      "metadata": {
        "tags": [],
        "id": "cutting-financing"
      },
      "outputs": [],
      "source": [
        "from chap06 import run_simulation\n",
        "\n",
        "def plot_estimates():\n",
        "    census.plot(style=':', label='US Census')\n",
        "    un.plot(style='--', label='UN DESA')\n",
        "    decorate(xlabel='Year',\n",
        "             ylabel='World population (billions)')"
      ]
    },
    {
      "cell_type": "markdown",
      "id": "chicken-emphasis",
      "metadata": {
        "id": "chicken-emphasis"
      },
      "source": [
        "In the previous chapter we developed a quadratic model of world\n",
        "population growth from 1950 to 2016. It is a simple model, but it fits\n",
        "the data well and the mechanisms it's based on are plausible.\n",
        "\n",
        "In this chapter we'll use the quadratic model to generate projections of future growth, and compare our results to projections from actual\n",
        "demographers."
      ]
    },
    {
      "cell_type": "markdown",
      "id": "further-armstrong",
      "metadata": {
        "id": "further-armstrong"
      },
      "source": [
        "## Generating Projections"
      ]
    },
    {
      "cell_type": "markdown",
      "id": "concrete-lightning",
      "metadata": {
        "id": "concrete-lightning"
      },
      "source": [
        "Let's run the quadratic model, extending the results until 2100, and see how our projections compare to the professionals'.\n",
        "\n",
        "Here's the quadratic growth function again."
      ]
    },
    {
      "cell_type": "code",
      "execution_count": 9,
      "id": "indirect-russia",
      "metadata": {
        "id": "indirect-russia"
      },
      "outputs": [],
      "source": [
        "def growth_func_quad(t, pop, system):\n",
        "    return system.alpha * pop + system.beta * pop**2"
      ]
    },
    {
      "cell_type": "markdown",
      "id": "little-struggle",
      "metadata": {
        "id": "little-struggle"
      },
      "source": [
        "And here are the system parameters."
      ]
    },
    {
      "cell_type": "code",
      "execution_count": 10,
      "id": "comfortable-compression",
      "metadata": {
        "id": "comfortable-compression"
      },
      "outputs": [],
      "source": [
        "t_0 = census.index[0]\n",
        "p_0 = census[t_0]\n",
        "\n",
        "system = System(t_0 = t_0,\n",
        "                p_0 = p_0,\n",
        "                alpha = 25 / 1000,\n",
        "                beta = -1.8 / 1000,\n",
        "                t_end = 2100)"
      ]
    },
    {
      "cell_type": "markdown",
      "id": "legitimate-guess",
      "metadata": {
        "id": "legitimate-guess"
      },
      "source": [
        "With `t_end=2100`, we can generate the projection by calling `run_simulation` the usual way."
      ]
    },
    {
      "cell_type": "code",
      "execution_count": 11,
      "id": "broken-windsor",
      "metadata": {
        "id": "broken-windsor"
      },
      "outputs": [],
      "source": [
        "results = run_simulation(system, growth_func_quad)"
      ]
    },
    {
      "cell_type": "markdown",
      "id": "provincial-competition",
      "metadata": {
        "id": "provincial-competition"
      },
      "source": [
        "Here are the last few values in the results."
      ]
    },
    {
      "cell_type": "code",
      "execution_count": 12,
      "id": "latest-function",
      "metadata": {
        "id": "latest-function",
        "colab": {
          "base_uri": "https://localhost:8080/",
          "height": 257
        },
        "outputId": "03379c17-18a7-404f-a76d-9049b618da63"
      },
      "outputs": [
        {
          "output_type": "execute_result",
          "data": {
            "text/plain": [
              "       Quantity\n",
              "Time           \n",
              "2096  12.462519\n",
              "2097  12.494516\n",
              "2098  12.525875\n",
              "2099  12.556607\n",
              "2100  12.586719"
            ],
            "text/html": [
              "\n",
              "  <div id=\"df-d2a7cf52-974f-46d4-8c2a-f6a82a185160\" class=\"colab-df-container\">\n",
              "    <div>\n",
              "<style scoped>\n",
              "    .dataframe tbody tr th:only-of-type {\n",
              "        vertical-align: middle;\n",
              "    }\n",
              "\n",
              "    .dataframe tbody tr th {\n",
              "        vertical-align: top;\n",
              "    }\n",
              "\n",
              "    .dataframe thead th {\n",
              "        text-align: right;\n",
              "    }\n",
              "</style>\n",
              "<table border=\"1\" class=\"dataframe\">\n",
              "  <thead>\n",
              "    <tr style=\"text-align: right;\">\n",
              "      <th></th>\n",
              "      <th>Quantity</th>\n",
              "    </tr>\n",
              "    <tr>\n",
              "      <th>Time</th>\n",
              "      <th></th>\n",
              "    </tr>\n",
              "  </thead>\n",
              "  <tbody>\n",
              "    <tr>\n",
              "      <th>2096</th>\n",
              "      <td>12.462519</td>\n",
              "    </tr>\n",
              "    <tr>\n",
              "      <th>2097</th>\n",
              "      <td>12.494516</td>\n",
              "    </tr>\n",
              "    <tr>\n",
              "      <th>2098</th>\n",
              "      <td>12.525875</td>\n",
              "    </tr>\n",
              "    <tr>\n",
              "      <th>2099</th>\n",
              "      <td>12.556607</td>\n",
              "    </tr>\n",
              "    <tr>\n",
              "      <th>2100</th>\n",
              "      <td>12.586719</td>\n",
              "    </tr>\n",
              "  </tbody>\n",
              "</table>\n",
              "</div>\n",
              "    <div class=\"colab-df-buttons\">\n",
              "\n",
              "  <div class=\"colab-df-container\">\n",
              "    <button class=\"colab-df-convert\" onclick=\"convertToInteractive('df-d2a7cf52-974f-46d4-8c2a-f6a82a185160')\"\n",
              "            title=\"Convert this dataframe to an interactive table.\"\n",
              "            style=\"display:none;\">\n",
              "\n",
              "  <svg xmlns=\"http://www.w3.org/2000/svg\" height=\"24px\" viewBox=\"0 -960 960 960\">\n",
              "    <path d=\"M120-120v-720h720v720H120Zm60-500h600v-160H180v160Zm220 220h160v-160H400v160Zm0 220h160v-160H400v160ZM180-400h160v-160H180v160Zm440 0h160v-160H620v160ZM180-180h160v-160H180v160Zm440 0h160v-160H620v160Z\"/>\n",
              "  </svg>\n",
              "    </button>\n",
              "\n",
              "  <style>\n",
              "    .colab-df-container {\n",
              "      display:flex;\n",
              "      gap: 12px;\n",
              "    }\n",
              "\n",
              "    .colab-df-convert {\n",
              "      background-color: #E8F0FE;\n",
              "      border: none;\n",
              "      border-radius: 50%;\n",
              "      cursor: pointer;\n",
              "      display: none;\n",
              "      fill: #1967D2;\n",
              "      height: 32px;\n",
              "      padding: 0 0 0 0;\n",
              "      width: 32px;\n",
              "    }\n",
              "\n",
              "    .colab-df-convert:hover {\n",
              "      background-color: #E2EBFA;\n",
              "      box-shadow: 0px 1px 2px rgba(60, 64, 67, 0.3), 0px 1px 3px 1px rgba(60, 64, 67, 0.15);\n",
              "      fill: #174EA6;\n",
              "    }\n",
              "\n",
              "    .colab-df-buttons div {\n",
              "      margin-bottom: 4px;\n",
              "    }\n",
              "\n",
              "    [theme=dark] .colab-df-convert {\n",
              "      background-color: #3B4455;\n",
              "      fill: #D2E3FC;\n",
              "    }\n",
              "\n",
              "    [theme=dark] .colab-df-convert:hover {\n",
              "      background-color: #434B5C;\n",
              "      box-shadow: 0px 1px 3px 1px rgba(0, 0, 0, 0.15);\n",
              "      filter: drop-shadow(0px 1px 2px rgba(0, 0, 0, 0.3));\n",
              "      fill: #FFFFFF;\n",
              "    }\n",
              "  </style>\n",
              "\n",
              "    <script>\n",
              "      const buttonEl =\n",
              "        document.querySelector('#df-d2a7cf52-974f-46d4-8c2a-f6a82a185160 button.colab-df-convert');\n",
              "      buttonEl.style.display =\n",
              "        google.colab.kernel.accessAllowed ? 'block' : 'none';\n",
              "\n",
              "      async function convertToInteractive(key) {\n",
              "        const element = document.querySelector('#df-d2a7cf52-974f-46d4-8c2a-f6a82a185160');\n",
              "        const dataTable =\n",
              "          await google.colab.kernel.invokeFunction('convertToInteractive',\n",
              "                                                    [key], {});\n",
              "        if (!dataTable) return;\n",
              "\n",
              "        const docLinkHtml = 'Like what you see? Visit the ' +\n",
              "          '<a target=\"_blank\" href=https://colab.research.google.com/notebooks/data_table.ipynb>data table notebook</a>'\n",
              "          + ' to learn more about interactive tables.';\n",
              "        element.innerHTML = '';\n",
              "        dataTable['output_type'] = 'display_data';\n",
              "        await google.colab.output.renderOutput(dataTable, element);\n",
              "        const docLink = document.createElement('div');\n",
              "        docLink.innerHTML = docLinkHtml;\n",
              "        element.appendChild(docLink);\n",
              "      }\n",
              "    </script>\n",
              "  </div>\n",
              "\n",
              "\n",
              "<div id=\"df-0fd31b51-0d21-4e21-a3da-9e3c53def4bd\">\n",
              "  <button class=\"colab-df-quickchart\" onclick=\"quickchart('df-0fd31b51-0d21-4e21-a3da-9e3c53def4bd')\"\n",
              "            title=\"Suggest charts\"\n",
              "            style=\"display:none;\">\n",
              "\n",
              "<svg xmlns=\"http://www.w3.org/2000/svg\" height=\"24px\"viewBox=\"0 0 24 24\"\n",
              "     width=\"24px\">\n",
              "    <g>\n",
              "        <path d=\"M19 3H5c-1.1 0-2 .9-2 2v14c0 1.1.9 2 2 2h14c1.1 0 2-.9 2-2V5c0-1.1-.9-2-2-2zM9 17H7v-7h2v7zm4 0h-2V7h2v10zm4 0h-2v-4h2v4z\"/>\n",
              "    </g>\n",
              "</svg>\n",
              "  </button>\n",
              "\n",
              "<style>\n",
              "  .colab-df-quickchart {\n",
              "      --bg-color: #E8F0FE;\n",
              "      --fill-color: #1967D2;\n",
              "      --hover-bg-color: #E2EBFA;\n",
              "      --hover-fill-color: #174EA6;\n",
              "      --disabled-fill-color: #AAA;\n",
              "      --disabled-bg-color: #DDD;\n",
              "  }\n",
              "\n",
              "  [theme=dark] .colab-df-quickchart {\n",
              "      --bg-color: #3B4455;\n",
              "      --fill-color: #D2E3FC;\n",
              "      --hover-bg-color: #434B5C;\n",
              "      --hover-fill-color: #FFFFFF;\n",
              "      --disabled-bg-color: #3B4455;\n",
              "      --disabled-fill-color: #666;\n",
              "  }\n",
              "\n",
              "  .colab-df-quickchart {\n",
              "    background-color: var(--bg-color);\n",
              "    border: none;\n",
              "    border-radius: 50%;\n",
              "    cursor: pointer;\n",
              "    display: none;\n",
              "    fill: var(--fill-color);\n",
              "    height: 32px;\n",
              "    padding: 0;\n",
              "    width: 32px;\n",
              "  }\n",
              "\n",
              "  .colab-df-quickchart:hover {\n",
              "    background-color: var(--hover-bg-color);\n",
              "    box-shadow: 0 1px 2px rgba(60, 64, 67, 0.3), 0 1px 3px 1px rgba(60, 64, 67, 0.15);\n",
              "    fill: var(--button-hover-fill-color);\n",
              "  }\n",
              "\n",
              "  .colab-df-quickchart-complete:disabled,\n",
              "  .colab-df-quickchart-complete:disabled:hover {\n",
              "    background-color: var(--disabled-bg-color);\n",
              "    fill: var(--disabled-fill-color);\n",
              "    box-shadow: none;\n",
              "  }\n",
              "\n",
              "  .colab-df-spinner {\n",
              "    border: 2px solid var(--fill-color);\n",
              "    border-color: transparent;\n",
              "    border-bottom-color: var(--fill-color);\n",
              "    animation:\n",
              "      spin 1s steps(1) infinite;\n",
              "  }\n",
              "\n",
              "  @keyframes spin {\n",
              "    0% {\n",
              "      border-color: transparent;\n",
              "      border-bottom-color: var(--fill-color);\n",
              "      border-left-color: var(--fill-color);\n",
              "    }\n",
              "    20% {\n",
              "      border-color: transparent;\n",
              "      border-left-color: var(--fill-color);\n",
              "      border-top-color: var(--fill-color);\n",
              "    }\n",
              "    30% {\n",
              "      border-color: transparent;\n",
              "      border-left-color: var(--fill-color);\n",
              "      border-top-color: var(--fill-color);\n",
              "      border-right-color: var(--fill-color);\n",
              "    }\n",
              "    40% {\n",
              "      border-color: transparent;\n",
              "      border-right-color: var(--fill-color);\n",
              "      border-top-color: var(--fill-color);\n",
              "    }\n",
              "    60% {\n",
              "      border-color: transparent;\n",
              "      border-right-color: var(--fill-color);\n",
              "    }\n",
              "    80% {\n",
              "      border-color: transparent;\n",
              "      border-right-color: var(--fill-color);\n",
              "      border-bottom-color: var(--fill-color);\n",
              "    }\n",
              "    90% {\n",
              "      border-color: transparent;\n",
              "      border-bottom-color: var(--fill-color);\n",
              "    }\n",
              "  }\n",
              "</style>\n",
              "\n",
              "  <script>\n",
              "    async function quickchart(key) {\n",
              "      const quickchartButtonEl =\n",
              "        document.querySelector('#' + key + ' button');\n",
              "      quickchartButtonEl.disabled = true;  // To prevent multiple clicks.\n",
              "      quickchartButtonEl.classList.add('colab-df-spinner');\n",
              "      try {\n",
              "        const charts = await google.colab.kernel.invokeFunction(\n",
              "            'suggestCharts', [key], {});\n",
              "      } catch (error) {\n",
              "        console.error('Error during call to suggestCharts:', error);\n",
              "      }\n",
              "      quickchartButtonEl.classList.remove('colab-df-spinner');\n",
              "      quickchartButtonEl.classList.add('colab-df-quickchart-complete');\n",
              "    }\n",
              "    (() => {\n",
              "      let quickchartButtonEl =\n",
              "        document.querySelector('#df-0fd31b51-0d21-4e21-a3da-9e3c53def4bd button');\n",
              "      quickchartButtonEl.style.display =\n",
              "        google.colab.kernel.accessAllowed ? 'block' : 'none';\n",
              "    })();\n",
              "  </script>\n",
              "</div>\n",
              "\n",
              "    </div>\n",
              "  </div>\n"
            ],
            "application/vnd.google.colaboratory.intrinsic+json": {
              "type": "dataframe",
              "summary": "{\n  \"name\": \"show(results\",\n  \"rows\": 5,\n  \"fields\": [\n    {\n      \"column\": \"Time\",\n      \"properties\": {\n        \"dtype\": \"number\",\n        \"std\": 1,\n        \"min\": 2096,\n        \"max\": 2100,\n        \"num_unique_values\": 5,\n        \"samples\": [\n          2097,\n          2100,\n          2098\n        ],\n        \"semantic_type\": \"\",\n        \"description\": \"\"\n      }\n    },\n    {\n      \"column\": \"Quantity\",\n      \"properties\": {\n        \"dtype\": \"number\",\n        \"std\": 0.04909648239831668,\n        \"min\": 12.462518555675574,\n        \"max\": 12.58671867833247,\n        \"num_unique_values\": 5,\n        \"samples\": [\n          12.494515655816459,\n          12.58671867833247,\n          12.525875288559673\n        ],\n        \"semantic_type\": \"\",\n        \"description\": \"\"\n      }\n    }\n  ]\n}"
            }
          },
          "metadata": {},
          "execution_count": 12
        }
      ],
      "source": [
        "show(results.tail())"
      ]
    },
    {
      "cell_type": "markdown",
      "id": "outer-ensemble",
      "metadata": {
        "id": "outer-ensemble"
      },
      "source": [
        "Here's what the results look like."
      ]
    },
    {
      "cell_type": "code",
      "execution_count": 13,
      "id": "portable-pottery",
      "metadata": {
        "id": "portable-pottery",
        "colab": {
          "base_uri": "https://localhost:8080/",
          "height": 329
        },
        "outputId": "87fbc625-ea92-4751-d04c-cf1bbbe21ce3"
      },
      "outputs": [
        {
          "output_type": "display_data",
          "data": {
            "text/plain": [
              "<Figure size 450x300 with 1 Axes>"
            ],
            "image/png": "[encoded data removed]"
          },
          "metadata": {}
        }
      ],
      "source": [
        "results.plot(color='gray', label='model')\n",
        "decorate(xlabel='Year',\n",
        "         ylabel='World population (billions)',\n",
        "         title='Quadratic model projection')"
      ]
    },
    {
      "cell_type": "markdown",
      "id": "macro-carroll",
      "metadata": {
        "id": "macro-carroll"
      },
      "source": [
        "According to the model, population growth will slow gradually after 2020, approaching 12.6 billion by 2100.\n",
        "\n",
        "I am using the word *projection* deliberately, rather than\n",
        "*prediction*, with the following distinction: \"prediction\" implies\n",
        "something like \"this is what we expect to happen, at\n",
        "least approximately\"; \"projection\" implies something like \"if this\n",
        "model is a good description of the system, and if nothing in the future causes the system parameters to change, this is what would happen.\"\n",
        "\n",
        "Using \"projection\" leaves open the possibility that there are important things in the real world that are not captured in the model. It also suggests that, even if the model is good, the parameters we estimate based on the past might be different in the future.\n",
        "\n",
        "The quadratic model we've been working with is based on the assumption\n",
        "that population growth is limited by the availability of resources; in\n",
        "that scenario, as the population approaches carrying capacity, birth\n",
        "rates fall and death rates rise because resources become scarce.\n",
        "\n",
        "If that assumption is valid, we might be able to use actual population\n",
        "growth to estimate carrying capacity, provided we observe the\n",
        "transition into the population range where the growth rate starts to fall.\n",
        "\n",
        "But in the case of world population growth, those conditions don't\n",
        "apply. Over the last 50 years, the net growth rate has leveled off, but not yet started to fall, so we don't have enough data to make a credible estimate of carrying capacity. And resource limitations are probably *not* the primary reason growth has slowed. As evidence, consider:\n",
        "\n",
        "-   First, the death rate is not increasing; rather, it has declined\n",
        "    from 1.9% in 1950 to 0.8% now (see <http://modsimpy.com/mortality>).\n",
        "    So the decrease in net growth is due entirely to declining birth\n",
        "    rates.\n",
        "\n",
        "-   Second, the relationship between resources and birth rate is the\n",
        "    opposite of what the model assumes; as nations develop and people\n",
        "    become more wealthy, birth rates tend to fall.\n",
        "\n",
        "We should not take too seriously the idea that this model can estimate\n",
        "carrying capacity. But the predictions of a model can be credible even\n",
        "if the assumptions of the model are not strictly true. For example,\n",
        "population growth might behave *as if* it is resource limited, even if\n",
        "the actual mechanism is something else.\n",
        "\n",
        "In fact, demographers who study population growth often use models\n",
        "similar to ours. In the next section, we'll compare our projections to\n",
        "theirs."
      ]
    },
    {
      "cell_type": "markdown",
      "id": "small-seminar",
      "metadata": {
        "id": "small-seminar"
      },
      "source": [
        "## Comparing Projections\n",
        "\n",
        "From the same Wikipedia page where we got the past population estimates, we'll read `table3`, which contains projections for population growth over the next 50-100 years, generated by the U.S. Census, U.N. DESA, and the Population Reference Bureau."
      ]
    },
    {
      "cell_type": "code",
      "execution_count": 14,
      "id": "20e6f166",
      "metadata": {
        "id": "20e6f166"
      },
      "outputs": [],
      "source": [
        "table3 = tables[3]"
      ]
    },
    {
      "cell_type": "markdown",
      "id": "coated-smoke",
      "metadata": {
        "id": "coated-smoke"
      },
      "source": [
        "The column names are long strings; for convenience, I'll replace them with abbreviations."
      ]
    },
    {
      "cell_type": "code",
      "execution_count": 15,
      "id": "headed-tuner",
      "metadata": {
        "id": "headed-tuner"
      },
      "outputs": [],
      "source": [
        "table3.columns = ['census', 'prb', 'un']"
      ]
    },
    {
      "cell_type": "markdown",
      "id": "c2a91ffb",
      "metadata": {
        "id": "c2a91ffb"
      },
      "source": [
        "Here are the first few rows:"
      ]
    },
    {
      "cell_type": "code",
      "execution_count": 16,
      "id": "precious-contribution",
      "metadata": {
        "id": "precious-contribution",
        "colab": {
          "base_uri": "https://localhost:8080/",
          "height": 257
        },
        "outputId": "7b9d2672-8b80-45f1-9dc3-c223f81d4c3f"
      },
      "outputs": [
        {
          "output_type": "execute_result",
          "data": {
            "text/plain": [
              "            census  prb            un\n",
              "Year                                 \n",
              "2016  7.334772e+09  NaN  7.432663e+09\n",
              "2017  7.412779e+09  NaN           NaN\n",
              "2018  7.490428e+09  NaN           NaN\n",
              "2019  7.567403e+09  NaN           NaN\n",
              "2020  7.643402e+09  NaN  7.758157e+09"
            ],
            "text/html": [
              "\n",
              "  <div id=\"df-499de1e3-4e04-46c6-b992-54dfbebff3f8\" class=\"colab-df-container\">\n",
              "    <div>\n",
              "<style scoped>\n",
              "    .dataframe tbody tr th:only-of-type {\n",
              "        vertical-align: middle;\n",
              "    }\n",
              "\n",
              "    .dataframe tbody tr th {\n",
              "        vertical-align: top;\n",
              "    }\n",
              "\n",
              "    .dataframe thead th {\n",
              "        text-align: right;\n",
              "    }\n",
              "</style>\n",
              "<table border=\"1\" class=\"dataframe\">\n",
              "  <thead>\n",
              "    <tr style=\"text-align: right;\">\n",
              "      <th></th>\n",
              "      <th>census</th>\n",
              "      <th>prb</th>\n",
              "      <th>un</th>\n",
              "    </tr>\n",
              "    <tr>\n",
              "      <th>Year</th>\n",
              "      <th></th>\n",
              "      <th></th>\n",
              "      <th></th>\n",
              "    </tr>\n",
              "  </thead>\n",
              "  <tbody>\n",
              "    <tr>\n",
              "      <th>2016</th>\n",
              "      <td>7.334772e+09</td>\n",
              "      <td>NaN</td>\n",
              "      <td>7.432663e+09</td>\n",
              "    </tr>\n",
              "    <tr>\n",
              "      <th>2017</th>\n",
              "      <td>7.412779e+09</td>\n",
              "      <td>NaN</td>\n",
              "      <td>NaN</td>\n",
              "    </tr>\n",
              "    <tr>\n",
              "      <th>2018</th>\n",
              "      <td>7.490428e+09</td>\n",
              "      <td>NaN</td>\n",
              "      <td>NaN</td>\n",
              "    </tr>\n",
              "    <tr>\n",
              "      <th>2019</th>\n",
              "      <td>7.567403e+09</td>\n",
              "      <td>NaN</td>\n",
              "      <td>NaN</td>\n",
              "    </tr>\n",
              "    <tr>\n",
              "      <th>2020</th>\n",
              "      <td>7.643402e+09</td>\n",
              "      <td>NaN</td>\n",
              "      <td>7.758157e+09</td>\n",
              "    </tr>\n",
              "  </tbody>\n",
              "</table>\n",
              "</div>\n",
              "    <div class=\"colab-df-buttons\">\n",
              "\n",
              "  <div class=\"colab-df-container\">\n",
              "    <button class=\"colab-df-convert\" onclick=\"convertToInteractive('df-499de1e3-4e04-46c6-b992-54dfbebff3f8')\"\n",
              "            title=\"Convert this dataframe to an interactive table.\"\n",
              "            style=\"display:none;\">\n",
              "\n",
              "  <svg xmlns=\"http://www.w3.org/2000/svg\" height=\"24px\" viewBox=\"0 -960 960 960\">\n",
              "    <path d=\"M120-120v-720h720v720H120Zm60-500h600v-160H180v160Zm220 220h160v-160H400v160Zm0 220h160v-160H400v160ZM180-400h160v-160H180v160Zm440 0h160v-160H620v160ZM180-180h160v-160H180v160Zm440 0h160v-160H620v160Z\"/>\n",
              "  </svg>\n",
              "    </button>\n",
              "\n",
              "  <style>\n",
              "    .colab-df-container {\n",
              "      display:flex;\n",
              "      gap: 12px;\n",
              "    }\n",
              "\n",
              "    .colab-df-convert {\n",
              "      background-color: #E8F0FE;\n",
              "      border: none;\n",
              "      border-radius: 50%;\n",
              "      cursor: pointer;\n",
              "      display: none;\n",
              "      fill: #1967D2;\n",
              "      height: 32px;\n",
              "      padding: 0 0 0 0;\n",
              "      width: 32px;\n",
              "    }\n",
              "\n",
              "    .colab-df-convert:hover {\n",
              "      background-color: #E2EBFA;\n",
              "      box-shadow: 0px 1px 2px rgba(60, 64, 67, 0.3), 0px 1px 3px 1px rgba(60, 64, 67, 0.15);\n",
              "      fill: #174EA6;\n",
              "    }\n",
              "\n",
              "    .colab-df-buttons div {\n",
              "      margin-bottom: 4px;\n",
              "    }\n",
              "\n",
              "    [theme=dark] .colab-df-convert {\n",
              "      background-color: #3B4455;\n",
              "      fill: #D2E3FC;\n",
              "    }\n",
              "\n",
              "    [theme=dark] .colab-df-convert:hover {\n",
              "      background-color: #434B5C;\n",
              "      box-shadow: 0px 1px 3px 1px rgba(0, 0, 0, 0.15);\n",
              "      filter: drop-shadow(0px 1px 2px rgba(0, 0, 0, 0.3));\n",
              "      fill: #FFFFFF;\n",
              "    }\n",
              "  </style>\n",
              "\n",
              "    <script>\n",
              "      const buttonEl =\n",
              "        document.querySelector('#df-499de1e3-4e04-46c6-b992-54dfbebff3f8 button.colab-df-convert');\n",
              "      buttonEl.style.display =\n",
              "        google.colab.kernel.accessAllowed ? 'block' : 'none';\n",
              "\n",
              "      async function convertToInteractive(key) {\n",
              "        const element = document.querySelector('#df-499de1e3-4e04-46c6-b992-54dfbebff3f8');\n",
              "        const dataTable =\n",
              "          await google.colab.kernel.invokeFunction('convertToInteractive',\n",
              "                                                    [key], {});\n",
              "        if (!dataTable) return;\n",
              "\n",
              "        const docLinkHtml = 'Like what you see? Visit the ' +\n",
              "          '<a target=\"_blank\" href=https://colab.research.google.com/notebooks/data_table.ipynb>data table notebook</a>'\n",
              "          + ' to learn more about interactive tables.';\n",
              "        element.innerHTML = '';\n",
              "        dataTable['output_type'] = 'display_data';\n",
              "        await google.colab.output.renderOutput(dataTable, element);\n",
              "        const docLink = document.createElement('div');\n",
              "        docLink.innerHTML = docLinkHtml;\n",
              "        element.appendChild(docLink);\n",
              "      }\n",
              "    </script>\n",
              "  </div>\n",
              "\n",
              "\n",
              "<div id=\"df-96dfbcd8-47d0-4b01-bd62-4e0c6c113223\">\n",
              "  <button class=\"colab-df-quickchart\" onclick=\"quickchart('df-96dfbcd8-47d0-4b01-bd62-4e0c6c113223')\"\n",
              "            title=\"Suggest charts\"\n",
              "            style=\"display:none;\">\n",
              "\n",
              "<svg xmlns=\"http://www.w3.org/2000/svg\" height=\"24px\"viewBox=\"0 0 24 24\"\n",
              "     width=\"24px\">\n",
              "    <g>\n",
              "        <path d=\"M19 3H5c-1.1 0-2 .9-2 2v14c0 1.1.9 2 2 2h14c1.1 0 2-.9 2-2V5c0-1.1-.9-2-2-2zM9 17H7v-7h2v7zm4 0h-2V7h2v10zm4 0h-2v-4h2v4z\"/>\n",
              "    </g>\n",
              "</svg>\n",
              "  </button>\n",
              "\n",
              "<style>\n",
              "  .colab-df-quickchart {\n",
              "      --bg-color: #E8F0FE;\n",
              "      --fill-color: #1967D2;\n",
              "      --hover-bg-color: #E2EBFA;\n",
              "      --hover-fill-color: #174EA6;\n",
              "      --disabled-fill-color: #AAA;\n",
              "      --disabled-bg-color: #DDD;\n",
              "  }\n",
              "\n",
              "  [theme=dark] .colab-df-quickchart {\n",
              "      --bg-color: #3B4455;\n",
              "      --fill-color: #D2E3FC;\n",
              "      --hover-bg-color: #434B5C;\n",
              "      --hover-fill-color: #FFFFFF;\n",
              "      --disabled-bg-color: #3B4455;\n",
              "      --disabled-fill-color: #666;\n",
              "  }\n",
              "\n",
              "  .colab-df-quickchart {\n",
              "    background-color: var(--bg-color);\n",
              "    border: none;\n",
              "    border-radius: 50%;\n",
              "    cursor: pointer;\n",
              "    display: none;\n",
              "    fill: var(--fill-color);\n",
              "    height: 32px;\n",
              "    padding: 0;\n",
              "    width: 32px;\n",
              "  }\n",
              "\n",
              "  .colab-df-quickchart:hover {\n",
              "    background-color: var(--hover-bg-color);\n",
              "    box-shadow: 0 1px 2px rgba(60, 64, 67, 0.3), 0 1px 3px 1px rgba(60, 64, 67, 0.15);\n",
              "    fill: var(--button-hover-fill-color);\n",
              "  }\n",
              "\n",
              "  .colab-df-quickchart-complete:disabled,\n",
              "  .colab-df-quickchart-complete:disabled:hover {\n",
              "    background-color: var(--disabled-bg-color);\n",
              "    fill: var(--disabled-fill-color);\n",
              "    box-shadow: none;\n",
              "  }\n",
              "\n",
              "  .colab-df-spinner {\n",
              "    border: 2px solid var(--fill-color);\n",
              "    border-color: transparent;\n",
              "    border-bottom-color: var(--fill-color);\n",
              "    animation:\n",
              "      spin 1s steps(1) infinite;\n",
              "  }\n",
              "\n",
              "  @keyframes spin {\n",
              "    0% {\n",
              "      border-color: transparent;\n",
              "      border-bottom-color: var(--fill-color);\n",
              "      border-left-color: var(--fill-color);\n",
              "    }\n",
              "    20% {\n",
              "      border-color: transparent;\n",
              "      border-left-color: var(--fill-color);\n",
              "      border-top-color: var(--fill-color);\n",
              "    }\n",
              "    30% {\n",
              "      border-color: transparent;\n",
              "      border-left-color: var(--fill-color);\n",
              "      border-top-color: var(--fill-color);\n",
              "      border-right-color: var(--fill-color);\n",
              "    }\n",
              "    40% {\n",
              "      border-color: transparent;\n",
              "      border-right-color: var(--fill-color);\n",
              "      border-top-color: var(--fill-color);\n",
              "    }\n",
              "    60% {\n",
              "      border-color: transparent;\n",
              "      border-right-color: var(--fill-color);\n",
              "    }\n",
              "    80% {\n",
              "      border-color: transparent;\n",
              "      border-right-color: var(--fill-color);\n",
              "      border-bottom-color: var(--fill-color);\n",
              "    }\n",
              "    90% {\n",
              "      border-color: transparent;\n",
              "      border-bottom-color: var(--fill-color);\n",
              "    }\n",
              "  }\n",
              "</style>\n",
              "\n",
              "  <script>\n",
              "    async function quickchart(key) {\n",
              "      const quickchartButtonEl =\n",
              "        document.querySelector('#' + key + ' button');\n",
              "      quickchartButtonEl.disabled = true;  // To prevent multiple clicks.\n",
              "      quickchartButtonEl.classList.add('colab-df-spinner');\n",
              "      try {\n",
              "        const charts = await google.colab.kernel.invokeFunction(\n",
              "            'suggestCharts', [key], {});\n",
              "      } catch (error) {\n",
              "        console.error('Error during call to suggestCharts:', error);\n",
              "      }\n",
              "      quickchartButtonEl.classList.remove('colab-df-spinner');\n",
              "      quickchartButtonEl.classList.add('colab-df-quickchart-complete');\n",
              "    }\n",
              "    (() => {\n",
              "      let quickchartButtonEl =\n",
              "        document.querySelector('#df-96dfbcd8-47d0-4b01-bd62-4e0c6c113223 button');\n",
              "      quickchartButtonEl.style.display =\n",
              "        google.colab.kernel.accessAllowed ? 'block' : 'none';\n",
              "    })();\n",
              "  </script>\n",
              "</div>\n",
              "\n",
              "    </div>\n",
              "  </div>\n"
            ],
            "application/vnd.google.colaboratory.intrinsic+json": {
              "type": "dataframe",
              "variable_name": "table3",
              "summary": "{\n  \"name\": \"table3\",\n  \"rows\": 45,\n  \"fields\": [\n    {\n      \"column\": \"Year\",\n      \"properties\": {\n        \"dtype\": \"number\",\n        \"std\": 21,\n        \"min\": 2016,\n        \"max\": 2100,\n        \"num_unique_values\": 45,\n        \"samples\": [\n          2075,\n          2041,\n          2042\n        ],\n        \"semantic_type\": \"\",\n        \"description\": \"\"\n      }\n    },\n    {\n      \"column\": \"census\",\n      \"properties\": {\n        \"dtype\": \"number\",\n        \"std\": 626266111.5992833,\n        \"min\": 7334771614.0,\n        \"max\": 9408141302.0,\n        \"num_unique_values\": 35,\n        \"samples\": [\n          9030723366.0,\n          8276190519.0,\n          8925949679.0\n        ],\n        \"semantic_type\": \"\",\n        \"description\": \"\"\n      }\n    },\n    {\n      \"column\": \"prb\",\n      \"properties\": {\n        \"dtype\": \"number\",\n        \"std\": 930666606.9722998,\n        \"min\": 8000000000.0,\n        \"max\": 9804000000.0,\n        \"num_unique_values\": 3,\n        \"samples\": [\n          8000000000.0,\n          8505000000.0,\n          9804000000.0\n        ],\n        \"semantic_type\": \"\",\n        \"description\": \"\"\n      }\n    },\n    {\n      \"column\": \"un\",\n      \"properties\": {\n        \"dtype\": \"number\",\n        \"std\": 1220535359.8348126,\n        \"min\": 7432663280.0,\n        \"max\": 11213317000.0,\n        \"num_unique_values\": 18,\n        \"samples\": [\n          7432663280.0,\n          7758157000.0,\n          9968809000.0\n        ],\n        \"semantic_type\": \"\",\n        \"description\": \"\"\n      }\n    }\n  ]\n}"
            }
          },
          "metadata": {},
          "execution_count": 16
        }
      ],
      "source": [
        "table3.head()"
      ]
    },
    {
      "cell_type": "markdown",
      "id": "f62861c1",
      "metadata": {
        "id": "f62861c1"
      },
      "source": [
        "Some values are `NaN`, which indicates missing data, because some organizations did not publish projections for some years.\n",
        "The following function plots projections from the U.N. DESA and U.S. Census.  It uses `dropna` to remove the `NaN` values from each series before plotting it."
      ]
    },
    {
      "cell_type": "code",
      "execution_count": 17,
      "id": "paperback-delay",
      "metadata": {
        "id": "paperback-delay"
      },
      "outputs": [],
      "source": [
        "def plot_projections(table):\n",
        "    \"\"\"Plot world population projections.\n",
        "\n",
        "    table: DataFrame with columns 'un' and 'census'\n",
        "    \"\"\"\n",
        "    census_proj = table.census.dropna() / 1e9\n",
        "    un_proj = table.un.dropna() / 1e9\n",
        "\n",
        "    census_proj.plot(style=':', label='US Census')\n",
        "    un_proj.plot(style='--', label='UN DESA')\n",
        "\n",
        "    decorate(xlabel='Year',\n",
        "             ylabel='World population (billions)')"
      ]
    },
    {
      "cell_type": "markdown",
      "id": "prostate-matrix",
      "metadata": {
        "id": "prostate-matrix"
      },
      "source": [
        "Here are the professional projections compared to the results of the quadratic model."
      ]
    },
    {
      "cell_type": "code",
      "execution_count": 18,
      "id": "billion-dynamics",
      "metadata": {
        "id": "billion-dynamics",
        "colab": {
          "base_uri": "https://localhost:8080/",
          "height": 329
        },
        "outputId": "06b0ac8e-7c62-4c05-a171-12db84db104d"
      },
      "outputs": [
        {
          "output_type": "display_data",
          "data": {
            "text/plain": [
              "<Figure size 450x300 with 1 Axes>"
            ],
            "image/png": "[encoded data removed]"
          },
          "metadata": {}
        }
      ],
      "source": [
        "results.plot(color='gray', label='model')\n",
        "plot_projections(table3)\n",
        "decorate(title='Quadratic model projection, with UN and Census')"
      ]
    },
    {
      "cell_type": "markdown",
      "id": "integrated-there",
      "metadata": {
        "id": "integrated-there"
      },
      "source": [
        "The U.N. DESA expects the world population to reach 11 billion around 2100, and then level off.\n",
        "Projections by U.S. Census are a little lower, and they only go until 2050.\n",
        "\n"
      ]
    },
    {
      "cell_type": "markdown",
      "id": "serial-binary",
      "metadata": {
        "id": "serial-binary"
      },
      "source": [
        "## Summary\n",
        "\n",
        "In this chapter we use the quadratic growth model to project world population growth between now and 2100.\n",
        "\n",
        "Real demographers expect world population to grow more slowly than our model, probably because their models are broken down by region and country, where conditions are different, and they take into account expected economic development.\n",
        "\n",
        "Nevertheless, their projections are qualitatively similar to ours, and\n",
        "theirs differ from each other almost as much as they differ from ours.\n",
        "So the results from the model, simple as it is, are not entirely unreasonable.\n",
        "\n",
        "If you are interested in some of the factors that go into the professional projections, you might like this video by Hans Rosling about the demographic changes we expect this century: <https://www.youtube.com/watch?v=ezVk1ahRF78>."
      ]
    },
    {
      "cell_type": "markdown",
      "id": "automated-simpson",
      "metadata": {
        "id": "automated-simpson"
      },
      "source": [
        "## Exercises\n",
        "\n",
        "This chapter is available as a Jupyter notebook where you can read the text, run the code, and work on the exercises.\n",
        "You can access the notebooks at <https://allendowney.github.io/ModSimPy/>."
      ]
    },
    {
      "cell_type": "markdown",
      "id": "authorized-suggestion",
      "metadata": {
        "id": "authorized-suggestion"
      },
      "source": [
        "### Exercise 1\n",
        "\n",
        " The net growth rate of world population has been declining for several decades.  That observation suggests one more way to generate more realistic projections, by extrapolating observed changes in growth rate.\n",
        "\n",
        "To compute past growth rates, we'll use a function called `diff`, which computes the difference between successive elements in a `Series`.  For example, here are the changes from one year to the next in `census`:"
      ]
    },
    {
      "cell_type": "code",
      "execution_count": 19,
      "id": "handmade-funeral",
      "metadata": {
        "id": "handmade-funeral",
        "colab": {
          "base_uri": "https://localhost:8080/",
          "height": 257
        },
        "outputId": "16a2ad46-4190-4632-f50a-205c3f7cd43b"
      },
      "outputs": [
        {
          "output_type": "execute_result",
          "data": {
            "text/plain": [
              "        census\n",
              "Year          \n",
              "1950       NaN\n",
              "1951  0.037311\n",
              "1952  0.041832\n",
              "1953  0.045281\n",
              "1954  0.048175"
            ],
            "text/html": [
              "\n",
              "  <div id=\"df-ea728617-a847-4909-ad4f-099d868533c1\" class=\"colab-df-container\">\n",
              "    <div>\n",
              "<style scoped>\n",
              "    .dataframe tbody tr th:only-of-type {\n",
              "        vertical-align: middle;\n",
              "    }\n",
              "\n",
              "    .dataframe tbody tr th {\n",
              "        vertical-align: top;\n",
              "    }\n",
              "\n",
              "    .dataframe thead th {\n",
              "        text-align: right;\n",
              "    }\n",
              "</style>\n",
              "<table border=\"1\" class=\"dataframe\">\n",
              "  <thead>\n",
              "    <tr style=\"text-align: right;\">\n",
              "      <th></th>\n",
              "      <th>census</th>\n",
              "    </tr>\n",
              "    <tr>\n",
              "      <th>Year</th>\n",
              "      <th></th>\n",
              "    </tr>\n",
              "  </thead>\n",
              "  <tbody>\n",
              "    <tr>\n",
              "      <th>1950</th>\n",
              "      <td>NaN</td>\n",
              "    </tr>\n",
              "    <tr>\n",
              "      <th>1951</th>\n",
              "      <td>0.037311</td>\n",
              "    </tr>\n",
              "    <tr>\n",
              "      <th>1952</th>\n",
              "      <td>0.041832</td>\n",
              "    </tr>\n",
              "    <tr>\n",
              "      <th>1953</th>\n",
              "      <td>0.045281</td>\n",
              "    </tr>\n",
              "    <tr>\n",
              "      <th>1954</th>\n",
              "      <td>0.048175</td>\n",
              "    </tr>\n",
              "  </tbody>\n",
              "</table>\n",
              "</div>\n",
              "    <div class=\"colab-df-buttons\">\n",
              "\n",
              "  <div class=\"colab-df-container\">\n",
              "    <button class=\"colab-df-convert\" onclick=\"convertToInteractive('df-ea728617-a847-4909-ad4f-099d868533c1')\"\n",
              "            title=\"Convert this dataframe to an interactive table.\"\n",
              "            style=\"display:none;\">\n",
              "\n",
              "  <svg xmlns=\"http://www.w3.org/2000/svg\" height=\"24px\" viewBox=\"0 -960 960 960\">\n",
              "    <path d=\"M120-120v-720h720v720H120Zm60-500h600v-160H180v160Zm220 220h160v-160H400v160Zm0 220h160v-160H400v160ZM180-400h160v-160H180v160Zm440 0h160v-160H620v160ZM180-180h160v-160H180v160Zm440 0h160v-160H620v160Z\"/>\n",
              "  </svg>\n",
              "    </button>\n",
              "\n",
              "  <style>\n",
              "    .colab-df-container {\n",
              "      display:flex;\n",
              "      gap: 12px;\n",
              "    }\n",
              "\n",
              "    .colab-df-convert {\n",
              "      background-color: #E8F0FE;\n",
              "      border: none;\n",
              "      border-radius: 50%;\n",
              "      cursor: pointer;\n",
              "      display: none;\n",
              "      fill: #1967D2;\n",
              "      height: 32px;\n",
              "      padding: 0 0 0 0;\n",
              "      width: 32px;\n",
              "    }\n",
              "\n",
              "    .colab-df-convert:hover {\n",
              "      background-color: #E2EBFA;\n",
              "      box-shadow: 0px 1px 2px rgba(60, 64, 67, 0.3), 0px 1px 3px 1px rgba(60, 64, 67, 0.15);\n",
              "      fill: #174EA6;\n",
              "    }\n",
              "\n",
              "    .colab-df-buttons div {\n",
              "      margin-bottom: 4px;\n",
              "    }\n",
              "\n",
              "    [theme=dark] .colab-df-convert {\n",
              "      background-color: #3B4455;\n",
              "      fill: #D2E3FC;\n",
              "    }\n",
              "\n",
              "    [theme=dark] .colab-df-convert:hover {\n",
              "      background-color: #434B5C;\n",
              "      box-shadow: 0px 1px 3px 1px rgba(0, 0, 0, 0.15);\n",
              "      filter: drop-shadow(0px 1px 2px rgba(0, 0, 0, 0.3));\n",
              "      fill: #FFFFFF;\n",
              "    }\n",
              "  </style>\n",
              "\n",
              "    <script>\n",
              "      const buttonEl =\n",
              "        document.querySelector('#df-ea728617-a847-4909-ad4f-099d868533c1 button.colab-df-convert');\n",
              "      buttonEl.style.display =\n",
              "        google.colab.kernel.accessAllowed ? 'block' : 'none';\n",
              "\n",
              "      async function convertToInteractive(key) {\n",
              "        const element = document.querySelector('#df-ea728617-a847-4909-ad4f-099d868533c1');\n",
              "        const dataTable =\n",
              "          await google.colab.kernel.invokeFunction('convertToInteractive',\n",
              "                                                    [key], {});\n",
              "        if (!dataTable) return;\n",
              "\n",
              "        const docLinkHtml = 'Like what you see? Visit the ' +\n",
              "          '<a target=\"_blank\" href=https://colab.research.google.com/notebooks/data_table.ipynb>data table notebook</a>'\n",
              "          + ' to learn more about interactive tables.';\n",
              "        element.innerHTML = '';\n",
              "        dataTable['output_type'] = 'display_data';\n",
              "        await google.colab.output.renderOutput(dataTable, element);\n",
              "        const docLink = document.createElement('div');\n",
              "        docLink.innerHTML = docLinkHtml;\n",
              "        element.appendChild(docLink);\n",
              "      }\n",
              "    </script>\n",
              "  </div>\n",
              "\n",
              "\n",
              "<div id=\"df-0507abf6-068e-43ef-9010-40192e8ed069\">\n",
              "  <button class=\"colab-df-quickchart\" onclick=\"quickchart('df-0507abf6-068e-43ef-9010-40192e8ed069')\"\n",
              "            title=\"Suggest charts\"\n",
              "            style=\"display:none;\">\n",
              "\n",
              "<svg xmlns=\"http://www.w3.org/2000/svg\" height=\"24px\"viewBox=\"0 0 24 24\"\n",
              "     width=\"24px\">\n",
              "    <g>\n",
              "        <path d=\"M19 3H5c-1.1 0-2 .9-2 2v14c0 1.1.9 2 2 2h14c1.1 0 2-.9 2-2V5c0-1.1-.9-2-2-2zM9 17H7v-7h2v7zm4 0h-2V7h2v10zm4 0h-2v-4h2v4z\"/>\n",
              "    </g>\n",
              "</svg>\n",
              "  </button>\n",
              "\n",
              "<style>\n",
              "  .colab-df-quickchart {\n",
              "      --bg-color: #E8F0FE;\n",
              "      --fill-color: #1967D2;\n",
              "      --hover-bg-color: #E2EBFA;\n",
              "      --hover-fill-color: #174EA6;\n",
              "      --disabled-fill-color: #AAA;\n",
              "      --disabled-bg-color: #DDD;\n",
              "  }\n",
              "\n",
              "  [theme=dark] .colab-df-quickchart {\n",
              "      --bg-color: #3B4455;\n",
              "      --fill-color: #D2E3FC;\n",
              "      --hover-bg-color: #434B5C;\n",
              "      --hover-fill-color: #FFFFFF;\n",
              "      --disabled-bg-color: #3B4455;\n",
              "      --disabled-fill-color: #666;\n",
              "  }\n",
              "\n",
              "  .colab-df-quickchart {\n",
              "    background-color: var(--bg-color);\n",
              "    border: none;\n",
              "    border-radius: 50%;\n",
              "    cursor: pointer;\n",
              "    display: none;\n",
              "    fill: var(--fill-color);\n",
              "    height: 32px;\n",
              "    padding: 0;\n",
              "    width: 32px;\n",
              "  }\n",
              "\n",
              "  .colab-df-quickchart:hover {\n",
              "    background-color: var(--hover-bg-color);\n",
              "    box-shadow: 0 1px 2px rgba(60, 64, 67, 0.3), 0 1px 3px 1px rgba(60, 64, 67, 0.15);\n",
              "    fill: var(--button-hover-fill-color);\n",
              "  }\n",
              "\n",
              "  .colab-df-quickchart-complete:disabled,\n",
              "  .colab-df-quickchart-complete:disabled:hover {\n",
              "    background-color: var(--disabled-bg-color);\n",
              "    fill: var(--disabled-fill-color);\n",
              "    box-shadow: none;\n",
              "  }\n",
              "\n",
              "  .colab-df-spinner {\n",
              "    border: 2px solid var(--fill-color);\n",
              "    border-color: transparent;\n",
              "    border-bottom-color: var(--fill-color);\n",
              "    animation:\n",
              "      spin 1s steps(1) infinite;\n",
              "  }\n",
              "\n",
              "  @keyframes spin {\n",
              "    0% {\n",
              "      border-color: transparent;\n",
              "      border-bottom-color: var(--fill-color);\n",
              "      border-left-color: var(--fill-color);\n",
              "    }\n",
              "    20% {\n",
              "      border-color: transparent;\n",
              "      border-left-color: var(--fill-color);\n",
              "      border-top-color: var(--fill-color);\n",
              "    }\n",
              "    30% {\n",
              "      border-color: transparent;\n",
              "      border-left-color: var(--fill-color);\n",
              "      border-top-color: var(--fill-color);\n",
              "      border-right-color: var(--fill-color);\n",
              "    }\n",
              "    40% {\n",
              "      border-color: transparent;\n",
              "      border-right-color: var(--fill-color);\n",
              "      border-top-color: var(--fill-color);\n",
              "    }\n",
              "    60% {\n",
              "      border-color: transparent;\n",
              "      border-right-color: var(--fill-color);\n",
              "    }\n",
              "    80% {\n",
              "      border-color: transparent;\n",
              "      border-right-color: var(--fill-color);\n",
              "      border-bottom-color: var(--fill-color);\n",
              "    }\n",
              "    90% {\n",
              "      border-color: transparent;\n",
              "      border-bottom-color: var(--fill-color);\n",
              "    }\n",
              "  }\n",
              "</style>\n",
              "\n",
              "  <script>\n",
              "    async function quickchart(key) {\n",
              "      const quickchartButtonEl =\n",
              "        document.querySelector('#' + key + ' button');\n",
              "      quickchartButtonEl.disabled = true;  // To prevent multiple clicks.\n",
              "      quickchartButtonEl.classList.add('colab-df-spinner');\n",
              "      try {\n",
              "        const charts = await google.colab.kernel.invokeFunction(\n",
              "            'suggestCharts', [key], {});\n",
              "      } catch (error) {\n",
              "        console.error('Error during call to suggestCharts:', error);\n",
              "      }\n",
              "      quickchartButtonEl.classList.remove('colab-df-spinner');\n",
              "      quickchartButtonEl.classList.add('colab-df-quickchart-complete');\n",
              "    }\n",
              "    (() => {\n",
              "      let quickchartButtonEl =\n",
              "        document.querySelector('#df-0507abf6-068e-43ef-9010-40192e8ed069 button');\n",
              "      quickchartButtonEl.style.display =\n",
              "        google.colab.kernel.accessAllowed ? 'block' : 'none';\n",
              "    })();\n",
              "  </script>\n",
              "</div>\n",
              "\n",
              "    </div>\n",
              "  </div>\n"
            ],
            "application/vnd.google.colaboratory.intrinsic+json": {
              "type": "dataframe",
              "summary": "{\n  \"name\": \"show(diff\",\n  \"rows\": 5,\n  \"fields\": [\n    {\n      \"column\": \"Year\",\n      \"properties\": {\n        \"dtype\": \"number\",\n        \"std\": 1,\n        \"min\": 1950,\n        \"max\": 1954,\n        \"num_unique_values\": 5,\n        \"samples\": [\n          1951,\n          1954,\n          1952\n        ],\n        \"semantic_type\": \"\",\n        \"description\": \"\"\n      }\n    },\n    {\n      \"column\": \"census\",\n      \"properties\": {\n        \"dtype\": \"number\",\n        \"std\": 0.0046767718818383685,\n        \"min\": 0.03731122299999967,\n        \"max\": 0.048174715000000035,\n        \"num_unique_values\": 4,\n        \"samples\": [\n          0.04183242900000028,\n          0.048174715000000035,\n          0.03731122299999967\n        ],\n        \"semantic_type\": \"\",\n        \"description\": \"\"\n      }\n    }\n  ]\n}"
            }
          },
          "metadata": {},
          "execution_count": 19
        }
      ],
      "source": [
        "diff = census.diff()\n",
        "show(diff.head())"
      ]
    },
    {
      "cell_type": "markdown",
      "id": "discrete-scanner",
      "metadata": {
        "id": "discrete-scanner"
      },
      "source": [
        "The first element is `NaN` because we don't have the data for 1949, so we can't compute the first difference.\n",
        "\n",
        "If we divide these differences by the populations, the result is an estimate of the growth rate during each year:"
      ]
    },
    {
      "cell_type": "code",
      "execution_count": 20,
      "id": "objective-accused",
      "metadata": {
        "id": "objective-accused",
        "colab": {
          "base_uri": "https://localhost:8080/",
          "height": 257
        },
        "outputId": "ae3fc410-e766-4ba0-8e4d-936257a44901"
      },
      "outputs": [
        {
          "output_type": "execute_result",
          "data": {
            "text/plain": [
              "        census\n",
              "Year          \n",
              "1950       NaN\n",
              "1951  0.014378\n",
              "1952  0.015865\n",
              "1953  0.016883\n",
              "1954  0.017645"
            ],
            "text/html": [
              "\n",
              "  <div id=\"df-3d9e12b0-b79d-4300-8d76-b19919132c07\" class=\"colab-df-container\">\n",
              "    <div>\n",
              "<style scoped>\n",
              "    .dataframe tbody tr th:only-of-type {\n",
              "        vertical-align: middle;\n",
              "    }\n",
              "\n",
              "    .dataframe tbody tr th {\n",
              "        vertical-align: top;\n",
              "    }\n",
              "\n",
              "    .dataframe thead th {\n",
              "        text-align: right;\n",
              "    }\n",
              "</style>\n",
              "<table border=\"1\" class=\"dataframe\">\n",
              "  <thead>\n",
              "    <tr style=\"text-align: right;\">\n",
              "      <th></th>\n",
              "      <th>census</th>\n",
              "    </tr>\n",
              "    <tr>\n",
              "      <th>Year</th>\n",
              "      <th></th>\n",
              "    </tr>\n",
              "  </thead>\n",
              "  <tbody>\n",
              "    <tr>\n",
              "      <th>1950</th>\n",
              "      <td>NaN</td>\n",
              "    </tr>\n",
              "    <tr>\n",
              "      <th>1951</th>\n",
              "      <td>0.014378</td>\n",
              "    </tr>\n",
              "    <tr>\n",
              "      <th>1952</th>\n",
              "      <td>0.015865</td>\n",
              "    </tr>\n",
              "    <tr>\n",
              "      <th>1953</th>\n",
              "      <td>0.016883</td>\n",
              "    </tr>\n",
              "    <tr>\n",
              "      <th>1954</th>\n",
              "      <td>0.017645</td>\n",
              "    </tr>\n",
              "  </tbody>\n",
              "</table>\n",
              "</div>\n",
              "    <div class=\"colab-df-buttons\">\n",
              "\n",
              "  <div class=\"colab-df-container\">\n",
              "    <button class=\"colab-df-convert\" onclick=\"convertToInteractive('df-3d9e12b0-b79d-4300-8d76-b19919132c07')\"\n",
              "            title=\"Convert this dataframe to an interactive table.\"\n",
              "            style=\"display:none;\">\n",
              "\n",
              "  <svg xmlns=\"http://www.w3.org/2000/svg\" height=\"24px\" viewBox=\"0 -960 960 960\">\n",
              "    <path d=\"M120-120v-720h720v720H120Zm60-500h600v-160H180v160Zm220 220h160v-160H400v160Zm0 220h160v-160H400v160ZM180-400h160v-160H180v160Zm440 0h160v-160H620v160ZM180-180h160v-160H180v160Zm440 0h160v-160H620v160Z\"/>\n",
              "  </svg>\n",
              "    </button>\n",
              "\n",
              "  <style>\n",
              "    .colab-df-container {\n",
              "      display:flex;\n",
              "      gap: 12px;\n",
              "    }\n",
              "\n",
              "    .colab-df-convert {\n",
              "      background-color: #E8F0FE;\n",
              "      border: none;\n",
              "      border-radius: 50%;\n",
              "      cursor: pointer;\n",
              "      display: none;\n",
              "      fill: #1967D2;\n",
              "      height: 32px;\n",
              "      padding: 0 0 0 0;\n",
              "      width: 32px;\n",
              "    }\n",
              "\n",
              "    .colab-df-convert:hover {\n",
              "      background-color: #E2EBFA;\n",
              "      box-shadow: 0px 1px 2px rgba(60, 64, 67, 0.3), 0px 1px 3px 1px rgba(60, 64, 67, 0.15);\n",
              "      fill: #174EA6;\n",
              "    }\n",
              "\n",
              "    .colab-df-buttons div {\n",
              "      margin-bottom: 4px;\n",
              "    }\n",
              "\n",
              "    [theme=dark] .colab-df-convert {\n",
              "      background-color: #3B4455;\n",
              "      fill: #D2E3FC;\n",
              "    }\n",
              "\n",
              "    [theme=dark] .colab-df-convert:hover {\n",
              "      background-color: #434B5C;\n",
              "      box-shadow: 0px 1px 3px 1px rgba(0, 0, 0, 0.15);\n",
              "      filter: drop-shadow(0px 1px 2px rgba(0, 0, 0, 0.3));\n",
              "      fill: #FFFFFF;\n",
              "    }\n",
              "  </style>\n",
              "\n",
              "    <script>\n",
              "      const buttonEl =\n",
              "        document.querySelector('#df-3d9e12b0-b79d-4300-8d76-b19919132c07 button.colab-df-convert');\n",
              "      buttonEl.style.display =\n",
              "        google.colab.kernel.accessAllowed ? 'block' : 'none';\n",
              "\n",
              "      async function convertToInteractive(key) {\n",
              "        const element = document.querySelector('#df-3d9e12b0-b79d-4300-8d76-b19919132c07');\n",
              "        const dataTable =\n",
              "          await google.colab.kernel.invokeFunction('convertToInteractive',\n",
              "                                                    [key], {});\n",
              "        if (!dataTable) return;\n",
              "\n",
              "        const docLinkHtml = 'Like what you see? Visit the ' +\n",
              "          '<a target=\"_blank\" href=https://colab.research.google.com/notebooks/data_table.ipynb>data table notebook</a>'\n",
              "          + ' to learn more about interactive tables.';\n",
              "        element.innerHTML = '';\n",
              "        dataTable['output_type'] = 'display_data';\n",
              "        await google.colab.output.renderOutput(dataTable, element);\n",
              "        const docLink = document.createElement('div');\n",
              "        docLink.innerHTML = docLinkHtml;\n",
              "        element.appendChild(docLink);\n",
              "      }\n",
              "    </script>\n",
              "  </div>\n",
              "\n",
              "\n",
              "<div id=\"df-ea26855d-4a35-47e1-9bb0-ff9bd4a5330a\">\n",
              "  <button class=\"colab-df-quickchart\" onclick=\"quickchart('df-ea26855d-4a35-47e1-9bb0-ff9bd4a5330a')\"\n",
              "            title=\"Suggest charts\"\n",
              "            style=\"display:none;\">\n",
              "\n",
              "<svg xmlns=\"http://www.w3.org/2000/svg\" height=\"24px\"viewBox=\"0 0 24 24\"\n",
              "     width=\"24px\">\n",
              "    <g>\n",
              "        <path d=\"M19 3H5c-1.1 0-2 .9-2 2v14c0 1.1.9 2 2 2h14c1.1 0 2-.9 2-2V5c0-1.1-.9-2-2-2zM9 17H7v-7h2v7zm4 0h-2V7h2v10zm4 0h-2v-4h2v4z\"/>\n",
              "    </g>\n",
              "</svg>\n",
              "  </button>\n",
              "\n",
              "<style>\n",
              "  .colab-df-quickchart {\n",
              "      --bg-color: #E8F0FE;\n",
              "      --fill-color: #1967D2;\n",
              "      --hover-bg-color: #E2EBFA;\n",
              "      --hover-fill-color: #174EA6;\n",
              "      --disabled-fill-color: #AAA;\n",
              "      --disabled-bg-color: #DDD;\n",
              "  }\n",
              "\n",
              "  [theme=dark] .colab-df-quickchart {\n",
              "      --bg-color: #3B4455;\n",
              "      --fill-color: #D2E3FC;\n",
              "      --hover-bg-color: #434B5C;\n",
              "      --hover-fill-color: #FFFFFF;\n",
              "      --disabled-bg-color: #3B4455;\n",
              "      --disabled-fill-color: #666;\n",
              "  }\n",
              "\n",
              "  .colab-df-quickchart {\n",
              "    background-color: var(--bg-color);\n",
              "    border: none;\n",
              "    border-radius: 50%;\n",
              "    cursor: pointer;\n",
              "    display: none;\n",
              "    fill: var(--fill-color);\n",
              "    height: 32px;\n",
              "    padding: 0;\n",
              "    width: 32px;\n",
              "  }\n",
              "\n",
              "  .colab-df-quickchart:hover {\n",
              "    background-color: var(--hover-bg-color);\n",
              "    box-shadow: 0 1px 2px rgba(60, 64, 67, 0.3), 0 1px 3px 1px rgba(60, 64, 67, 0.15);\n",
              "    fill: var(--button-hover-fill-color);\n",
              "  }\n",
              "\n",
              "  .colab-df-quickchart-complete:disabled,\n",
              "  .colab-df-quickchart-complete:disabled:hover {\n",
              "    background-color: var(--disabled-bg-color);\n",
              "    fill: var(--disabled-fill-color);\n",
              "    box-shadow: none;\n",
              "  }\n",
              "\n",
              "  .colab-df-spinner {\n",
              "    border: 2px solid var(--fill-color);\n",
              "    border-color: transparent;\n",
              "    border-bottom-color: var(--fill-color);\n",
              "    animation:\n",
              "      spin 1s steps(1) infinite;\n",
              "  }\n",
              "\n",
              "  @keyframes spin {\n",
              "    0% {\n",
              "      border-color: transparent;\n",
              "      border-bottom-color: var(--fill-color);\n",
              "      border-left-color: var(--fill-color);\n",
              "    }\n",
              "    20% {\n",
              "      border-color: transparent;\n",
              "      border-left-color: var(--fill-color);\n",
              "      border-top-color: var(--fill-color);\n",
              "    }\n",
              "    30% {\n",
              "      border-color: transparent;\n",
              "      border-left-color: var(--fill-color);\n",
              "      border-top-color: var(--fill-color);\n",
              "      border-right-color: var(--fill-color);\n",
              "    }\n",
              "    40% {\n",
              "      border-color: transparent;\n",
              "      border-right-color: var(--fill-color);\n",
              "      border-top-color: var(--fill-color);\n",
              "    }\n",
              "    60% {\n",
              "      border-color: transparent;\n",
              "      border-right-color: var(--fill-color);\n",
              "    }\n",
              "    80% {\n",
              "      border-color: transparent;\n",
              "      border-right-color: var(--fill-color);\n",
              "      border-bottom-color: var(--fill-color);\n",
              "    }\n",
              "    90% {\n",
              "      border-color: transparent;\n",
              "      border-bottom-color: var(--fill-color);\n",
              "    }\n",
              "  }\n",
              "</style>\n",
              "\n",
              "  <script>\n",
              "    async function quickchart(key) {\n",
              "      const quickchartButtonEl =\n",
              "        document.querySelector('#' + key + ' button');\n",
              "      quickchartButtonEl.disabled = true;  // To prevent multiple clicks.\n",
              "      quickchartButtonEl.classList.add('colab-df-spinner');\n",
              "      try {\n",
              "        const charts = await google.colab.kernel.invokeFunction(\n",
              "            'suggestCharts', [key], {});\n",
              "      } catch (error) {\n",
              "        console.error('Error during call to suggestCharts:', error);\n",
              "      }\n",
              "      quickchartButtonEl.classList.remove('colab-df-spinner');\n",
              "      quickchartButtonEl.classList.add('colab-df-quickchart-complete');\n",
              "    }\n",
              "    (() => {\n",
              "      let quickchartButtonEl =\n",
              "        document.querySelector('#df-ea26855d-4a35-47e1-9bb0-ff9bd4a5330a button');\n",
              "      quickchartButtonEl.style.display =\n",
              "        google.colab.kernel.accessAllowed ? 'block' : 'none';\n",
              "    })();\n",
              "  </script>\n",
              "</div>\n",
              "\n",
              "    </div>\n",
              "  </div>\n"
            ],
            "application/vnd.google.colaboratory.intrinsic+json": {
              "type": "dataframe",
              "summary": "{\n  \"name\": \"show(alpha\",\n  \"rows\": 5,\n  \"fields\": [\n    {\n      \"column\": \"Year\",\n      \"properties\": {\n        \"dtype\": \"number\",\n        \"std\": 1,\n        \"min\": 1950,\n        \"max\": 1954,\n        \"num_unique_values\": 5,\n        \"samples\": [\n          1951,\n          1954,\n          1952\n        ],\n        \"semantic_type\": \"\",\n        \"description\": \"\"\n      }\n    },\n    {\n      \"column\": \"census\",\n      \"properties\": {\n        \"dtype\": \"number\",\n        \"std\": 0.0014123708623121512,\n        \"min\": 0.014378453747889926,\n        \"max\": 0.01764494143526699,\n        \"num_unique_values\": 4,\n        \"samples\": [\n          0.01586501379160051,\n          0.01764494143526699,\n          0.014378453747889926\n        ],\n        \"semantic_type\": \"\",\n        \"description\": \"\"\n      }\n    }\n  ]\n}"
            }
          },
          "metadata": {},
          "execution_count": 20
        }
      ],
      "source": [
        "alpha = census.diff() / census\n",
        "show(alpha.head())"
      ]
    },
    {
      "cell_type": "markdown",
      "id": "weighted-trouble",
      "metadata": {
        "id": "weighted-trouble"
      },
      "source": [
        "The following function computes and plots the growth rates for the `census` and `un` estimates:"
      ]
    },
    {
      "cell_type": "code",
      "execution_count": 26,
      "id": "unique-matrix",
      "metadata": {
        "id": "unique-matrix"
      },
      "outputs": [],
      "source": [
        "def plot_alpha():\n",
        "    alpha_census = census.diff() / census\n",
        "    alpha_census.plot(style='.', label='US Census')\n",
        "\n",
        "    alpha_un = un.diff() / un\n",
        "    alpha_un.plot(style='.', label='UN DESA')\n",
        "\n",
        "    decorate(xlabel='Year', ylabel='Net growth rate')"
      ]
    },
    {
      "cell_type": "markdown",
      "id": "flexible-amateur",
      "metadata": {
        "id": "flexible-amateur"
      },
      "source": [
        "It uses `style='.'` to plot each data point with a small circle.\n",
        "And here's what it looks like."
      ]
    },
    {
      "cell_type": "code",
      "execution_count": 27,
      "id": "pressing-proceeding",
      "metadata": {
        "id": "pressing-proceeding",
        "colab": {
          "base_uri": "https://localhost:8080/",
          "height": 329
        },
        "outputId": "af5409f6-7dfd-4bc1-a7fa-1a14266a4e9c"
      },
      "outputs": [
        {
          "output_type": "display_data",
          "data": {
            "text/plain": [
              "<Figure size 450x300 with 1 Axes>"
            ],
            "image/png": "[encoded data removed]"
          },
          "metadata": {}
        }
      ],
      "source": [
        "plot_alpha()"
      ]
    },
    {
      "cell_type": "markdown",
      "id": "cross-reducing",
      "metadata": {
        "id": "cross-reducing"
      },
      "source": [
        "Other than a bump around 1990, the net growth rate has been declining roughly linearly since 1970.\n",
        "\n",
        "We can model the decline by fitting a line to this data and extrapolating into the future.\n",
        "Here's a function that takes a time stamp and computes a line that roughly fits the growth rates since 1970."
      ]
    },
    {
      "cell_type": "code",
      "execution_count": 23,
      "id": "mexican-denver",
      "metadata": {
        "id": "mexican-denver"
      },
      "outputs": [],
      "source": [
        "def alpha_func(t):\n",
        "    intercept = 0.02\n",
        "    slope = -0.00021\n",
        "    return intercept + slope * (t - 1970)"
      ]
    },
    {
      "cell_type": "markdown",
      "id": "handy-dubai",
      "metadata": {
        "id": "handy-dubai"
      },
      "source": [
        "To see what it looks like, I'll create an array of time stamps from 1960 to 2020 and use `alpha_func` to compute the corresponding growth rates."
      ]
    },
    {
      "cell_type": "code",
      "execution_count": 24,
      "id": "addressed-worker",
      "metadata": {
        "id": "addressed-worker"
      },
      "outputs": [],
      "source": [
        "t_array = linspace(1960, 2020, 5)\n",
        "alpha_array = alpha_func(t_array)"
      ]
    },
    {
      "cell_type": "markdown",
      "id": "jewish-operations",
      "metadata": {
        "id": "jewish-operations"
      },
      "source": [
        "Here's what it looks like, compared to the data."
      ]
    },
    {
      "cell_type": "code",
      "execution_count": 25,
      "id": "cathedral-shakespeare",
      "metadata": {
        "id": "cathedral-shakespeare",
        "colab": {
          "base_uri": "https://localhost:8080/",
          "height": 329
        },
        "outputId": "bef132af-c562-458f-f48a-3ab44d303bf6"
      },
      "outputs": [
        {
          "output_type": "display_data",
          "data": {
            "text/plain": [
              "<Figure size 450x300 with 1 Axes>"
            ],
            "image/png": "[encoded data removed]"
          },
          "metadata": {}
        }
      ],
      "source": [
        "from matplotlib.pyplot import plot\n",
        "\n",
        "plot_alpha()\n",
        "plot(t_array, alpha_array, label='model', color='gray')\n",
        "\n",
        "decorate(ylabel='Net growth rate',\n",
        "         title='Linear model of net growth rate')"
      ]
    },
    {
      "cell_type": "markdown",
      "id": "expensive-viewer",
      "metadata": {
        "id": "expensive-viewer"
      },
      "source": [
        "If you don't like the `slope` and `intercept` I chose, feel free to adjust them.\n",
        "\n",
        "Now, as an exercise, you can use this function to project world population until 2100.\n",
        "\n",
        "1. Create a `System` object that includes `alpha_func` as a system parameter.\n",
        "\n",
        "2. Define a growth function that uses `alpha_func` to compute the net growth rate at the given time `t`.\n",
        "\n",
        "3. Run a simulation from 1960 to 2100 with your growth function, and plot the results.\n",
        "\n",
        "4. Compare your projections with those from the US Census and UN."
      ]
    },
    {
      "cell_type": "code",
      "execution_count": 28,
      "id": "common-april",
      "metadata": {
        "id": "common-april"
      },
      "outputs": [],
      "source": [
        "# Solution goes here\n",
        "class System:\n",
        "    def __init__(self, init_pop, end_year, alpha_func):\n",
        "        self.init_pop = init_pop\n",
        "        self.end_year = end_year\n",
        "        self.alpha_func = alpha_func\n",
        "\n",
        "system = System(init_pop=3e9, end_year=2100, alpha_func=alpha_func)"
      ]
    },
    {
      "cell_type": "code",
      "execution_count": 29,
      "id": "ignored-chain",
      "metadata": {
        "id": "ignored-chain"
      },
      "outputs": [],
      "source": [
        "# Solution goes here\n",
        "def growth_function(pop, t, system):\n",
        "    alpha = system.alpha_func(t)\n",
        "    return alpha * pop"
      ]
    },
    {
      "cell_type": "code",
      "execution_count": 30,
      "id": "color-accountability",
      "metadata": {
        "id": "color-accountability"
      },
      "outputs": [],
      "source": [
        "# Solution goes here\n",
        "def run_simulation(system):\n",
        "    results = []\n",
        "    t = 1960\n",
        "    pop = system.init_pop\n",
        "\n",
        "    while t <= system.end_year:\n",
        "        results.append((t, pop))\n",
        "        growth = growth_function(pop, t, system)\n",
        "        pop += growth\n",
        "        t += 1\n",
        "\n",
        "    return results\n",
        "\n",
        "# Run the simulation\n",
        "simulation_results = run_simulation(system)"
      ]
    },
    {
      "cell_type": "code",
      "execution_count": 31,
      "id": "numeric-raise",
      "metadata": {
        "id": "numeric-raise",
        "colab": {
          "base_uri": "https://localhost:8080/",
          "height": 388
        },
        "outputId": "02967527-3612-485f-b7b3-0e35c42b0d49"
      },
      "outputs": [
        {
          "output_type": "display_data",
          "data": {
            "text/plain": [
              "<Figure size 750x375 with 1 Axes>"
            ],
            "image/png": "[encoded data removed]"
          },
          "metadata": {}
        }
      ],
      "source": [
        "# Solution goes here\n",
        "import matplotlib.pyplot as plt\n",
        "\n",
        "def plot_results(simulation_results):\n",
        "    years, populations = zip(*simulation_results)\n",
        "    plt.figure(figsize=(10, 5))\n",
        "    plt.plot(years, populations, label='Simulated Population')\n",
        "    plt.title('Projected World Population')\n",
        "    plt.xlabel('Year')\n",
        "    plt.ylabel('Population')\n",
        "    plt.legend()\n",
        "    plt.show()\n",
        "\n",
        "# Plot\n",
        "plot_results(simulation_results)"
      ]
    },
    {
      "cell_type": "code",
      "execution_count": null,
      "id": "included-vehicle",
      "metadata": {
        "id": "included-vehicle"
      },
      "outputs": [],
      "source": [
        "# Solution goes here"
      ]
    },
    {
      "cell_type": "code",
      "execution_count": null,
      "id": "brown-rating",
      "metadata": {
        "id": "brown-rating"
      },
      "outputs": [],
      "source": [
        "# Solution goes here"
      ]
    },
    {
      "cell_type": "code",
      "execution_count": null,
      "id": "laughing-cylinder",
      "metadata": {
        "id": "laughing-cylinder"
      },
      "outputs": [],
      "source": [
        "# Solution goes here"
      ]
    },
    {
      "cell_type": "code",
      "execution_count": null,
      "id": "personalized-parking",
      "metadata": {
        "id": "personalized-parking"
      },
      "outputs": [],
      "source": [
        "# Solution goes here"
      ]
    },
    {
      "cell_type": "code",
      "execution_count": null,
      "id": "simple-version",
      "metadata": {
        "id": "simple-version"
      },
      "outputs": [],
      "source": []
    }
  ],
  "metadata": {
    "celltoolbar": "Tags",
    "kernelspec": {
      "display_name": "Python 3 (ipykernel)",
      "language": "python",
      "name": "python3"
    },
    "language_info": {
      "codemirror_mode": {
        "name": "ipython",
        "version": 3
      },
      "file_extension": ".py",
      "mimetype": "text/x-python",
      "name": "python",
      "nbconvert_exporter": "python",
      "pygments_lexer": "ipython3",
      "version": "3.10.6"
    },
    "colab": {
      "provenance": []
    }
  },
  "nbformat": 4,
  "nbformat_minor": 5
}