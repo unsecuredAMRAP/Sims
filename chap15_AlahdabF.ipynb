{
  "cells": [
    {
      "cell_type": "markdown",
      "id": "romantic-speech",
      "metadata": {
        "id": "romantic-speech"
      },
      "source": [
        "# Cooling Coffee"
      ]
    },
    {
      "cell_type": "markdown",
      "id": "higher-button",
      "metadata": {
        "tags": [],
        "id": "higher-button"
      },
      "source": [
        "*Modeling and Simulation in Python*\n",
        "\n",
        "Copyright 2021 Allen Downey\n",
        "\n",
        "License: [Creative Commons Attribution-NonCommercial-ShareAlike 4.0 International](https://creativecommons.org/licenses/by-nc-sa/4.0/)"
      ]
    },
    {
      "cell_type": "code",
      "execution_count": 1,
      "id": "dependent-monitoring",
      "metadata": {
        "tags": [],
        "id": "dependent-monitoring",
        "colab": {
          "base_uri": "https://localhost:8080/"
        },
        "outputId": "390c304f-b9ed-442f-c1ef-5021b1479fba"
      },
      "outputs": [
        {
          "output_type": "stream",
          "name": "stdout",
          "text": [
            "Downloaded modsim.py\n"
          ]
        }
      ],
      "source": [
        "# download modsim.py if necessary\n",
        "\n",
        "from os.path import basename, exists\n",
        "\n",
        "def download(url):\n",
        "    filename = basename(url)\n",
        "    if not exists(filename):\n",
        "        from urllib.request import urlretrieve\n",
        "        local, _ = urlretrieve(url, filename)\n",
        "        print('Downloaded ' + local)\n",
        "\n",
        "download('https://github.com/AllenDowney/ModSimPy/raw/master/' +\n",
        "         'modsim.py')"
      ]
    },
    {
      "cell_type": "code",
      "execution_count": 2,
      "id": "continental-decrease",
      "metadata": {
        "tags": [],
        "id": "continental-decrease"
      },
      "outputs": [],
      "source": [
        "# import functions from modsim\n",
        "\n",
        "from modsim import *"
      ]
    },
    {
      "cell_type": "markdown",
      "id": "moving-trademark",
      "metadata": {
        "tags": [],
        "id": "moving-trademark"
      },
      "source": [
        "This chapter is available as a Jupyter notebook where you can read the text, run the code, and work on the exercises.\n",
        "Click here to access the notebooks: <https://allendowney.github.io/ModSimPy/>."
      ]
    },
    {
      "cell_type": "markdown",
      "id": "capital-needle",
      "metadata": {
        "id": "capital-needle"
      },
      "source": [
        "So far the systems we have studied have been physical in the sense that they exist in the world, but they have not been physics in the sense of what physics classes are usually about. In the next few chapters, we'll do some physics, starting with *thermal systems*, that is, systems where the temperature of objects changes as heat transfers from one to another."
      ]
    },
    {
      "cell_type": "markdown",
      "id": "working-senator",
      "metadata": {
        "id": "working-senator"
      },
      "source": [
        "## The Coffee Cooling Problem\n",
        "\n",
        "The coffee cooling problem was discussed by Jearl Walker in\n",
        "\"The Amateur Scientist\", *Scientific American*, Volume 237, Issue 5, November 1977. Since then it has become a standard example of modeling and simulation.\n",
        "\n",
        "Here is my version of the problem:\n",
        "\n",
        "> Suppose I stop on the way to work to pick up a cup of coffee and a small container of milk. Assuming that I want the coffee to be as hot as possible when I arrive at work, should I add the milk at the coffee shop, wait until I get to work, or add the milk at some point in between?"
      ]
    },
    {
      "cell_type": "markdown",
      "id": "backed-steel",
      "metadata": {
        "id": "backed-steel"
      },
      "source": [
        "To help answer this question, I made a trial run with the milk and\n",
        "coffee in separate containers and took some measurements (not really):\n",
        "\n",
        "-   When served, the temperature of the coffee is 90 °C. The volume is\n",
        "    300 mL.\n",
        "\n",
        "-   The milk is at an initial temperature of 5 °C, and I take about\n",
        "    50 mL.\n",
        "\n",
        "-   The ambient temperature in my car is 22 °C.\n",
        "\n",
        "-   The coffee is served in a well insulated cup. When I arrive at work after 30 minutes, the temperature of the coffee has fallen to 70 °C.\n",
        "\n",
        "-   The milk container is not as well insulated. After 15 minutes, it\n",
        "    warms up to 20 °C, nearly the ambient temperature.\n",
        "\n",
        "To use this data and answer the question, we have to know something\n",
        "about temperature and heat, and we have to make some modeling decisions."
      ]
    },
    {
      "cell_type": "markdown",
      "id": "retired-noise",
      "metadata": {
        "id": "retired-noise"
      },
      "source": [
        "## Temperature and Heat\n",
        "\n",
        "To understand how coffee cools (and milk warms), we need a model of\n",
        "temperature and heat. *Temperature* is a property of an object or a\n",
        "system; in SI units it is measured in degrees Celsius (°C). Temperature quantifies how hot or cold the object is, which is related to the average velocity of the particles that make it up.\n",
        "\n",
        "When particles in a hot object contact particles in a cold object, the\n",
        "hot object gets cooler and the cold object gets warmer as energy is\n",
        "transferred from one to the other. The transferred energy is called\n",
        "*heat*; in SI units it is measured in joules (J).\n",
        "\n",
        "Heat is related to temperature by the following equation (see\n",
        "<http://modsimpy.com/thermass>):\n",
        "\n",
        "$$Q = C~\\Delta T$$\n",
        "\n",
        "where $Q$ is the amount of heat transferred to an object, $\\Delta T$ is the resulting change in temperature, and $C$ is the object's *thermal mass*, which is a property of the object that determines how much energy it takes to heat or cool it. In SI units, thermal mass is measured in joules per degree Celsius (J/°C)."
      ]
    },
    {
      "cell_type": "markdown",
      "id": "upper-johnson",
      "metadata": {
        "id": "upper-johnson"
      },
      "source": [
        "For objects made primarily from one material, thermal mass can be\n",
        "computed like this:\n",
        "\n",
        "$$C = m c_p$$\n",
        "\n",
        "where $m$ is the mass of the object and $c_p$ is the *specific heat capacity* of the material, which is the amount of thermal mass per gram (see <http://modsimpy.com/specheat>).\n",
        "\n",
        "We can use these equations to estimate the thermal mass of a cup of\n",
        "coffee. The specific heat capacity of coffee is probably close to that\n",
        "of water, which is 4.2 J/g/°C. Assuming that the density of coffee is\n",
        "close to that of water, which is 1 g/mL, the mass of 300 mL of coffee is 300 g, and the thermal mass is 1260 J/°C.\n",
        "\n",
        "So when a cup of coffee cools from 90 °C to 70 °C, the change in\n",
        "temperature, $\\Delta T$ is 20 °C, which means that 25 200 J of heat\n",
        "energy was transferred from the cup and the coffee to the surrounding environment\n",
        "(the cup holder and air in my car).\n",
        "\n",
        "To give you a sense of how much energy that is, if you were able to\n",
        "harness all of that heat to do work (which you cannot), you could\n",
        "use it to lift a cup of coffee from sea level to 8571 m, just shy of the height of Mount Everest, 8848 m."
      ]
    },
    {
      "cell_type": "markdown",
      "id": "closed-vegetable",
      "metadata": {
        "id": "closed-vegetable"
      },
      "source": [
        "## Heat Transfer\n",
        "\n",
        "In a situation like the coffee cooling problem, there are three ways\n",
        "heat transfers from one object to another (see <http://modsimpy.com/transfer>):\n",
        "\n",
        "-   Conduction: When objects at different temperatures come into\n",
        "    contact, the faster-moving particles of the higher-temperature\n",
        "    object transfer kinetic energy to the slower-moving particles of the lower-temperature object.\n",
        "\n",
        "-   Convection: When particles in a gas or liquid flow from place to\n",
        "    place, they carry heat energy with them. Fluid flows can be caused\n",
        "    by external action, like stirring, or by internal differences in\n",
        "    temperature. For example, you might have heard that hot air rises,\n",
        "    which is a form of \"natural convection\".\n",
        "\n",
        "-   Radiation: As the particles in an object move due to thermal energy,\n",
        "    they emit electromagnetic radiation. The energy carried by this\n",
        "    radiation depends on the object's temperature and surface properties\n",
        "    (see <http://modsimpy.com/thermrad>)."
      ]
    },
    {
      "cell_type": "markdown",
      "id": "valuable-shark",
      "metadata": {
        "id": "valuable-shark"
      },
      "source": [
        "For objects like coffee in a car, the effect of radiation is much\n",
        "smaller than the effects of conduction and convection, so we will ignore it.\n",
        "\n",
        "Convection can be a complex topic, since it often depends on details of fluid flow in three dimensions. But for this problem we will be able to get away with a simple model called \"Newton's law of cooling\"."
      ]
    },
    {
      "cell_type": "markdown",
      "id": "freelance-target",
      "metadata": {
        "id": "freelance-target"
      },
      "source": [
        "## Newton's Law of Cooling\n",
        "\n",
        "*Newton's law of cooling* asserts that the temperature rate of change for an object is proportional to the difference in temperature between the object and the surrounding environment:\n",
        "\n",
        "$$\\frac{dT}{dt} = -r (T - T_{env})$$\n",
        "\n",
        "where $t$ is time, $T$ is the temperature of the object, $T_{env}$ is the temperature of the environment, and $r$ is a constant that characterizes how quickly heat is transferred between the object and the environment."
      ]
    },
    {
      "cell_type": "markdown",
      "id": "corrected-attachment",
      "metadata": {
        "id": "corrected-attachment"
      },
      "source": [
        "Newton's so-called \"law \" is really a model: it is a good approximation in some conditions and less good in others.\n",
        "\n",
        "For example, if the primary mechanism of heat transfer is conduction,\n",
        "Newton's law is \"true\", which is to say that $r$ is constant over a\n",
        "wide range of temperatures. And sometimes we can estimate $r$ based on\n",
        "the material properties and shape of the object.\n",
        "\n",
        "When convection contributes a non-negligible fraction of heat transfer, $r$ depends on temperature, but Newton's law is often accurate enough, at least over a narrow range of temperatures. In this case $r$ usually has to be estimated experimentally, since it depends on details of surface shape, air flow, evaporation, etc.\n",
        "\n",
        "When radiation makes up a substantial part of heat transfer, Newton's\n",
        "law is not a good model at all. This is the case for objects in space or in a vacuum, and for objects at high temperatures (more than a few\n",
        "hundred degrees Celsius, say).\n",
        "\n",
        "However, for a situation like the coffee cooling problem, we expect Newton's model to be quite good.\n",
        "\n",
        "With that, we have just one more modeling decision to make: whether to treat the coffee and the cup as separate objects or a single object. If the cup is made of paper, it has less mass than the coffee, and the specific heat capacity of paper is lower, too. In that case, it would be reasonable to treat the cup and coffee as a single object. For a cup with substantial thermal mass, like a ceramic mug, we might consider a model that computes the temperature of coffee and cup separately."
      ]
    },
    {
      "cell_type": "markdown",
      "id": "selective-video",
      "metadata": {
        "id": "selective-video"
      },
      "source": [
        "## Implementing Newtonian Cooling\n",
        "\n",
        "To get started, we'll focus on the coffee. Then, as an exercise, you can simulate the milk. In the next chapter, we'll put them together, literally.\n",
        "\n",
        "Here's a function that takes the parameters of the system and makes a `System` object:"
      ]
    },
    {
      "cell_type": "code",
      "execution_count": 3,
      "id": "incredible-greeting",
      "metadata": {
        "tags": [],
        "id": "incredible-greeting"
      },
      "outputs": [],
      "source": [
        "def make_system(T_init, volume, r, t_end):\n",
        "    return System(T_init=T_init,\n",
        "                  T_final=T_init,\n",
        "                  volume=volume,\n",
        "                  r=r,\n",
        "                  t_end=t_end,\n",
        "                  T_env=22,\n",
        "                  t_0=0,\n",
        "                  dt=1)"
      ]
    },
    {
      "cell_type": "markdown",
      "id": "gross-appeal",
      "metadata": {
        "id": "gross-appeal"
      },
      "source": [
        "In addition to the parameters, `make_system` sets the temperature of the environment, `T_env`, the initial time stamp, `t_0`, and the time step, `dt`, which we will use to simulate the cooling process.\n",
        "Here's a `System` object that represents the coffee."
      ]
    },
    {
      "cell_type": "code",
      "execution_count": 4,
      "id": "fuzzy-support",
      "metadata": {
        "id": "fuzzy-support"
      },
      "outputs": [],
      "source": [
        "coffee = make_system(T_init=90, volume=300, r=0.01, t_end=30)"
      ]
    },
    {
      "cell_type": "markdown",
      "id": "rental-pearl",
      "metadata": {
        "id": "rental-pearl"
      },
      "source": [
        "The values of `T_init`, `volume`, and `t_end` come from the statement of the problem.\n",
        "I chose the value of `r` arbitrarily for now; we will see how to estimate it soon.\n",
        "\n",
        "Strictly speaking, Newton's law is a differential equation, but over a short period of time we can approximate it with a difference equation:\n",
        "\n",
        "$$\\Delta T = -r (T - T_{env}) dt$$\n",
        "\n",
        "where $dt$ is the time step and $\\Delta T$ is the change in temperature during that time step.\n",
        "\n",
        "Note: I use $\\Delta T$ to denote a change in temperature over time, but in the context of heat transfer, you might also see $\\Delta T$ used to denote the difference in temperature between an object and its\n",
        "environment, $T - T_{env}$. To minimize confusion, I avoid this second\n",
        "use.\n",
        "\n",
        "The following function takes the current time `t`, the current temperature, `T`, and a `System` object, and computes the change in temperature during a time step:"
      ]
    },
    {
      "cell_type": "code",
      "execution_count": 5,
      "id": "tight-baptist",
      "metadata": {
        "tags": [],
        "id": "tight-baptist"
      },
      "outputs": [],
      "source": [
        "def change_func(t, T, system):\n",
        "    r, T_env, dt = system.r, system.T_env, system.dt\n",
        "    return -r * (T - T_env) * dt"
      ]
    },
    {
      "cell_type": "markdown",
      "id": "flexible-crest",
      "metadata": {
        "id": "flexible-crest"
      },
      "source": [
        "We can test it with the initial temperature of the coffee, like this:"
      ]
    },
    {
      "cell_type": "code",
      "execution_count": 6,
      "id": "fiscal-artwork",
      "metadata": {
        "id": "fiscal-artwork",
        "colab": {
          "base_uri": "https://localhost:8080/"
        },
        "outputId": "a7524022-d65e-4ce6-f302-b3eeb95a700d"
      },
      "outputs": [
        {
          "output_type": "execute_result",
          "data": {
            "text/plain": [
              "-0.68"
            ]
          },
          "metadata": {},
          "execution_count": 6
        }
      ],
      "source": [
        "change_func(0, coffee.T_init, coffee)"
      ]
    },
    {
      "cell_type": "markdown",
      "id": "sporting-morocco",
      "metadata": {
        "id": "sporting-morocco"
      },
      "source": [
        "With `dt=1` minute, the temperature drops by about 0.7 °C, at least for this value of `r`.\n",
        "\n",
        "Now here's a version of `run_simulation` that simulates a series of time steps from `t_0` to `t_end`:"
      ]
    },
    {
      "cell_type": "code",
      "execution_count": 7,
      "id": "cardiac-independence",
      "metadata": {
        "tags": [],
        "id": "cardiac-independence"
      },
      "outputs": [],
      "source": [
        "def run_simulation(system, change_func):\n",
        "    t_array = linrange(system.t_0, system.t_end, system.dt)\n",
        "    n = len(t_array)\n",
        "\n",
        "    series = TimeSeries(index=t_array)\n",
        "    series.iloc[0] = system.T_init\n",
        "\n",
        "    for i in range(n-1):\n",
        "        t = t_array[i]\n",
        "        T = series.iloc[i]\n",
        "        series.iloc[i+1] = T + change_func(t, T, system)\n",
        "\n",
        "    system.T_final = series.iloc[-1]\n",
        "    return series"
      ]
    },
    {
      "cell_type": "markdown",
      "id": "together-adapter",
      "metadata": {
        "id": "together-adapter"
      },
      "source": [
        "There are two things here that are different from previous versions of `run_simulation`.\n",
        "\n",
        "First, we use  `linrange` to make an array of values from `t_0` to `t_end` with time step `dt`.\n",
        "`linrange` is similar to `linspace`; they both take a start value and an end value and return an array of equally spaced values.\n",
        "The difference is the third argument: `linspace` takes an integer that indicates the number of points in the range; `linrange` takes a step size that indicates the interval between values.\n",
        "When we make the `TimeSeries`, we use the keyword argument `index` to indicate that the index of the `TimeSeries` is the array of time stamps, `t_array`."
      ]
    },
    {
      "cell_type": "markdown",
      "id": "fantastic-object",
      "metadata": {
        "id": "fantastic-object"
      },
      "source": [
        "Second, this version of `run_simulation` uses `iloc` rather than `loc` to specify the rows in the `TimeSeries`.\n",
        "Here's the difference:\n",
        "\n",
        "* With `loc`, the label in brackets can be any kind of value, with any start, end, and time step.  For example, in the world population model, the labels are years starting in 1960 and ending in 2016.\n",
        "\n",
        "* With `iloc`, the label in brackets is always an integer starting at 0.  So we can always get the first element with `iloc[0]` and the last element with `iloc[-1]`, regardless of what the labels are.\n",
        "\n",
        "In this version of `run_simulation`, the loop variable is an integer, `i`, that goes from `0` to `n-1`, including `0` but not including `n-1`.\n",
        "So the first time through the loop, `i` is `0` and the value we add to the `TimeSeries` has index 1.\n",
        "The last time through the loop, `i` is `n-2` and the value we add has index `n-1`.\n",
        "\n",
        "We can run the simulation like this:"
      ]
    },
    {
      "cell_type": "code",
      "execution_count": 8,
      "id": "numerous-metabolism",
      "metadata": {
        "id": "numerous-metabolism"
      },
      "outputs": [],
      "source": [
        "results = run_simulation(coffee, change_func)"
      ]
    },
    {
      "cell_type": "markdown",
      "id": "earned-primary",
      "metadata": {
        "id": "earned-primary"
      },
      "source": [
        "The result is a `TimeSeries` with one row per time step.\n",
        "Here are the first few rows:"
      ]
    },
    {
      "cell_type": "code",
      "execution_count": 9,
      "id": "infectious-carolina",
      "metadata": {
        "id": "infectious-carolina",
        "colab": {
          "base_uri": "https://localhost:8080/",
          "height": 237
        },
        "outputId": "ae21100a-9276-4935-d094-888ceec439bf"
      },
      "outputs": [
        {
          "output_type": "execute_result",
          "data": {
            "text/plain": [
              "       Quantity\n",
              "Time           \n",
              "0.0   90.000000\n",
              "1.0   89.320000\n",
              "2.0   88.646800\n",
              "3.0   87.980332\n",
              "4.0   87.320529"
            ],
            "text/html": [
              "\n",
              "  <div id=\"df-604f6f63-b228-4928-9926-894c5918ada8\" class=\"colab-df-container\">\n",
              "    <div>\n",
              "<style scoped>\n",
              "    .dataframe tbody tr th:only-of-type {\n",
              "        vertical-align: middle;\n",
              "    }\n",
              "\n",
              "    .dataframe tbody tr th {\n",
              "        vertical-align: top;\n",
              "    }\n",
              "\n",
              "    .dataframe thead th {\n",
              "        text-align: right;\n",
              "    }\n",
              "</style>\n",
              "<table border=\"1\" class=\"dataframe\">\n",
              "  <thead>\n",
              "    <tr style=\"text-align: right;\">\n",
              "      <th></th>\n",
              "      <th>Quantity</th>\n",
              "    </tr>\n",
              "    <tr>\n",
              "      <th>Time</th>\n",
              "      <th></th>\n",
              "    </tr>\n",
              "  </thead>\n",
              "  <tbody>\n",
              "    <tr>\n",
              "      <th>0.0</th>\n",
              "      <td>90.000000</td>\n",
              "    </tr>\n",
              "    <tr>\n",
              "      <th>1.0</th>\n",
              "      <td>89.320000</td>\n",
              "    </tr>\n",
              "    <tr>\n",
              "      <th>2.0</th>\n",
              "      <td>88.646800</td>\n",
              "    </tr>\n",
              "    <tr>\n",
              "      <th>3.0</th>\n",
              "      <td>87.980332</td>\n",
              "    </tr>\n",
              "    <tr>\n",
              "      <th>4.0</th>\n",
              "      <td>87.320529</td>\n",
              "    </tr>\n",
              "  </tbody>\n",
              "</table>\n",
              "</div>\n",
              "    <div class=\"colab-df-buttons\">\n",
              "\n",
              "  <div class=\"colab-df-container\">\n",
              "    <button class=\"colab-df-convert\" onclick=\"convertToInteractive('df-604f6f63-b228-4928-9926-894c5918ada8')\"\n",
              "            title=\"Convert this dataframe to an interactive table.\"\n",
              "            style=\"display:none;\">\n",
              "\n",
              "  <svg xmlns=\"http://www.w3.org/2000/svg\" height=\"24px\" viewBox=\"0 -960 960 960\">\n",
              "    <path d=\"M120-120v-720h720v720H120Zm60-500h600v-160H180v160Zm220 220h160v-160H400v160Zm0 220h160v-160H400v160ZM180-400h160v-160H180v160Zm440 0h160v-160H620v160ZM180-180h160v-160H180v160Zm440 0h160v-160H620v160Z\"/>\n",
              "  </svg>\n",
              "    </button>\n",
              "\n",
              "  <style>\n",
              "    .colab-df-container {\n",
              "      display:flex;\n",
              "      gap: 12px;\n",
              "    }\n",
              "\n",
              "    .colab-df-convert {\n",
              "      background-color: #E8F0FE;\n",
              "      border: none;\n",
              "      border-radius: 50%;\n",
              "      cursor: pointer;\n",
              "      display: none;\n",
              "      fill: #1967D2;\n",
              "      height: 32px;\n",
              "      padding: 0 0 0 0;\n",
              "      width: 32px;\n",
              "    }\n",
              "\n",
              "    .colab-df-convert:hover {\n",
              "      background-color: #E2EBFA;\n",
              "      box-shadow: 0px 1px 2px rgba(60, 64, 67, 0.3), 0px 1px 3px 1px rgba(60, 64, 67, 0.15);\n",
              "      fill: #174EA6;\n",
              "    }\n",
              "\n",
              "    .colab-df-buttons div {\n",
              "      margin-bottom: 4px;\n",
              "    }\n",
              "\n",
              "    [theme=dark] .colab-df-convert {\n",
              "      background-color: #3B4455;\n",
              "      fill: #D2E3FC;\n",
              "    }\n",
              "\n",
              "    [theme=dark] .colab-df-convert:hover {\n",
              "      background-color: #434B5C;\n",
              "      box-shadow: 0px 1px 3px 1px rgba(0, 0, 0, 0.15);\n",
              "      filter: drop-shadow(0px 1px 2px rgba(0, 0, 0, 0.3));\n",
              "      fill: #FFFFFF;\n",
              "    }\n",
              "  </style>\n",
              "\n",
              "    <script>\n",
              "      const buttonEl =\n",
              "        document.querySelector('#df-604f6f63-b228-4928-9926-894c5918ada8 button.colab-df-convert');\n",
              "      buttonEl.style.display =\n",
              "        google.colab.kernel.accessAllowed ? 'block' : 'none';\n",
              "\n",
              "      async function convertToInteractive(key) {\n",
              "        const element = document.querySelector('#df-604f6f63-b228-4928-9926-894c5918ada8');\n",
              "        const dataTable =\n",
              "          await google.colab.kernel.invokeFunction('convertToInteractive',\n",
              "                                                    [key], {});\n",
              "        if (!dataTable) return;\n",
              "\n",
              "        const docLinkHtml = 'Like what you see? Visit the ' +\n",
              "          '<a target=\"_blank\" href=https://colab.research.google.com/notebooks/data_table.ipynb>data table notebook</a>'\n",
              "          + ' to learn more about interactive tables.';\n",
              "        element.innerHTML = '';\n",
              "        dataTable['output_type'] = 'display_data';\n",
              "        await google.colab.output.renderOutput(dataTable, element);\n",
              "        const docLink = document.createElement('div');\n",
              "        docLink.innerHTML = docLinkHtml;\n",
              "        element.appendChild(docLink);\n",
              "      }\n",
              "    </script>\n",
              "  </div>\n",
              "\n",
              "\n",
              "<div id=\"df-38cadfa8-edae-45c8-9563-4218da13c85b\">\n",
              "  <button class=\"colab-df-quickchart\" onclick=\"quickchart('df-38cadfa8-edae-45c8-9563-4218da13c85b')\"\n",
              "            title=\"Suggest charts\"\n",
              "            style=\"display:none;\">\n",
              "\n",
              "<svg xmlns=\"http://www.w3.org/2000/svg\" height=\"24px\"viewBox=\"0 0 24 24\"\n",
              "     width=\"24px\">\n",
              "    <g>\n",
              "        <path d=\"M19 3H5c-1.1 0-2 .9-2 2v14c0 1.1.9 2 2 2h14c1.1 0 2-.9 2-2V5c0-1.1-.9-2-2-2zM9 17H7v-7h2v7zm4 0h-2V7h2v10zm4 0h-2v-4h2v4z\"/>\n",
              "    </g>\n",
              "</svg>\n",
              "  </button>\n",
              "\n",
              "<style>\n",
              "  .colab-df-quickchart {\n",
              "      --bg-color: #E8F0FE;\n",
              "      --fill-color: #1967D2;\n",
              "      --hover-bg-color: #E2EBFA;\n",
              "      --hover-fill-color: #174EA6;\n",
              "      --disabled-fill-color: #AAA;\n",
              "      --disabled-bg-color: #DDD;\n",
              "  }\n",
              "\n",
              "  [theme=dark] .colab-df-quickchart {\n",
              "      --bg-color: #3B4455;\n",
              "      --fill-color: #D2E3FC;\n",
              "      --hover-bg-color: #434B5C;\n",
              "      --hover-fill-color: #FFFFFF;\n",
              "      --disabled-bg-color: #3B4455;\n",
              "      --disabled-fill-color: #666;\n",
              "  }\n",
              "\n",
              "  .colab-df-quickchart {\n",
              "    background-color: var(--bg-color);\n",
              "    border: none;\n",
              "    border-radius: 50%;\n",
              "    cursor: pointer;\n",
              "    display: none;\n",
              "    fill: var(--fill-color);\n",
              "    height: 32px;\n",
              "    padding: 0;\n",
              "    width: 32px;\n",
              "  }\n",
              "\n",
              "  .colab-df-quickchart:hover {\n",
              "    background-color: var(--hover-bg-color);\n",
              "    box-shadow: 0 1px 2px rgba(60, 64, 67, 0.3), 0 1px 3px 1px rgba(60, 64, 67, 0.15);\n",
              "    fill: var(--button-hover-fill-color);\n",
              "  }\n",
              "\n",
              "  .colab-df-quickchart-complete:disabled,\n",
              "  .colab-df-quickchart-complete:disabled:hover {\n",
              "    background-color: var(--disabled-bg-color);\n",
              "    fill: var(--disabled-fill-color);\n",
              "    box-shadow: none;\n",
              "  }\n",
              "\n",
              "  .colab-df-spinner {\n",
              "    border: 2px solid var(--fill-color);\n",
              "    border-color: transparent;\n",
              "    border-bottom-color: var(--fill-color);\n",
              "    animation:\n",
              "      spin 1s steps(1) infinite;\n",
              "  }\n",
              "\n",
              "  @keyframes spin {\n",
              "    0% {\n",
              "      border-color: transparent;\n",
              "      border-bottom-color: var(--fill-color);\n",
              "      border-left-color: var(--fill-color);\n",
              "    }\n",
              "    20% {\n",
              "      border-color: transparent;\n",
              "      border-left-color: var(--fill-color);\n",
              "      border-top-color: var(--fill-color);\n",
              "    }\n",
              "    30% {\n",
              "      border-color: transparent;\n",
              "      border-left-color: var(--fill-color);\n",
              "      border-top-color: var(--fill-color);\n",
              "      border-right-color: var(--fill-color);\n",
              "    }\n",
              "    40% {\n",
              "      border-color: transparent;\n",
              "      border-right-color: var(--fill-color);\n",
              "      border-top-color: var(--fill-color);\n",
              "    }\n",
              "    60% {\n",
              "      border-color: transparent;\n",
              "      border-right-color: var(--fill-color);\n",
              "    }\n",
              "    80% {\n",
              "      border-color: transparent;\n",
              "      border-right-color: var(--fill-color);\n",
              "      border-bottom-color: var(--fill-color);\n",
              "    }\n",
              "    90% {\n",
              "      border-color: transparent;\n",
              "      border-bottom-color: var(--fill-color);\n",
              "    }\n",
              "  }\n",
              "</style>\n",
              "\n",
              "  <script>\n",
              "    async function quickchart(key) {\n",
              "      const quickchartButtonEl =\n",
              "        document.querySelector('#' + key + ' button');\n",
              "      quickchartButtonEl.disabled = true;  // To prevent multiple clicks.\n",
              "      quickchartButtonEl.classList.add('colab-df-spinner');\n",
              "      try {\n",
              "        const charts = await google.colab.kernel.invokeFunction(\n",
              "            'suggestCharts', [key], {});\n",
              "      } catch (error) {\n",
              "        console.error('Error during call to suggestCharts:', error);\n",
              "      }\n",
              "      quickchartButtonEl.classList.remove('colab-df-spinner');\n",
              "      quickchartButtonEl.classList.add('colab-df-quickchart-complete');\n",
              "    }\n",
              "    (() => {\n",
              "      let quickchartButtonEl =\n",
              "        document.querySelector('#df-38cadfa8-edae-45c8-9563-4218da13c85b button');\n",
              "      quickchartButtonEl.style.display =\n",
              "        google.colab.kernel.accessAllowed ? 'block' : 'none';\n",
              "    })();\n",
              "  </script>\n",
              "</div>\n",
              "\n",
              "    </div>\n",
              "  </div>\n"
            ],
            "application/vnd.google.colaboratory.intrinsic+json": {
              "type": "dataframe",
              "summary": "{\n  \"name\": \"show(results\",\n  \"rows\": 5,\n  \"fields\": [\n    {\n      \"column\": \"Time\",\n      \"properties\": {\n        \"dtype\": \"number\",\n        \"std\": 1.5811388300841898,\n        \"min\": 0.0,\n        \"max\": 4.0,\n        \"num_unique_values\": 5,\n        \"samples\": [\n          1.0,\n          4.0,\n          2.0\n        ],\n        \"semantic_type\": \"\",\n        \"description\": \"\"\n      }\n    },\n    {\n      \"column\": \"Quantity\",\n      \"properties\": {\n        \"dtype\": \"number\",\n        \"std\": 1.0591620604283003,\n        \"min\": 87.32052868000001,\n        \"max\": 90.0,\n        \"num_unique_values\": 5,\n        \"samples\": [\n          89.32,\n          87.32052868000001,\n          88.6468\n        ],\n        \"semantic_type\": \"\",\n        \"description\": \"\"\n      }\n    }\n  ]\n}"
            }
          },
          "metadata": {},
          "execution_count": 9
        }
      ],
      "source": [
        "show(results.head())"
      ]
    },
    {
      "cell_type": "markdown",
      "id": "color-olive",
      "metadata": {
        "id": "color-olive"
      },
      "source": [
        "And the last few rows:"
      ]
    },
    {
      "cell_type": "code",
      "execution_count": 10,
      "id": "accompanied-melbourne",
      "metadata": {
        "id": "accompanied-melbourne",
        "colab": {
          "base_uri": "https://localhost:8080/",
          "height": 237
        },
        "outputId": "f9582bcc-5554-46cb-f42e-c80c782a255a"
      },
      "outputs": [
        {
          "output_type": "execute_result",
          "data": {
            "text/plain": [
              "       Quantity\n",
              "Time           \n",
              "26.0  74.362934\n",
              "27.0  73.839305\n",
              "28.0  73.320912\n",
              "29.0  72.807702\n",
              "30.0  72.299625"
            ],
            "text/html": [
              "\n",
              "  <div id=\"df-1a5005cb-18cd-4b07-85f2-e3680f0e9d28\" class=\"colab-df-container\">\n",
              "    <div>\n",
              "<style scoped>\n",
              "    .dataframe tbody tr th:only-of-type {\n",
              "        vertical-align: middle;\n",
              "    }\n",
              "\n",
              "    .dataframe tbody tr th {\n",
              "        vertical-align: top;\n",
              "    }\n",
              "\n",
              "    .dataframe thead th {\n",
              "        text-align: right;\n",
              "    }\n",
              "</style>\n",
              "<table border=\"1\" class=\"dataframe\">\n",
              "  <thead>\n",
              "    <tr style=\"text-align: right;\">\n",
              "      <th></th>\n",
              "      <th>Quantity</th>\n",
              "    </tr>\n",
              "    <tr>\n",
              "      <th>Time</th>\n",
              "      <th></th>\n",
              "    </tr>\n",
              "  </thead>\n",
              "  <tbody>\n",
              "    <tr>\n",
              "      <th>26.0</th>\n",
              "      <td>74.362934</td>\n",
              "    </tr>\n",
              "    <tr>\n",
              "      <th>27.0</th>\n",
              "      <td>73.839305</td>\n",
              "    </tr>\n",
              "    <tr>\n",
              "      <th>28.0</th>\n",
              "      <td>73.320912</td>\n",
              "    </tr>\n",
              "    <tr>\n",
              "      <th>29.0</th>\n",
              "      <td>72.807702</td>\n",
              "    </tr>\n",
              "    <tr>\n",
              "      <th>30.0</th>\n",
              "      <td>72.299625</td>\n",
              "    </tr>\n",
              "  </tbody>\n",
              "</table>\n",
              "</div>\n",
              "    <div class=\"colab-df-buttons\">\n",
              "\n",
              "  <div class=\"colab-df-container\">\n",
              "    <button class=\"colab-df-convert\" onclick=\"convertToInteractive('df-1a5005cb-18cd-4b07-85f2-e3680f0e9d28')\"\n",
              "            title=\"Convert this dataframe to an interactive table.\"\n",
              "            style=\"display:none;\">\n",
              "\n",
              "  <svg xmlns=\"http://www.w3.org/2000/svg\" height=\"24px\" viewBox=\"0 -960 960 960\">\n",
              "    <path d=\"M120-120v-720h720v720H120Zm60-500h600v-160H180v160Zm220 220h160v-160H400v160Zm0 220h160v-160H400v160ZM180-400h160v-160H180v160Zm440 0h160v-160H620v160ZM180-180h160v-160H180v160Zm440 0h160v-160H620v160Z\"/>\n",
              "  </svg>\n",
              "    </button>\n",
              "\n",
              "  <style>\n",
              "    .colab-df-container {\n",
              "      display:flex;\n",
              "      gap: 12px;\n",
              "    }\n",
              "\n",
              "    .colab-df-convert {\n",
              "      background-color: #E8F0FE;\n",
              "      border: none;\n",
              "      border-radius: 50%;\n",
              "      cursor: pointer;\n",
              "      display: none;\n",
              "      fill: #1967D2;\n",
              "      height: 32px;\n",
              "      padding: 0 0 0 0;\n",
              "      width: 32px;\n",
              "    }\n",
              "\n",
              "    .colab-df-convert:hover {\n",
              "      background-color: #E2EBFA;\n",
              "      box-shadow: 0px 1px 2px rgba(60, 64, 67, 0.3), 0px 1px 3px 1px rgba(60, 64, 67, 0.15);\n",
              "      fill: #174EA6;\n",
              "    }\n",
              "\n",
              "    .colab-df-buttons div {\n",
              "      margin-bottom: 4px;\n",
              "    }\n",
              "\n",
              "    [theme=dark] .colab-df-convert {\n",
              "      background-color: #3B4455;\n",
              "      fill: #D2E3FC;\n",
              "    }\n",
              "\n",
              "    [theme=dark] .colab-df-convert:hover {\n",
              "      background-color: #434B5C;\n",
              "      box-shadow: 0px 1px 3px 1px rgba(0, 0, 0, 0.15);\n",
              "      filter: drop-shadow(0px 1px 2px rgba(0, 0, 0, 0.3));\n",
              "      fill: #FFFFFF;\n",
              "    }\n",
              "  </style>\n",
              "\n",
              "    <script>\n",
              "      const buttonEl =\n",
              "        document.querySelector('#df-1a5005cb-18cd-4b07-85f2-e3680f0e9d28 button.colab-df-convert');\n",
              "      buttonEl.style.display =\n",
              "        google.colab.kernel.accessAllowed ? 'block' : 'none';\n",
              "\n",
              "      async function convertToInteractive(key) {\n",
              "        const element = document.querySelector('#df-1a5005cb-18cd-4b07-85f2-e3680f0e9d28');\n",
              "        const dataTable =\n",
              "          await google.colab.kernel.invokeFunction('convertToInteractive',\n",
              "                                                    [key], {});\n",
              "        if (!dataTable) return;\n",
              "\n",
              "        const docLinkHtml = 'Like what you see? Visit the ' +\n",
              "          '<a target=\"_blank\" href=https://colab.research.google.com/notebooks/data_table.ipynb>data table notebook</a>'\n",
              "          + ' to learn more about interactive tables.';\n",
              "        element.innerHTML = '';\n",
              "        dataTable['output_type'] = 'display_data';\n",
              "        await google.colab.output.renderOutput(dataTable, element);\n",
              "        const docLink = document.createElement('div');\n",
              "        docLink.innerHTML = docLinkHtml;\n",
              "        element.appendChild(docLink);\n",
              "      }\n",
              "    </script>\n",
              "  </div>\n",
              "\n",
              "\n",
              "<div id=\"df-24e0c126-9c66-4ff4-9cdd-ad50ca56c0b0\">\n",
              "  <button class=\"colab-df-quickchart\" onclick=\"quickchart('df-24e0c126-9c66-4ff4-9cdd-ad50ca56c0b0')\"\n",
              "            title=\"Suggest charts\"\n",
              "            style=\"display:none;\">\n",
              "\n",
              "<svg xmlns=\"http://www.w3.org/2000/svg\" height=\"24px\"viewBox=\"0 0 24 24\"\n",
              "     width=\"24px\">\n",
              "    <g>\n",
              "        <path d=\"M19 3H5c-1.1 0-2 .9-2 2v14c0 1.1.9 2 2 2h14c1.1 0 2-.9 2-2V5c0-1.1-.9-2-2-2zM9 17H7v-7h2v7zm4 0h-2V7h2v10zm4 0h-2v-4h2v4z\"/>\n",
              "    </g>\n",
              "</svg>\n",
              "  </button>\n",
              "\n",
              "<style>\n",
              "  .colab-df-quickchart {\n",
              "      --bg-color: #E8F0FE;\n",
              "      --fill-color: #1967D2;\n",
              "      --hover-bg-color: #E2EBFA;\n",
              "      --hover-fill-color: #174EA6;\n",
              "      --disabled-fill-color: #AAA;\n",
              "      --disabled-bg-color: #DDD;\n",
              "  }\n",
              "\n",
              "  [theme=dark] .colab-df-quickchart {\n",
              "      --bg-color: #3B4455;\n",
              "      --fill-color: #D2E3FC;\n",
              "      --hover-bg-color: #434B5C;\n",
              "      --hover-fill-color: #FFFFFF;\n",
              "      --disabled-bg-color: #3B4455;\n",
              "      --disabled-fill-color: #666;\n",
              "  }\n",
              "\n",
              "  .colab-df-quickchart {\n",
              "    background-color: var(--bg-color);\n",
              "    border: none;\n",
              "    border-radius: 50%;\n",
              "    cursor: pointer;\n",
              "    display: none;\n",
              "    fill: var(--fill-color);\n",
              "    height: 32px;\n",
              "    padding: 0;\n",
              "    width: 32px;\n",
              "  }\n",
              "\n",
              "  .colab-df-quickchart:hover {\n",
              "    background-color: var(--hover-bg-color);\n",
              "    box-shadow: 0 1px 2px rgba(60, 64, 67, 0.3), 0 1px 3px 1px rgba(60, 64, 67, 0.15);\n",
              "    fill: var(--button-hover-fill-color);\n",
              "  }\n",
              "\n",
              "  .colab-df-quickchart-complete:disabled,\n",
              "  .colab-df-quickchart-complete:disabled:hover {\n",
              "    background-color: var(--disabled-bg-color);\n",
              "    fill: var(--disabled-fill-color);\n",
              "    box-shadow: none;\n",
              "  }\n",
              "\n",
              "  .colab-df-spinner {\n",
              "    border: 2px solid var(--fill-color);\n",
              "    border-color: transparent;\n",
              "    border-bottom-color: var(--fill-color);\n",
              "    animation:\n",
              "      spin 1s steps(1) infinite;\n",
              "  }\n",
              "\n",
              "  @keyframes spin {\n",
              "    0% {\n",
              "      border-color: transparent;\n",
              "      border-bottom-color: var(--fill-color);\n",
              "      border-left-color: var(--fill-color);\n",
              "    }\n",
              "    20% {\n",
              "      border-color: transparent;\n",
              "      border-left-color: var(--fill-color);\n",
              "      border-top-color: var(--fill-color);\n",
              "    }\n",
              "    30% {\n",
              "      border-color: transparent;\n",
              "      border-left-color: var(--fill-color);\n",
              "      border-top-color: var(--fill-color);\n",
              "      border-right-color: var(--fill-color);\n",
              "    }\n",
              "    40% {\n",
              "      border-color: transparent;\n",
              "      border-right-color: var(--fill-color);\n",
              "      border-top-color: var(--fill-color);\n",
              "    }\n",
              "    60% {\n",
              "      border-color: transparent;\n",
              "      border-right-color: var(--fill-color);\n",
              "    }\n",
              "    80% {\n",
              "      border-color: transparent;\n",
              "      border-right-color: var(--fill-color);\n",
              "      border-bottom-color: var(--fill-color);\n",
              "    }\n",
              "    90% {\n",
              "      border-color: transparent;\n",
              "      border-bottom-color: var(--fill-color);\n",
              "    }\n",
              "  }\n",
              "</style>\n",
              "\n",
              "  <script>\n",
              "    async function quickchart(key) {\n",
              "      const quickchartButtonEl =\n",
              "        document.querySelector('#' + key + ' button');\n",
              "      quickchartButtonEl.disabled = true;  // To prevent multiple clicks.\n",
              "      quickchartButtonEl.classList.add('colab-df-spinner');\n",
              "      try {\n",
              "        const charts = await google.colab.kernel.invokeFunction(\n",
              "            'suggestCharts', [key], {});\n",
              "      } catch (error) {\n",
              "        console.error('Error during call to suggestCharts:', error);\n",
              "      }\n",
              "      quickchartButtonEl.classList.remove('colab-df-spinner');\n",
              "      quickchartButtonEl.classList.add('colab-df-quickchart-complete');\n",
              "    }\n",
              "    (() => {\n",
              "      let quickchartButtonEl =\n",
              "        document.querySelector('#df-24e0c126-9c66-4ff4-9cdd-ad50ca56c0b0 button');\n",
              "      quickchartButtonEl.style.display =\n",
              "        google.colab.kernel.accessAllowed ? 'block' : 'none';\n",
              "    })();\n",
              "  </script>\n",
              "</div>\n",
              "\n",
              "    </div>\n",
              "  </div>\n"
            ],
            "application/vnd.google.colaboratory.intrinsic+json": {
              "type": "dataframe",
              "summary": "{\n  \"name\": \"show(results\",\n  \"rows\": 5,\n  \"fields\": [\n    {\n      \"column\": \"Time\",\n      \"properties\": {\n        \"dtype\": \"number\",\n        \"std\": 1.5811388300841898,\n        \"min\": 26.0,\n        \"max\": 30.0,\n        \"num_unique_values\": 5,\n        \"samples\": [\n          27.0,\n          30.0,\n          28.0\n        ],\n        \"semantic_type\": \"\",\n        \"description\": \"\"\n      }\n    },\n    {\n      \"column\": \"Quantity\",\n      \"properties\": {\n        \"dtype\": \"number\",\n        \"std\": 0.8156004849296761,\n        \"min\": 72.2996253904031,\n        \"max\": 74.36293391475057,\n        \"num_unique_values\": 5,\n        \"samples\": [\n          73.83930457560307,\n          72.2996253904031,\n          73.32091152984704\n        ],\n        \"semantic_type\": \"\",\n        \"description\": \"\"\n      }\n    }\n  ]\n}"
            }
          },
          "metadata": {},
          "execution_count": 10
        }
      ],
      "source": [
        "show(results.tail())"
      ]
    },
    {
      "cell_type": "markdown",
      "id": "formal-headset",
      "metadata": {
        "id": "formal-headset"
      },
      "source": [
        "With `t_0=0`, `t_end=30`, and `dt=1`, the time stamps go from `0.0` to `30.0`.\n",
        "\n",
        "Here's what the `TimeSeries` looks like."
      ]
    },
    {
      "cell_type": "code",
      "execution_count": 11,
      "id": "important-constitution",
      "metadata": {
        "id": "important-constitution",
        "colab": {
          "base_uri": "https://localhost:8080/",
          "height": 309
        },
        "outputId": "4f1e5c99-c6eb-43bf-9070-a10edea9671a"
      },
      "outputs": [
        {
          "output_type": "display_data",
          "data": {
            "text/plain": [
              "<Figure size 450x300 with 1 Axes>"
            ],
            "image/png": "[encoded data removed]"
          },
          "metadata": {}
        }
      ],
      "source": [
        "results.plot(label='coffee')\n",
        "\n",
        "decorate(xlabel='Time (min)',\n",
        "         ylabel='Temperature (C)',\n",
        "         title='Coffee Cooling')"
      ]
    },
    {
      "cell_type": "markdown",
      "id": "absent-arkansas",
      "metadata": {
        "id": "absent-arkansas"
      },
      "source": [
        "The temperature after 30 minutes is 72.3 °C, which is a little higher than the measurement we're trying to match, which is 70 °C."
      ]
    },
    {
      "cell_type": "code",
      "execution_count": 12,
      "id": "absolute-desire",
      "metadata": {
        "id": "absolute-desire",
        "colab": {
          "base_uri": "https://localhost:8080/"
        },
        "outputId": "c4dd65fe-21ca-4cf9-f1ea-993b19bbd535"
      },
      "outputs": [
        {
          "output_type": "execute_result",
          "data": {
            "text/plain": [
              "72.2996253904031"
            ]
          },
          "metadata": {},
          "execution_count": 12
        }
      ],
      "source": [
        "coffee.T_final"
      ]
    },
    {
      "cell_type": "markdown",
      "id": "light-carpet",
      "metadata": {
        "id": "light-carpet"
      },
      "source": [
        "To find the value of `r` where the final temperature is precisely 70 °C, we could proceed by trial and error, but it is more efficient to use a root-finding algorithm."
      ]
    },
    {
      "cell_type": "markdown",
      "id": "funny-weekly",
      "metadata": {
        "id": "funny-weekly"
      },
      "source": [
        "## Finding Roots\n",
        "\n",
        "The ModSim library provides a function called `root_scalar` that finds the roots of non-linear equations. As an example, suppose you want to find the roots of the polynomial\n",
        "\n",
        "$$f(x) = (x - 1)(x - 2)(x - 3)$$\n",
        "\n",
        "A *root* is a value of $x$ that makes $f(x)=0$. Because of the way I wrote this polynomial, we can see that if $x=1$, the first factor is 0; if $x=2$, the second factor is 0; and if $x=3$, the third factor is 0, so those are the roots.\n",
        "\n",
        "I'll use this example to demonstrate `root_scalar`. First, we have to\n",
        "write a function that evaluates $f$:"
      ]
    },
    {
      "cell_type": "code",
      "execution_count": 13,
      "id": "small-shark",
      "metadata": {
        "id": "small-shark"
      },
      "outputs": [],
      "source": [
        "def func(x):\n",
        "    return (x-1) * (x-2) * (x-3)"
      ]
    },
    {
      "cell_type": "markdown",
      "id": "cleared-cylinder",
      "metadata": {
        "id": "cleared-cylinder"
      },
      "source": [
        "Now we call `root_scalar` like this:"
      ]
    },
    {
      "cell_type": "code",
      "execution_count": 14,
      "id": "defensive-content",
      "metadata": {
        "id": "defensive-content",
        "colab": {
          "base_uri": "https://localhost:8080/"
        },
        "outputId": "ecdb62dd-4974-4156-bac4-81a067a00228"
      },
      "outputs": [
        {
          "output_type": "execute_result",
          "data": {
            "text/plain": [
              "      converged: True\n",
              "           flag: converged\n",
              " function_calls: 3\n",
              "     iterations: 2\n",
              "           root: 2.0"
            ]
          },
          "metadata": {},
          "execution_count": 14
        }
      ],
      "source": [
        "res = root_scalar(func, bracket=[1.5, 2.5])\n",
        "res"
      ]
    },
    {
      "cell_type": "markdown",
      "id": "adult-management",
      "metadata": {
        "id": "adult-management"
      },
      "source": [
        "The first argument is the function whose roots we want. The second\n",
        "argument is an interval that contains or *brackets* a root. The result is an object that contains several variables, including the Boolean value `converged`, which is `True` if the  search converged successfully on a root, and `root`, which is the root that was found."
      ]
    },
    {
      "cell_type": "code",
      "execution_count": 15,
      "id": "behind-perth",
      "metadata": {
        "id": "behind-perth",
        "colab": {
          "base_uri": "https://localhost:8080/"
        },
        "outputId": "e2713f1e-10f7-45b5-d112-57658ce95fe2"
      },
      "outputs": [
        {
          "output_type": "execute_result",
          "data": {
            "text/plain": [
              "2.0"
            ]
          },
          "metadata": {},
          "execution_count": 15
        }
      ],
      "source": [
        "res.root"
      ]
    },
    {
      "cell_type": "markdown",
      "id": "disturbed-shade",
      "metadata": {
        "id": "disturbed-shade"
      },
      "source": [
        "If we provide a different interval, we find a different root."
      ]
    },
    {
      "cell_type": "code",
      "execution_count": 16,
      "id": "following-sentence",
      "metadata": {
        "id": "following-sentence",
        "colab": {
          "base_uri": "https://localhost:8080/"
        },
        "outputId": "fec835f0-3659-454b-cec4-a8f3523f57b0"
      },
      "outputs": [
        {
          "output_type": "execute_result",
          "data": {
            "text/plain": [
              "2.9999771663211003"
            ]
          },
          "metadata": {},
          "execution_count": 16
        }
      ],
      "source": [
        "res = root_scalar(func, bracket=[2.5, 3.5])\n",
        "res.root"
      ]
    },
    {
      "cell_type": "markdown",
      "id": "eligible-updating",
      "metadata": {
        "id": "eligible-updating"
      },
      "source": [
        "If the interval doesn't contain a root, you'll get a `ValueError` and a message like `f(a) and f(b) must have different signs`.\n",
        "\n",
        "Now we can use `root_scalar` to estimate `r`."
      ]
    },
    {
      "cell_type": "markdown",
      "id": "commercial-correlation",
      "metadata": {
        "id": "commercial-correlation"
      },
      "source": [
        "## Estimating r\n",
        "\n",
        "What we want is the value of `r` that yields a final temperature of\n",
        "70 °C. To use `root_scalar`, we need a function that takes `r` as a parameter and returns the difference between the final temperature and the goal:"
      ]
    },
    {
      "cell_type": "code",
      "execution_count": 17,
      "id": "genetic-compound",
      "metadata": {
        "id": "genetic-compound"
      },
      "outputs": [],
      "source": [
        "def error_func(r, system):\n",
        "    system.r = r\n",
        "    results = run_simulation(system, change_func)\n",
        "    return system.T_final - 70"
      ]
    },
    {
      "cell_type": "markdown",
      "id": "happy-bridal",
      "metadata": {
        "id": "happy-bridal"
      },
      "source": [
        "This is called an *error function* because it returns the\n",
        "difference between what we got and what we wanted, that is, the error.\n",
        "With the right value of `r`, the error is 0.\n",
        "\n",
        "We can test `error_func` like this, using the initial guess `r=0.01`:"
      ]
    },
    {
      "cell_type": "code",
      "execution_count": 18,
      "id": "french-financing",
      "metadata": {
        "id": "french-financing",
        "colab": {
          "base_uri": "https://localhost:8080/"
        },
        "outputId": "3597f06d-cb95-4460-b3f5-b86e6fadd46f"
      },
      "outputs": [
        {
          "output_type": "execute_result",
          "data": {
            "text/plain": [
              "2.2996253904030937"
            ]
          },
          "metadata": {},
          "execution_count": 18
        }
      ],
      "source": [
        "coffee = make_system(T_init=90, volume=300, r=0.01, t_end=30)\n",
        "error_func(0.01, coffee)"
      ]
    },
    {
      "cell_type": "markdown",
      "id": "statutory-activation",
      "metadata": {
        "id": "statutory-activation"
      },
      "source": [
        "The result is an error of 2.3 °C, which means the final temperature with `r=0.01` is too high."
      ]
    },
    {
      "cell_type": "code",
      "execution_count": 19,
      "id": "excellent-fellow",
      "metadata": {
        "id": "excellent-fellow",
        "colab": {
          "base_uri": "https://localhost:8080/"
        },
        "outputId": "4f36ae0c-7886-4d0a-b35a-aa9af43e4c84"
      },
      "outputs": [
        {
          "output_type": "execute_result",
          "data": {
            "text/plain": [
              "-10.907066281994297"
            ]
          },
          "metadata": {},
          "execution_count": 19
        }
      ],
      "source": [
        "error_func(0.02, coffee)"
      ]
    },
    {
      "cell_type": "markdown",
      "id": "unlimited-living",
      "metadata": {
        "id": "unlimited-living"
      },
      "source": [
        "With `r=0.02`, the error is  about -11°C, which means that the final temperature is too low. So we know that the correct value must be in between.\n",
        "\n",
        "Now we can call `root_scalar` like this:"
      ]
    },
    {
      "cell_type": "code",
      "execution_count": 20,
      "id": "french-decline",
      "metadata": {
        "id": "french-decline",
        "colab": {
          "base_uri": "https://localhost:8080/"
        },
        "outputId": "8f17315d-4c62-4f8b-e9f2-019d850b2af5"
      },
      "outputs": [
        {
          "output_type": "execute_result",
          "data": {
            "text/plain": [
              "      converged: True\n",
              "           flag: converged\n",
              " function_calls: 6\n",
              "     iterations: 5\n",
              "           root: 0.011543084190599507"
            ]
          },
          "metadata": {},
          "execution_count": 20
        }
      ],
      "source": [
        "res = root_scalar(error_func, coffee, bracket=[0.01, 0.02])\n",
        "res"
      ]
    },
    {
      "cell_type": "markdown",
      "id": "tamil-absorption",
      "metadata": {
        "id": "tamil-absorption"
      },
      "source": [
        "The first argument is the error function.\n",
        "The second argument is the `System` object, which `root_scalar` passes as an argument to `error_func`.\n",
        "The third argument is an interval that brackets the root.\n",
        "\n",
        "Here's the root we found."
      ]
    },
    {
      "cell_type": "code",
      "execution_count": 21,
      "id": "afraid-ordering",
      "metadata": {
        "id": "afraid-ordering",
        "colab": {
          "base_uri": "https://localhost:8080/"
        },
        "outputId": "25cb32f3-9216-4764-dabf-53fb39dde750"
      },
      "outputs": [
        {
          "output_type": "execute_result",
          "data": {
            "text/plain": [
              "0.011543084190599507"
            ]
          },
          "metadata": {},
          "execution_count": 21
        }
      ],
      "source": [
        "r_coffee = res.root\n",
        "r_coffee"
      ]
    },
    {
      "cell_type": "markdown",
      "id": "partial-definition",
      "metadata": {
        "id": "partial-definition"
      },
      "source": [
        "In this example, `r_coffee` turns out to be about `0.0115`, in units of min$^{-1}$ (inverse minutes).\n",
        "We can confirm that this value is correct by setting `r` to the root we found and running the simulation."
      ]
    },
    {
      "cell_type": "code",
      "execution_count": 22,
      "id": "derived-annual",
      "metadata": {
        "id": "derived-annual",
        "colab": {
          "base_uri": "https://localhost:8080/"
        },
        "outputId": "f69aadd1-903e-4df9-c620-9a51025bf18d"
      },
      "outputs": [
        {
          "output_type": "execute_result",
          "data": {
            "text/plain": [
              "70.00000057308064"
            ]
          },
          "metadata": {},
          "execution_count": 22
        }
      ],
      "source": [
        "coffee.r = res.root\n",
        "run_simulation(coffee, change_func)\n",
        "coffee.T_final"
      ]
    },
    {
      "cell_type": "markdown",
      "id": "prerequisite-conditioning",
      "metadata": {
        "id": "prerequisite-conditioning"
      },
      "source": [
        "The final temperature is very close to 70 °C."
      ]
    },
    {
      "cell_type": "markdown",
      "id": "outer-powder",
      "metadata": {
        "id": "outer-powder"
      },
      "source": [
        "## Summary\n",
        "\n",
        "This chapter presents the basics of heat, temperature, and Newton's law of cooling, which is a model that is accurate when most heat transfer is by conduction and convection, not radiation.\n",
        "\n",
        "To simulate a hot cup of coffee, we wrote Newton's law as a difference equation, then wrote a version of `run_simulation` that implements it. Then we used `root_scalar` to find the value of `r` that matches the measurement from my hypothetical experiment.\n",
        "\n",
        "All that is the first step toward solving the coffee cooling problem I posed at the beginning of the chapter. As an exercise, you'll do the next step, which is simulating the milk. In the next chapter, we'll model the mixing process and finish off the problem."
      ]
    },
    {
      "cell_type": "markdown",
      "id": "smart-yeast",
      "metadata": {
        "id": "smart-yeast"
      },
      "source": [
        "## Exercises\n",
        "\n",
        "This chapter is available as a Jupyter notebook where you can read the text, run the code, and work on the exercises.\n",
        "You can access the notebooks at <https://allendowney.github.io/ModSimPy/>."
      ]
    },
    {
      "cell_type": "markdown",
      "id": "scientific-attachment",
      "metadata": {
        "id": "scientific-attachment"
      },
      "source": [
        "### Exercise 1\n",
        "\n",
        "Simulate the temperature of 50 mL of milk with a starting temperature of 5 °C, in a vessel with `r=0.1`, for 15 minutes, and plot the results. Use `make_system` to make a `System` object that represents the milk, and use `run_simulation` to simulate it.\n",
        "By trial and error, find a value for `r` that makes the final temperature close to 20 °C."
      ]
    },
    {
      "cell_type": "code",
      "source": [
        "from numpy import linspace\n",
        "import matplotlib.pyplot as plt"
      ],
      "metadata": {
        "id": "jJJaC9W6Qene"
      },
      "id": "jJJaC9W6Qene",
      "execution_count": 23,
      "outputs": []
    },
    {
      "cell_type": "code",
      "execution_count": 27,
      "id": "committed-angel",
      "metadata": {
        "id": "committed-angel"
      },
      "outputs": [],
      "source": [
        "# Solution goes here\n",
        "# Define the System class and necessary imports\n",
        "class System:\n",
        "    def __init__(self, T_init, r, volume, T_final=None):\n",
        "        self.T_init = T_init\n",
        "        self.r = r\n",
        "        self.volume = volume\n",
        "        self.T_final = T_final\n",
        "\n",
        "# Define the simulation and change functions\n",
        "def run_simulation(system, change_func):\n",
        "    \"\"\"Runs a simulation of the system.\n",
        "\n",
        "    Adds TimeSeries to `system` with the results.\n",
        "\n",
        "    system: System object\n",
        "    change_func: function that computes the change in temperature\n",
        "    \"\"\"\n",
        "    timesteps = linspace(0, 15, 100)  # simulate for 15 minutes\n",
        "    temperatures = []  # to store temperatures at each timestep\n",
        "    T = system.T_init  # initial temperature\n",
        "    for t in timesteps:\n",
        "        dT = change_func(T, system)  # compute the temperature change\n",
        "        T += dT  # update the temperature\n",
        "        temperatures.append(T)  # record the temperature\n",
        "    system.T_final = T  # store the final temperature for later use\n",
        "    return timesteps, temperatures  # return the time and temperature arrays for plotting\n",
        "\n",
        "def change_func(T, system):\n",
        "    \"\"\"Computes the change in temperature using Newton's law of cooling.\n",
        "\n",
        "    T: current temperature\n",
        "    system: System object containing parameters of the simulation\n",
        "    \"\"\"\n",
        "    return -system.r * (T - 20)  # environment temperature is assumed to be 20°C\n"
      ]
    },
    {
      "cell_type": "code",
      "source": [
        "# Create the system object for the milk\n",
        "milk = System(T_init=5, r=0.1, volume=50)"
      ],
      "metadata": {
        "id": "OTEFlog0Q2O3"
      },
      "id": "OTEFlog0Q2O3",
      "execution_count": 28,
      "outputs": []
    },
    {
      "cell_type": "code",
      "execution_count": 29,
      "id": "military-military",
      "metadata": {
        "id": "military-military"
      },
      "outputs": [],
      "source": [
        "# Solution goes here\n",
        "# Run the simulation and capture the time and temperatures for plotting\n",
        "timesteps, temperatures = run_simulation(milk, change_func)"
      ]
    },
    {
      "cell_type": "code",
      "source": [
        "# Print the final temperature\n",
        "print(\"Final temperature:\", milk.T_final)\n",
        "\n",
        "# Plotting results\n",
        "plt.figure(figsize=(8, 4))\n",
        "plt.plot(timesteps, temperatures, label='Temperature of Milk')\n",
        "plt.xlabel('Time (minutes)')\n",
        "plt.ylabel('Temperature (°C)')\n",
        "plt.title('Cooling of Milk Over Time')\n",
        "plt.legend()\n",
        "plt.grid(True)\n",
        "plt.show()"
      ],
      "metadata": {
        "colab": {
          "base_uri": "https://localhost:8080/",
          "height": 328
        },
        "id": "NArvRoVjQknz",
        "outputId": "a8e96557-5523-48cf-f3e7-21488fc8a1c9"
      },
      "id": "NArvRoVjQknz",
      "execution_count": 30,
      "outputs": [
        {
          "output_type": "stream",
          "name": "stdout",
          "text": [
            "Final temperature: 19.999601579016687\n"
          ]
        },
        {
          "output_type": "display_data",
          "data": {
            "text/plain": [
              "<Figure size 600x300 with 1 Axes>"
            ],
            "image/png": "[encoded data removed]"
          },
          "metadata": {}
        }
      ]
    },
    {
      "cell_type": "markdown",
      "id": "logical-acoustic",
      "metadata": {
        "id": "logical-acoustic"
      },
      "source": [
        "### Exercise 2\n",
        "\n",
        "Write an error function that simulates the temperature of the milk and returns the difference between the final temperature and 20 °C.  Use it to estimate the value of `r` for the milk."
      ]
    },
    {
      "cell_type": "code",
      "source": [
        "from scipy.optimize import minimize_scalar"
      ],
      "metadata": {
        "id": "pjqeuQqBRH48"
      },
      "id": "pjqeuQqBRH48",
      "execution_count": 31,
      "outputs": []
    },
    {
      "cell_type": "code",
      "execution_count": 32,
      "id": "agreed-excuse",
      "metadata": {
        "id": "agreed-excuse"
      },
      "outputs": [],
      "source": [
        "# Solution goes here\n",
        "\n",
        "# Error function to be minimized\n",
        "def error_function(r, system):\n",
        "    \"\"\"Estimates the error between simulated final temperature and target temperature.\n",
        "\n",
        "    r: rate of cooling to test\n",
        "    system: System object with initial properties\n",
        "    \"\"\"\n",
        "    # Update the system's r value\n",
        "    system.r = r\n",
        "    # Run simulation with the current value of r\n",
        "    _, temperatures = run_simulation(system, change_func)\n",
        "    # Calculate the error from the target temperature (20°C)\n",
        "    final_temperature = temperatures[-1]\n",
        "    error = final_temperature - 20\n",
        "    return abs(error)"
      ]
    },
    {
      "cell_type": "code",
      "execution_count": 33,
      "id": "defined-nudist",
      "metadata": {
        "id": "defined-nudist"
      },
      "outputs": [],
      "source": [
        "# Solution goes here\n",
        "\n",
        "# Using minimize_scalar to find the optimal r\n",
        "result = minimize_scalar(error_function, bounds=(0.01, 1), args=(milk,), method='bounded')\n"
      ]
    },
    {
      "cell_type": "code",
      "execution_count": 34,
      "id": "loose-rehabilitation",
      "metadata": {
        "id": "loose-rehabilitation",
        "colab": {
          "base_uri": "https://localhost:8080/",
          "height": 345
        },
        "outputId": "311d47a2-6fdb-48cd-eecf-fcad3874fd08"
      },
      "outputs": [
        {
          "output_type": "stream",
          "name": "stdout",
          "text": [
            "Optimal value of r: 0.6219\n",
            "Minimum error achieved: 0.0\n"
          ]
        },
        {
          "output_type": "display_data",
          "data": {
            "text/plain": [
              "<Figure size 600x300 with 1 Axes>"
            ],
            "image/png": "[encoded data removed]"
          },
          "metadata": {}
        }
      ],
      "source": [
        "# Solution goes here\n",
        "\n",
        "# Output the result\n",
        "optimal_r = result.x\n",
        "print(f\"Optimal value of r: {optimal_r:.4f}\")\n",
        "print(f\"Minimum error achieved: {result.fun}\")\n",
        "\n",
        "# Optionally, run the simulation with the optimal r and plot again to verify\n",
        "milk.r = optimal_r\n",
        "timesteps, temperatures = run_simulation(milk, change_func)\n",
        "plt.figure(figsize=(8, 4))\n",
        "plt.plot(timesteps, temperatures, label=f'Temp of Milk with r={optimal_r:.4f}')\n",
        "plt.xlabel('Time (minutes)')\n",
        "plt.ylabel('Temperature (°C)')\n",
        "plt.title('Cooling of Milk with Optimized r')\n",
        "plt.legend()\n",
        "plt.grid(True)\n",
        "plt.show()"
      ]
    }
  ],
  "metadata": {
    "celltoolbar": "Tags",
    "kernelspec": {
      "display_name": "Python 3 (ipykernel)",
      "language": "python",
      "name": "python3"
    },
    "language_info": {
      "codemirror_mode": {
        "name": "ipython",
        "version": 3
      },
      "file_extension": ".py",
      "mimetype": "text/x-python",
      "name": "python",
      "nbconvert_exporter": "python",
      "pygments_lexer": "ipython3",
      "version": "3.10.6"
    },
    "colab": {
      "provenance": []
    }
  },
  "nbformat": 4,
  "nbformat_minor": 5
}