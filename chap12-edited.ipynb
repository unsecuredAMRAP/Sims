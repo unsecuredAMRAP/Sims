{
  "cells": [
    {
      "cell_type": "markdown",
      "id": "combined-semiconductor",
      "metadata": {
        "id": "combined-semiconductor"
      },
      "source": [
        "# Modeling Vaccination"
      ]
    },
    {
      "cell_type": "markdown",
      "id": "imported-table",
      "metadata": {
        "tags": [],
        "id": "imported-table"
      },
      "source": [
        "*Modeling and Simulation in Python*\n",
        "\n",
        "Copyright 2021 Allen Downey\n",
        "\n",
        "License: [Creative Commons Attribution-NonCommercial-ShareAlike 4.0 International](https://creativecommons.org/licenses/by-nc-sa/4.0/)"
      ]
    },
    {
      "cell_type": "code",
      "execution_count": 1,
      "id": "formal-context",
      "metadata": {
        "tags": [],
        "id": "formal-context",
        "colab": {
          "base_uri": "https://localhost:8080/"
        },
        "outputId": "64bfb6cf-e782-4bb9-c980-2928f4618c9c"
      },
      "outputs": [
        {
          "output_type": "stream",
          "name": "stdout",
          "text": [
            "Downloaded modsim.py\n"
          ]
        }
      ],
      "source": [
        "# download modsim.py if necessary\n",
        "\n",
        "from os.path import basename, exists\n",
        "\n",
        "def download(url):\n",
        "    filename = basename(url)\n",
        "    if not exists(filename):\n",
        "        from urllib.request import urlretrieve\n",
        "        local, _ = urlretrieve(url, filename)\n",
        "        print('Downloaded ' + local)\n",
        "\n",
        "download('https://github.com/AllenDowney/ModSimPy/raw/master/' +\n",
        "         'modsim.py')"
      ]
    },
    {
      "cell_type": "code",
      "execution_count": 2,
      "id": "progressive-typing",
      "metadata": {
        "tags": [],
        "id": "progressive-typing"
      },
      "outputs": [],
      "source": [
        "# import functions from modsim\n",
        "\n",
        "from modsim import *"
      ]
    },
    {
      "cell_type": "code",
      "execution_count": 3,
      "id": "breathing-hamilton",
      "metadata": {
        "tags": [],
        "id": "breathing-hamilton",
        "colab": {
          "base_uri": "https://localhost:8080/"
        },
        "outputId": "5d620ff7-1dc5-4e7e-bd8e-f6e7b5a9a3b3"
      },
      "outputs": [
        {
          "output_type": "stream",
          "name": "stdout",
          "text": [
            "Downloaded chap11.py\n"
          ]
        }
      ],
      "source": [
        "download('https://github.com/AllenDowney/ModSimPy/raw/master/chap11.py')"
      ]
    },
    {
      "cell_type": "code",
      "execution_count": 4,
      "id": "growing-sperm",
      "metadata": {
        "tags": [],
        "id": "growing-sperm"
      },
      "outputs": [],
      "source": [
        "# import code from previous notebooks\n",
        "\n",
        "from chap11 import make_system\n",
        "from chap11 import update_func\n",
        "from chap11 import run_simulation"
      ]
    },
    {
      "cell_type": "markdown",
      "id": "identical-steam",
      "metadata": {
        "id": "identical-steam"
      },
      "source": [
        "In the previous chapter I presented the Kermack-McKendrick (KM) model of infectious disease and used it to model the Freshman Plague at Olin. In this chapter we'll consider metrics intended to quantify the effects of the disease and interventions intended to reduce those effects.\n",
        "\n",
        "We'll use some of the functions from the previous chapter: `make_system`, `update_func`, and the last version of `run_simulation`, which returns the results in a `DataFrame` object."
      ]
    },
    {
      "cell_type": "markdown",
      "id": "complex-renewal",
      "metadata": {
        "id": "complex-renewal"
      },
      "source": [
        "## Immunization\n",
        "\n",
        "Models like this are useful for testing \"what if?\" scenarios. As an\n",
        "example, we'll consider the effect of immunization.\n",
        "\n",
        "Suppose there is a vaccine that causes a student to become immune to the Freshman Plague without being infected. How might you modify the model to capture this effect?\n",
        "\n",
        "One option is to treat immunization as a shortcut from susceptible to\n",
        "recovered without going through infectious. We can implement this\n",
        "feature like this:"
      ]
    },
    {
      "cell_type": "code",
      "execution_count": 5,
      "id": "recent-cooper",
      "metadata": {
        "id": "recent-cooper"
      },
      "outputs": [],
      "source": [
        "def add_immunization(system, fraction):\n",
        "    system.init.s -= fraction\n",
        "    system.init.r += fraction"
      ]
    },
    {
      "cell_type": "markdown",
      "id": "arranged-screening",
      "metadata": {
        "id": "arranged-screening"
      },
      "source": [
        "`add_immunization` moves the given fraction of the population from `S`\n",
        "to `R`.\n",
        "\n",
        "As a basis for comparison, I'll run the model with the same parameters as in the previous chapter, with no immunization."
      ]
    },
    {
      "cell_type": "code",
      "execution_count": 6,
      "id": "found-learning",
      "metadata": {
        "id": "found-learning"
      },
      "outputs": [],
      "source": [
        "tc = 3             # time between contacts in days\n",
        "tr = 4             # recovery time in days\n",
        "\n",
        "beta = 1 / tc      # contact rate in per day\n",
        "gamma = 1 / tr     # recovery rate in per day\n",
        "\n",
        "system = make_system(beta, gamma)\n",
        "results = run_simulation(system, update_func)"
      ]
    },
    {
      "cell_type": "markdown",
      "id": "unsigned-joseph",
      "metadata": {
        "id": "unsigned-joseph"
      },
      "source": [
        "Now let's see what happens if 10% of students are immune.\n",
        "I'll make another `System` object with the same parameters, then run `add_immunization` to modify the initial conditions."
      ]
    },
    {
      "cell_type": "code",
      "execution_count": 7,
      "id": "enormous-abortion",
      "metadata": {
        "id": "enormous-abortion"
      },
      "outputs": [],
      "source": [
        "system2 = make_system(beta, gamma)\n",
        "add_immunization(system2, 0.1)"
      ]
    },
    {
      "cell_type": "markdown",
      "id": "subject-ideal",
      "metadata": {
        "id": "subject-ideal"
      },
      "source": [
        "Now we can run the simulation like this:"
      ]
    },
    {
      "cell_type": "code",
      "execution_count": 8,
      "id": "funny-copper",
      "metadata": {
        "id": "funny-copper"
      },
      "outputs": [],
      "source": [
        "results2 = run_simulation(system2, update_func)"
      ]
    },
    {
      "cell_type": "markdown",
      "id": "bronze-techno",
      "metadata": {
        "id": "bronze-techno"
      },
      "source": [
        "The following figure shows `s` as a function of time, with and\n",
        "without immunization."
      ]
    },
    {
      "cell_type": "code",
      "execution_count": 9,
      "id": "divided-biotechnology",
      "metadata": {
        "id": "divided-biotechnology",
        "colab": {
          "base_uri": "https://localhost:8080/",
          "height": 309
        },
        "outputId": "20dfa377-c56f-4851-de31-c67dbeb71f95"
      },
      "outputs": [
        {
          "output_type": "display_data",
          "data": {
            "text/plain": [
              "<Figure size 450x300 with 1 Axes>"
            ],
            "image/png": "[encoded data removed]"
          },
          "metadata": {}
        }
      ],
      "source": [
        "results.s.plot(style='--', label='No immunization')\n",
        "results2.s.plot(label='10% immunization')\n",
        "\n",
        "decorate(xlabel='Time (days)',\n",
        "         ylabel='Fraction of population')"
      ]
    },
    {
      "cell_type": "markdown",
      "id": "passive-dance",
      "metadata": {
        "id": "passive-dance"
      },
      "source": [
        "With immunization, there is a smaller change in `s`; that is, fewer people are infected.\n",
        "In the next section we'll compute this change and use it to quantify the effect of immunization."
      ]
    },
    {
      "cell_type": "markdown",
      "id": "postal-cemetery",
      "metadata": {
        "id": "postal-cemetery"
      },
      "source": [
        "## Metrics\n",
        "\n",
        "When we plot a time series, we get a view of everything that happened\n",
        "when the model ran, but often we want to boil it down to a few numbers\n",
        "that summarize the outcome. These summary statistics are called\n",
        "*metrics*.\n",
        "\n",
        "In the KM model, we might want to know the time until the peak of the\n",
        "outbreak, the number of people who are sick at the peak, the number of\n",
        "students who will still be sick at the end of the semester, or the total number of students who get sick at any point.\n",
        "\n",
        "As an example, I will focus on the last one --- the total number of sick students --- and we will consider interventions intended to minimize it.\n",
        "\n",
        "We can get the total number of infections by computing the difference in `s` at the beginning and the end of the simulation."
      ]
    },
    {
      "cell_type": "code",
      "execution_count": 10,
      "id": "synthetic-element",
      "metadata": {
        "tags": [],
        "id": "synthetic-element"
      },
      "outputs": [],
      "source": [
        "def calc_total_infected(results, system):\n",
        "    s_0 = results.s[0]\n",
        "    s_end = results.s[system.t_end]\n",
        "    return s_0 - s_end"
      ]
    },
    {
      "cell_type": "markdown",
      "id": "parallel-pipeline",
      "metadata": {
        "id": "parallel-pipeline"
      },
      "source": [
        "And here are the results from the two simulations."
      ]
    },
    {
      "cell_type": "code",
      "execution_count": 11,
      "id": "recovered-picnic",
      "metadata": {
        "id": "recovered-picnic",
        "colab": {
          "base_uri": "https://localhost:8080/"
        },
        "outputId": "70055487-c638-4e99-9b4d-dc9ec748ad4f"
      },
      "outputs": [
        {
          "output_type": "execute_result",
          "data": {
            "text/plain": [
              "0.468320811028781"
            ]
          },
          "metadata": {},
          "execution_count": 11
        }
      ],
      "source": [
        "calc_total_infected(results, system)"
      ]
    },
    {
      "cell_type": "code",
      "execution_count": 12,
      "id": "american-transfer",
      "metadata": {
        "id": "american-transfer",
        "colab": {
          "base_uri": "https://localhost:8080/"
        },
        "outputId": "f51a98a1-dcf6-4f19-fcf0-527d864748b4"
      },
      "outputs": [
        {
          "output_type": "execute_result",
          "data": {
            "text/plain": [
              "0.30650802853979753"
            ]
          },
          "metadata": {},
          "execution_count": 12
        }
      ],
      "source": [
        "calc_total_infected(results2, system2)"
      ]
    },
    {
      "cell_type": "markdown",
      "id": "adverse-trance",
      "metadata": {
        "id": "adverse-trance"
      },
      "source": [
        "Without immunization, almost 47% of the population gets infected at some point. With 10% immunization, only 31% get infected. That's pretty good."
      ]
    },
    {
      "cell_type": "markdown",
      "id": "eight-maximum",
      "metadata": {
        "id": "eight-maximum"
      },
      "source": [
        "## Sweeping Immunization\n",
        "\n",
        "Now let's see what happens if we administer more vaccines. This\n",
        "following function sweeps a range of immunization rates:"
      ]
    },
    {
      "cell_type": "code",
      "execution_count": 13,
      "id": "progressive-architect",
      "metadata": {
        "id": "progressive-architect"
      },
      "outputs": [],
      "source": [
        "def sweep_immunity(fraction_array):\n",
        "    sweep = SweepSeries()\n",
        "\n",
        "    for fraction in fraction_array:\n",
        "        system = make_system(beta, gamma)\n",
        "        add_immunization(system, fraction)\n",
        "        results = run_simulation(system, update_func)\n",
        "        sweep[fraction] = calc_total_infected(results, system)\n",
        "\n",
        "    return sweep"
      ]
    },
    {
      "cell_type": "markdown",
      "id": "timely-industry",
      "metadata": {
        "id": "timely-industry"
      },
      "source": [
        "The parameter of `sweep_immunity` is an array of immunization rates. The result is a `SweepSeries` object that maps from each immunization rate to the resulting fraction of students ever infected.\n",
        "\n",
        "We can call it like this:"
      ]
    },
    {
      "cell_type": "code",
      "execution_count": 14,
      "id": "measured-pavilion",
      "metadata": {
        "id": "measured-pavilion"
      },
      "outputs": [],
      "source": [
        "fraction_array = linspace(0, 1, 21)\n",
        "infected_sweep = sweep_immunity(fraction_array)"
      ]
    },
    {
      "cell_type": "markdown",
      "id": "indie-seeker",
      "metadata": {
        "id": "indie-seeker"
      },
      "source": [
        "The following figure plots the `SweepSeries`. Notice that the $x$-axis is the immunization rate, not time."
      ]
    },
    {
      "cell_type": "code",
      "execution_count": 15,
      "id": "interior-humanitarian",
      "metadata": {
        "id": "interior-humanitarian",
        "colab": {
          "base_uri": "https://localhost:8080/",
          "height": 309
        },
        "outputId": "2ddff249-e960-43e7-f581-67d2e3dab8ae"
      },
      "outputs": [
        {
          "output_type": "display_data",
          "data": {
            "text/plain": [
              "<Figure size 450x300 with 1 Axes>"
            ],
            "image/png": "[encoded data removed]"
          },
          "metadata": {}
        }
      ],
      "source": [
        "infected_sweep.plot(color='C2')\n",
        "\n",
        "decorate(xlabel='Fraction immunized',\n",
        "         ylabel='Total fraction infected',\n",
        "         title='Fraction infected vs. immunization rate')"
      ]
    },
    {
      "cell_type": "markdown",
      "id": "turkish-mumbai",
      "metadata": {
        "id": "turkish-mumbai"
      },
      "source": [
        "As the immunization rate increases, the number of infections drops\n",
        "steeply. If 40% of the students are immunized, fewer than 4% get sick.\n",
        "That's because immunization has two effects: it protects the people who get immunized (of course) but it also protects the rest of the\n",
        "population.\n",
        "\n",
        "Reducing the number of \"susceptibles\" and increasing the number of\n",
        "\"resistants\" makes it harder for the disease to spread, because some\n",
        "fraction of contacts are wasted on people who cannot be infected. This\n",
        "phenomenon is called *herd immunity*, and it is an important element\n",
        "of public health (see <http://modsimpy.com/herd>)."
      ]
    },
    {
      "cell_type": "markdown",
      "id": "french-spouse",
      "metadata": {
        "id": "french-spouse"
      },
      "source": [
        "The steepness of the curve is a blessing and a curse. It's a blessing\n",
        "because it means we don't have to immunize everyone, and vaccines can\n",
        "protect the \"herd\" even if they are not 100% effective.\n",
        "\n",
        "But it's a curse because a small decrease in immunization can cause a\n",
        "big increase in infections. In this example, if we drop from 80%\n",
        "immunization to 60%, that might not be too bad. But if we drop from 40% to 20%, that would trigger a major outbreak, affecting more than 15% of the population. For a serious disease like measles, just to name one, that would be a public health catastrophe."
      ]
    },
    {
      "cell_type": "markdown",
      "id": "amino-excess",
      "metadata": {
        "id": "amino-excess"
      },
      "source": [
        "## Summary\n",
        "\n",
        "In general, models are used to predict, explain, and design.\n",
        "In this chapter, we use an SIR model to predict the effect of immunization and to explain the phenomenon of herd immunity.\n",
        "\n",
        "In the repository for this book, you will find a file called *plague.ipynb* that uses this model for design, that is, for making public health decisions intended to achieve a goal.\n",
        "\n",
        "In the next chapter, we'll explore the SIR model further by sweeping the parameters.\n",
        "\n",
        "But first you might want to work on this exercise."
      ]
    },
    {
      "cell_type": "markdown",
      "id": "institutional-memory",
      "metadata": {
        "id": "institutional-memory"
      },
      "source": [
        "## Exercises\n",
        "\n",
        "This chapter is available as a Jupyter notebook where you can read the text, run the code, and work on the exercises.\n",
        "You can access the notebooks at <https://allendowney.github.io/ModSimPy/>."
      ]
    },
    {
      "cell_type": "markdown",
      "id": "drawn-hindu",
      "metadata": {
        "id": "drawn-hindu"
      },
      "source": [
        "### Exercise 1\n",
        "\n",
        " Suppose we have the option to quarantine infected students.  For example, a student who feels ill might be moved to an infirmary or a private dorm room until they are no longer infectious.\n",
        "\n",
        "How might you incorporate the effect of quarantine in the SIR model?"
      ]
    },
    {
      "cell_type": "code",
      "execution_count": 25,
      "id": "impressive-librarian",
      "metadata": {
        "id": "impressive-librarian"
      },
      "outputs": [],
      "source": [
        "# Solution goes here\n",
        "\n",
        "# I can denote this new state as Q for quarantined. The modified model will be referred to as the SIRQ model, with compartments for Susceptible (S), Infected (I), Recovered (R), and Quarantined (Q) individuals."
      ]
    },
    {
      "cell_type": "code",
      "source": [
        "# download modsim.py if necessary\n",
        "from os.path import basename, exists\n",
        "\n",
        "def download(url):\n",
        "    filename = basename(url)\n",
        "    if not exists(filename):\n",
        "        from urllib.request import urlretrieve\n",
        "        local, _ = urlretrieve(url, filename)\n",
        "        print('Downloaded ' + local)\n",
        "\n",
        "download('https://github.com/AllenDowney/ModSimPy/raw/master/modsim.py')\n",
        "\n",
        "# import functions from modsim\n",
        "from modsim import *\n",
        "\n",
        "download('https://github.com/AllenDowney/ModSimPy/raw/master/chap11.py')\n",
        "\n",
        "# import code from previous notebooks\n",
        "from chap11 import make_system, update_func, run_simulation\n",
        "\n",
        "# State class has to_array and from_array methods\n",
        "class State(pd.Series):\n",
        "    def to_array(self):\n",
        "        return self.values\n",
        "\n",
        "    @staticmethod\n",
        "    def from_array(array):\n",
        "        return State(array, index=['s', 'i', 'r', 'q'])\n",
        "\n",
        "# the system parameters\n",
        "tc = 3             # time between contacts in days\n",
        "tr = 4             # recovery time in days\n",
        "tq = 2             # quarantine time in days\n",
        "\n",
        "beta = 1 / tc      # contact rate in per day\n",
        "gamma = 1 / tr     # recovery rate in per day\n",
        "delta = 1 / tq     # quarantine rate in per day\n",
        "\n",
        "def make_system(beta, gamma, delta):\n",
        "    init = State([0.99, 0.01, 0, 0], index=['s', 'i', 'r', 'q'])\n",
        "    t0 = 0\n",
        "    t_end = 30\n",
        "    return System(init=init, t0=t0, t_end=t_end, beta=beta, gamma=gamma, delta=delta)\n",
        "\n",
        "def update_func(state, t, system):\n",
        "    s, i, r, q = state\n",
        "\n",
        "    # changes\n",
        "    infected = system.beta * s * i\n",
        "    recovered = system.gamma * i\n",
        "    quarantined = system.delta * i\n",
        "\n",
        "    # states\n",
        "    s -= infected\n",
        "    i += infected - recovered - quarantined\n",
        "    r += recovered\n",
        "    q += quarantined\n",
        "\n",
        "    return State([s, i, r, q], index=['s', 'i', 'r', 'q'])\n",
        "\n",
        "from scipy.integrate import solve_ivp\n",
        "\n",
        "def ode_solver(system, update_func):\n",
        "    T = linspace(system.t0, system.t_end, num=301)\n",
        "    init = system.init.to_array()\n",
        "\n",
        "    def gradient(t, y):\n",
        "        state = State.from_array(y)\n",
        "        dstate = update_func(state, t, system)\n",
        "        return dstate.to_array()\n",
        "\n",
        "    results = solve_ivp(gradient, [system.t0, system.t_end], init, t_eval=T)\n",
        "\n",
        "    return TimeFrame(results.y.T, columns=system.init.index, index=results.t)\n",
        "\n",
        "def run_simulation(system, update_func):\n",
        "    return ode_solver(system, update_func)\n",
        "\n",
        "# the system and run simulation with quarantine\n",
        "system = make_system(beta, gamma, delta)\n",
        "results = run_simulation(system, update_func)\n",
        "\n",
        "# Plot\n",
        "results.s.plot(label='Susceptible')\n",
        "results.i.plot(label='Infected')\n",
        "results.r.plot(label='Recovered')\n",
        "results.q.plot(label='Quarantined')\n",
        "\n",
        "decorate(xlabel='Time (days)',\n",
        "         ylabel='Fraction of population',\n",
        "         title='SIR Model with Quarantine')\n",
        "plt.legend()\n",
        "\n",
        "plt.show()\n",
        "\n",
        "# the total infected and quarantined for analysis\n",
        "def calc_totals(results, system):\n",
        "    total_infected = results.i.sum() * (system.t_end / len(results.i))\n",
        "    total_quarantined = results.q.sum() * (system.t_end / len(results.q))\n",
        "    return total_infected, total_quarantined\n",
        "\n",
        "total_infected, total_quarantined = calc_totals(results, system)\n",
        "\n",
        "print('Total infected:', total_infected)\n",
        "print('Total quarantined:', total_quarantined)"
      ],
      "metadata": {
        "colab": {
          "base_uri": "https://localhost:8080/",
          "height": 343
        },
        "id": "bKXJshkPFBjT",
        "outputId": "11944d3a-ab29-4d39-e1d3-c4247ce94dee"
      },
      "id": "bKXJshkPFBjT",
      "execution_count": 39,
      "outputs": [
        {
          "output_type": "display_data",
          "data": {
            "text/plain": [
              "<Figure size 450x300 with 1 Axes>"
            ],
            "image/png": "[encoded data removed]"
          },
          "metadata": {}
        },
        {
          "output_type": "stream",
          "name": "stdout",
          "text": [
            "Total infected: 72382.10118603216\n",
            "Total quarantined: 7461791410005.689\n"
          ]
        }
      ]
    }
  ],
  "metadata": {
    "celltoolbar": "Tags",
    "kernelspec": {
      "display_name": "Python 3 (ipykernel)",
      "language": "python",
      "name": "python3"
    },
    "language_info": {
      "codemirror_mode": {
        "name": "ipython",
        "version": 3
      },
      "file_extension": ".py",
      "mimetype": "text/x-python",
      "name": "python",
      "nbconvert_exporter": "python",
      "pygments_lexer": "ipython3",
      "version": "3.7.12"
    },
    "colab": {
      "provenance": []
    }
  },
  "nbformat": 4,
  "nbformat_minor": 5
}