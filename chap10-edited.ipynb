{
  "cells": [
    {
      "cell_type": "markdown",
      "id": "dense-storm",
      "metadata": {
        "id": "dense-storm"
      },
      "source": [
        "# Case Studies Part 1"
      ]
    },
    {
      "cell_type": "markdown",
      "id": "imported-table",
      "metadata": {
        "tags": [],
        "id": "imported-table"
      },
      "source": [
        "*Modeling and Simulation in Python*\n",
        "\n",
        "Copyright 2021 Allen Downey\n",
        "\n",
        "License: [Creative Commons Attribution-NonCommercial-ShareAlike 4.0 International](https://creativecommons.org/licenses/by-nc-sa/4.0/)"
      ]
    },
    {
      "cell_type": "code",
      "execution_count": 1,
      "id": "formal-context",
      "metadata": {
        "tags": [],
        "id": "formal-context",
        "colab": {
          "base_uri": "https://localhost:8080/"
        },
        "outputId": "4cb19a0d-468b-4f13-d2a9-1b7f0f008215"
      },
      "outputs": [
        {
          "output_type": "stream",
          "name": "stdout",
          "text": [
            "Downloaded modsim.py\n"
          ]
        }
      ],
      "source": [
        "# download modsim.py if necessary\n",
        "\n",
        "from os.path import basename, exists\n",
        "\n",
        "def download(url):\n",
        "    filename = basename(url)\n",
        "    if not exists(filename):\n",
        "        from urllib.request import urlretrieve\n",
        "        local, _ = urlretrieve(url, filename)\n",
        "        print('Downloaded ' + local)\n",
        "\n",
        "download('https://raw.githubusercontent.com/AllenDowney/' +\n",
        "         'ModSimPy/master/modsim.py')"
      ]
    },
    {
      "cell_type": "code",
      "execution_count": 2,
      "id": "progressive-typing",
      "metadata": {
        "tags": [],
        "id": "progressive-typing"
      },
      "outputs": [],
      "source": [
        "# import functions from modsim\n",
        "\n",
        "from modsim import *"
      ]
    },
    {
      "cell_type": "markdown",
      "id": "thirty-medication",
      "metadata": {
        "id": "thirty-medication"
      },
      "source": [
        "This chapter presents case studies where you can apply the tools we have learned so far to problems involving population growth, queueing systems, and tree growth.\n",
        "\n",
        "This chapter is available as a Jupyter notebook where you can read the text, run the code, and work on the exercises.\n",
        "Click here to access the notebooks: <https://allendowney.github.io/ModSimPy/>."
      ]
    },
    {
      "cell_type": "markdown",
      "id": "industrial-mercy",
      "metadata": {
        "id": "industrial-mercy"
      },
      "source": [
        "## Historical World Population\n",
        "\n",
        "The Wikipedia page about world population growth includes estimates for world population from 12,000 years ago to the present (see <https://en.wikipedia.org/wiki/World_population_estimates.html>)."
      ]
    },
    {
      "cell_type": "markdown",
      "id": "weekly-class",
      "metadata": {
        "tags": [],
        "id": "weekly-class"
      },
      "source": [
        "The following cells download an archived version of this page and read the data into a Pandas `DataFrame`."
      ]
    },
    {
      "cell_type": "code",
      "execution_count": 3,
      "id": "usual-penguin",
      "metadata": {
        "tags": [],
        "id": "usual-penguin",
        "colab": {
          "base_uri": "https://localhost:8080/"
        },
        "outputId": "8033adad-3faa-4417-9180-35d27414dc06"
      },
      "outputs": [
        {
          "output_type": "stream",
          "name": "stdout",
          "text": [
            "Downloaded World_population_estimates.html\n"
          ]
        }
      ],
      "source": [
        "download('https://raw.githubusercontent.com/AllenDowney/' +\n",
        "         'ModSimPy/master/data/World_population_estimates.html')"
      ]
    },
    {
      "cell_type": "code",
      "execution_count": 4,
      "id": "thick-lincoln",
      "metadata": {
        "tags": [],
        "id": "thick-lincoln",
        "colab": {
          "base_uri": "https://localhost:8080/"
        },
        "outputId": "39fd5e53-b318-413c-be32-1ac8606522e1"
      },
      "outputs": [
        {
          "output_type": "execute_result",
          "data": {
            "text/plain": [
              "6"
            ]
          },
          "metadata": {},
          "execution_count": 4
        }
      ],
      "source": [
        "from pandas import read_html\n",
        "\n",
        "filename = 'World_population_estimates.html'\n",
        "tables = read_html(filename, header=0, index_col=0, decimal='M')\n",
        "len(tables)"
      ]
    },
    {
      "cell_type": "code",
      "execution_count": 5,
      "id": "conscious-orange",
      "metadata": {
        "tags": [],
        "id": "conscious-orange",
        "colab": {
          "base_uri": "https://localhost:8080/",
          "height": 292
        },
        "outputId": "6bd9e6c0-a7aa-48b8-85d7-175f24d1d670"
      },
      "outputs": [
        {
          "output_type": "execute_result",
          "data": {
            "text/plain": [
              "       Population Reference Bureau (1973–2016)[15]  \\\n",
              "Year                                                 \n",
              "-10000                                         NaN   \n",
              "-9000                                          NaN   \n",
              "-8000                                           5.   \n",
              "-7000                                          NaN   \n",
              "-6000                                          NaN   \n",
              "\n",
              "        United Nations Department of Economic and Social Affairs (2015)[16]  \\\n",
              "Year                                                                          \n",
              "-10000                                                NaN                     \n",
              "-9000                                                 NaN                     \n",
              "-8000                                                 NaN                     \n",
              "-7000                                                 NaN                     \n",
              "-6000                                                 NaN                     \n",
              "\n",
              "       Maddison (2008)[17] HYDE (2010)[citation needed]  Tanton (1994)[18]  \\\n",
              "Year                                                                         \n",
              "-10000                 NaN                       2M[24]                NaN   \n",
              "-9000                  NaN                           4.                NaN   \n",
              "-8000                  NaN                           5.                NaN   \n",
              "-7000                  NaN                           8.                NaN   \n",
              "-6000                  NaN                          11.                NaN   \n",
              "\n",
              "        Biraben (1980)[19]  McEvedy & Jones (1978)[20] Thomlinson (1975)[21]  \\\n",
              "Year                                                                           \n",
              "-10000                 NaN                         4.0                 1–10M   \n",
              "-9000                  NaN                         NaN                   NaN   \n",
              "-8000                  NaN                         NaN                   NaN   \n",
              "-7000                  NaN                         NaN                   NaN   \n",
              "-6000                  NaN                         NaN                   NaN   \n",
              "\n",
              "       Durand (1974)[22] Clark (1967)[23]  \n",
              "Year                                       \n",
              "-10000               NaN              NaN  \n",
              "-9000                NaN              NaN  \n",
              "-8000              5–10M              NaN  \n",
              "-7000                NaN              NaN  \n",
              "-6000                NaN              NaN  "
            ],
            "text/html": [
              "\n",
              "  <div id=\"df-750aeee0-4fff-4991-91dc-0bd2b509140f\" class=\"colab-df-container\">\n",
              "    <div>\n",
              "<style scoped>\n",
              "    .dataframe tbody tr th:only-of-type {\n",
              "        vertical-align: middle;\n",
              "    }\n",
              "\n",
              "    .dataframe tbody tr th {\n",
              "        vertical-align: top;\n",
              "    }\n",
              "\n",
              "    .dataframe thead th {\n",
              "        text-align: right;\n",
              "    }\n",
              "</style>\n",
              "<table border=\"1\" class=\"dataframe\">\n",
              "  <thead>\n",
              "    <tr style=\"text-align: right;\">\n",
              "      <th></th>\n",
              "      <th>Population Reference Bureau (1973–2016)[15]</th>\n",
              "      <th>United Nations Department of Economic and Social Affairs (2015)[16]</th>\n",
              "      <th>Maddison (2008)[17]</th>\n",
              "      <th>HYDE (2010)[citation needed]</th>\n",
              "      <th>Tanton (1994)[18]</th>\n",
              "      <th>Biraben (1980)[19]</th>\n",
              "      <th>McEvedy &amp; Jones (1978)[20]</th>\n",
              "      <th>Thomlinson (1975)[21]</th>\n",
              "      <th>Durand (1974)[22]</th>\n",
              "      <th>Clark (1967)[23]</th>\n",
              "    </tr>\n",
              "    <tr>\n",
              "      <th>Year</th>\n",
              "      <th></th>\n",
              "      <th></th>\n",
              "      <th></th>\n",
              "      <th></th>\n",
              "      <th></th>\n",
              "      <th></th>\n",
              "      <th></th>\n",
              "      <th></th>\n",
              "      <th></th>\n",
              "      <th></th>\n",
              "    </tr>\n",
              "  </thead>\n",
              "  <tbody>\n",
              "    <tr>\n",
              "      <th>-10000</th>\n",
              "      <td>NaN</td>\n",
              "      <td>NaN</td>\n",
              "      <td>NaN</td>\n",
              "      <td>2M[24]</td>\n",
              "      <td>NaN</td>\n",
              "      <td>NaN</td>\n",
              "      <td>4.0</td>\n",
              "      <td>1–10M</td>\n",
              "      <td>NaN</td>\n",
              "      <td>NaN</td>\n",
              "    </tr>\n",
              "    <tr>\n",
              "      <th>-9000</th>\n",
              "      <td>NaN</td>\n",
              "      <td>NaN</td>\n",
              "      <td>NaN</td>\n",
              "      <td>4.</td>\n",
              "      <td>NaN</td>\n",
              "      <td>NaN</td>\n",
              "      <td>NaN</td>\n",
              "      <td>NaN</td>\n",
              "      <td>NaN</td>\n",
              "      <td>NaN</td>\n",
              "    </tr>\n",
              "    <tr>\n",
              "      <th>-8000</th>\n",
              "      <td>5.</td>\n",
              "      <td>NaN</td>\n",
              "      <td>NaN</td>\n",
              "      <td>5.</td>\n",
              "      <td>NaN</td>\n",
              "      <td>NaN</td>\n",
              "      <td>NaN</td>\n",
              "      <td>NaN</td>\n",
              "      <td>5–10M</td>\n",
              "      <td>NaN</td>\n",
              "    </tr>\n",
              "    <tr>\n",
              "      <th>-7000</th>\n",
              "      <td>NaN</td>\n",
              "      <td>NaN</td>\n",
              "      <td>NaN</td>\n",
              "      <td>8.</td>\n",
              "      <td>NaN</td>\n",
              "      <td>NaN</td>\n",
              "      <td>NaN</td>\n",
              "      <td>NaN</td>\n",
              "      <td>NaN</td>\n",
              "      <td>NaN</td>\n",
              "    </tr>\n",
              "    <tr>\n",
              "      <th>-6000</th>\n",
              "      <td>NaN</td>\n",
              "      <td>NaN</td>\n",
              "      <td>NaN</td>\n",
              "      <td>11.</td>\n",
              "      <td>NaN</td>\n",
              "      <td>NaN</td>\n",
              "      <td>NaN</td>\n",
              "      <td>NaN</td>\n",
              "      <td>NaN</td>\n",
              "      <td>NaN</td>\n",
              "    </tr>\n",
              "  </tbody>\n",
              "</table>\n",
              "</div>\n",
              "    <div class=\"colab-df-buttons\">\n",
              "\n",
              "  <div class=\"colab-df-container\">\n",
              "    <button class=\"colab-df-convert\" onclick=\"convertToInteractive('df-750aeee0-4fff-4991-91dc-0bd2b509140f')\"\n",
              "            title=\"Convert this dataframe to an interactive table.\"\n",
              "            style=\"display:none;\">\n",
              "\n",
              "  <svg xmlns=\"http://www.w3.org/2000/svg\" height=\"24px\" viewBox=\"0 -960 960 960\">\n",
              "    <path d=\"M120-120v-720h720v720H120Zm60-500h600v-160H180v160Zm220 220h160v-160H400v160Zm0 220h160v-160H400v160ZM180-400h160v-160H180v160Zm440 0h160v-160H620v160ZM180-180h160v-160H180v160Zm440 0h160v-160H620v160Z\"/>\n",
              "  </svg>\n",
              "    </button>\n",
              "\n",
              "  <style>\n",
              "    .colab-df-container {\n",
              "      display:flex;\n",
              "      gap: 12px;\n",
              "    }\n",
              "\n",
              "    .colab-df-convert {\n",
              "      background-color: #E8F0FE;\n",
              "      border: none;\n",
              "      border-radius: 50%;\n",
              "      cursor: pointer;\n",
              "      display: none;\n",
              "      fill: #1967D2;\n",
              "      height: 32px;\n",
              "      padding: 0 0 0 0;\n",
              "      width: 32px;\n",
              "    }\n",
              "\n",
              "    .colab-df-convert:hover {\n",
              "      background-color: #E2EBFA;\n",
              "      box-shadow: 0px 1px 2px rgba(60, 64, 67, 0.3), 0px 1px 3px 1px rgba(60, 64, 67, 0.15);\n",
              "      fill: #174EA6;\n",
              "    }\n",
              "\n",
              "    .colab-df-buttons div {\n",
              "      margin-bottom: 4px;\n",
              "    }\n",
              "\n",
              "    [theme=dark] .colab-df-convert {\n",
              "      background-color: #3B4455;\n",
              "      fill: #D2E3FC;\n",
              "    }\n",
              "\n",
              "    [theme=dark] .colab-df-convert:hover {\n",
              "      background-color: #434B5C;\n",
              "      box-shadow: 0px 1px 3px 1px rgba(0, 0, 0, 0.15);\n",
              "      filter: drop-shadow(0px 1px 2px rgba(0, 0, 0, 0.3));\n",
              "      fill: #FFFFFF;\n",
              "    }\n",
              "  </style>\n",
              "\n",
              "    <script>\n",
              "      const buttonEl =\n",
              "        document.querySelector('#df-750aeee0-4fff-4991-91dc-0bd2b509140f button.colab-df-convert');\n",
              "      buttonEl.style.display =\n",
              "        google.colab.kernel.accessAllowed ? 'block' : 'none';\n",
              "\n",
              "      async function convertToInteractive(key) {\n",
              "        const element = document.querySelector('#df-750aeee0-4fff-4991-91dc-0bd2b509140f');\n",
              "        const dataTable =\n",
              "          await google.colab.kernel.invokeFunction('convertToInteractive',\n",
              "                                                    [key], {});\n",
              "        if (!dataTable) return;\n",
              "\n",
              "        const docLinkHtml = 'Like what you see? Visit the ' +\n",
              "          '<a target=\"_blank\" href=https://colab.research.google.com/notebooks/data_table.ipynb>data table notebook</a>'\n",
              "          + ' to learn more about interactive tables.';\n",
              "        element.innerHTML = '';\n",
              "        dataTable['output_type'] = 'display_data';\n",
              "        await google.colab.output.renderOutput(dataTable, element);\n",
              "        const docLink = document.createElement('div');\n",
              "        docLink.innerHTML = docLinkHtml;\n",
              "        element.appendChild(docLink);\n",
              "      }\n",
              "    </script>\n",
              "  </div>\n",
              "\n",
              "\n",
              "<div id=\"df-5e46ff13-4f84-4927-b28d-63cbd3f0ba6c\">\n",
              "  <button class=\"colab-df-quickchart\" onclick=\"quickchart('df-5e46ff13-4f84-4927-b28d-63cbd3f0ba6c')\"\n",
              "            title=\"Suggest charts\"\n",
              "            style=\"display:none;\">\n",
              "\n",
              "<svg xmlns=\"http://www.w3.org/2000/svg\" height=\"24px\"viewBox=\"0 0 24 24\"\n",
              "     width=\"24px\">\n",
              "    <g>\n",
              "        <path d=\"M19 3H5c-1.1 0-2 .9-2 2v14c0 1.1.9 2 2 2h14c1.1 0 2-.9 2-2V5c0-1.1-.9-2-2-2zM9 17H7v-7h2v7zm4 0h-2V7h2v10zm4 0h-2v-4h2v4z\"/>\n",
              "    </g>\n",
              "</svg>\n",
              "  </button>\n",
              "\n",
              "<style>\n",
              "  .colab-df-quickchart {\n",
              "      --bg-color: #E8F0FE;\n",
              "      --fill-color: #1967D2;\n",
              "      --hover-bg-color: #E2EBFA;\n",
              "      --hover-fill-color: #174EA6;\n",
              "      --disabled-fill-color: #AAA;\n",
              "      --disabled-bg-color: #DDD;\n",
              "  }\n",
              "\n",
              "  [theme=dark] .colab-df-quickchart {\n",
              "      --bg-color: #3B4455;\n",
              "      --fill-color: #D2E3FC;\n",
              "      --hover-bg-color: #434B5C;\n",
              "      --hover-fill-color: #FFFFFF;\n",
              "      --disabled-bg-color: #3B4455;\n",
              "      --disabled-fill-color: #666;\n",
              "  }\n",
              "\n",
              "  .colab-df-quickchart {\n",
              "    background-color: var(--bg-color);\n",
              "    border: none;\n",
              "    border-radius: 50%;\n",
              "    cursor: pointer;\n",
              "    display: none;\n",
              "    fill: var(--fill-color);\n",
              "    height: 32px;\n",
              "    padding: 0;\n",
              "    width: 32px;\n",
              "  }\n",
              "\n",
              "  .colab-df-quickchart:hover {\n",
              "    background-color: var(--hover-bg-color);\n",
              "    box-shadow: 0 1px 2px rgba(60, 64, 67, 0.3), 0 1px 3px 1px rgba(60, 64, 67, 0.15);\n",
              "    fill: var(--button-hover-fill-color);\n",
              "  }\n",
              "\n",
              "  .colab-df-quickchart-complete:disabled,\n",
              "  .colab-df-quickchart-complete:disabled:hover {\n",
              "    background-color: var(--disabled-bg-color);\n",
              "    fill: var(--disabled-fill-color);\n",
              "    box-shadow: none;\n",
              "  }\n",
              "\n",
              "  .colab-df-spinner {\n",
              "    border: 2px solid var(--fill-color);\n",
              "    border-color: transparent;\n",
              "    border-bottom-color: var(--fill-color);\n",
              "    animation:\n",
              "      spin 1s steps(1) infinite;\n",
              "  }\n",
              "\n",
              "  @keyframes spin {\n",
              "    0% {\n",
              "      border-color: transparent;\n",
              "      border-bottom-color: var(--fill-color);\n",
              "      border-left-color: var(--fill-color);\n",
              "    }\n",
              "    20% {\n",
              "      border-color: transparent;\n",
              "      border-left-color: var(--fill-color);\n",
              "      border-top-color: var(--fill-color);\n",
              "    }\n",
              "    30% {\n",
              "      border-color: transparent;\n",
              "      border-left-color: var(--fill-color);\n",
              "      border-top-color: var(--fill-color);\n",
              "      border-right-color: var(--fill-color);\n",
              "    }\n",
              "    40% {\n",
              "      border-color: transparent;\n",
              "      border-right-color: var(--fill-color);\n",
              "      border-top-color: var(--fill-color);\n",
              "    }\n",
              "    60% {\n",
              "      border-color: transparent;\n",
              "      border-right-color: var(--fill-color);\n",
              "    }\n",
              "    80% {\n",
              "      border-color: transparent;\n",
              "      border-right-color: var(--fill-color);\n",
              "      border-bottom-color: var(--fill-color);\n",
              "    }\n",
              "    90% {\n",
              "      border-color: transparent;\n",
              "      border-bottom-color: var(--fill-color);\n",
              "    }\n",
              "  }\n",
              "</style>\n",
              "\n",
              "  <script>\n",
              "    async function quickchart(key) {\n",
              "      const quickchartButtonEl =\n",
              "        document.querySelector('#' + key + ' button');\n",
              "      quickchartButtonEl.disabled = true;  // To prevent multiple clicks.\n",
              "      quickchartButtonEl.classList.add('colab-df-spinner');\n",
              "      try {\n",
              "        const charts = await google.colab.kernel.invokeFunction(\n",
              "            'suggestCharts', [key], {});\n",
              "      } catch (error) {\n",
              "        console.error('Error during call to suggestCharts:', error);\n",
              "      }\n",
              "      quickchartButtonEl.classList.remove('colab-df-spinner');\n",
              "      quickchartButtonEl.classList.add('colab-df-quickchart-complete');\n",
              "    }\n",
              "    (() => {\n",
              "      let quickchartButtonEl =\n",
              "        document.querySelector('#df-5e46ff13-4f84-4927-b28d-63cbd3f0ba6c button');\n",
              "      quickchartButtonEl.style.display =\n",
              "        google.colab.kernel.accessAllowed ? 'block' : 'none';\n",
              "    })();\n",
              "  </script>\n",
              "</div>\n",
              "\n",
              "    </div>\n",
              "  </div>\n"
            ],
            "application/vnd.google.colaboratory.intrinsic+json": {
              "type": "dataframe",
              "variable_name": "table1",
              "summary": "{\n  \"name\": \"table1\",\n  \"rows\": 46,\n  \"fields\": [\n    {\n      \"column\": \"Year\",\n      \"properties\": {\n        \"dtype\": \"number\",\n        \"std\": 3170,\n        \"min\": -10000,\n        \"max\": 1940,\n        \"num_unique_values\": 46,\n        \"samples\": [\n          1900,\n          1250,\n          1300\n        ],\n        \"semantic_type\": \"\",\n        \"description\": \"\"\n      }\n    },\n    {\n      \"column\": \"Population Reference Bureau (1973\\u20132016)[15]\",\n      \"properties\": {\n        \"dtype\": \"category\",\n        \"num_unique_values\": 6,\n        \"samples\": [\n          \"5.\",\n          \"300M[25]\",\n          \"1656.\"\n        ],\n        \"semantic_type\": \"\",\n        \"description\": \"\"\n      }\n    },\n    {\n      \"column\": \"United Nations Department of Economic and Social Affairs (2015)[16]\",\n      \"properties\": {\n        \"dtype\": \"number\",\n        \"std\": 729.6100400940633,\n        \"min\": 300.0,\n        \"max\": 2300.0,\n        \"num_unique_values\": 12,\n        \"samples\": [\n          2070.0,\n          1860.0,\n          300.0\n        ],\n        \"semantic_type\": \"\",\n        \"description\": \"\"\n      }\n    },\n    {\n      \"column\": \"Maddison (2008)[17]\",\n      \"properties\": {\n        \"dtype\": \"category\",\n        \"num_unique_values\": 11,\n        \"samples\": [\n          \"1042.\",\n          \"231M[26]\",\n          \"1863.\"\n        ],\n        \"semantic_type\": \"\",\n        \"description\": \"\"\n      }\n    },\n    {\n      \"column\": \"HYDE (2010)[citation needed]\",\n      \"properties\": {\n        \"dtype\": \"string\",\n        \"num_unique_values\": 36,\n        \"samples\": [\n          \"2307.\",\n          \"205.\",\n          \"554M[24]\"\n        ],\n        \"semantic_type\": \"\",\n        \"description\": \"\"\n      }\n    },\n    {\n      \"column\": \"Tanton (1994)[18]\",\n      \"properties\": {\n        \"dtype\": \"number\",\n        \"std\": 524.2295934670864,\n        \"min\": 150.0,\n        \"max\": 1600.0,\n        \"num_unique_values\": 6,\n        \"samples\": [\n          150.0,\n          300.0,\n          1600.0\n        ],\n        \"semantic_type\": \"\",\n        \"description\": \"\"\n      }\n    },\n    {\n      \"column\": \"Biraben (1980)[19]\",\n      \"properties\": {\n        \"dtype\": \"number\",\n        \"std\": 372.13232820727853,\n        \"min\": 206.0,\n        \"max\": 1633.0,\n        \"num_unique_values\": 20,\n        \"samples\": [\n          255.0,\n          954.0,\n          679.0\n        ],\n        \"semantic_type\": \"\",\n        \"description\": \"\"\n      }\n    },\n    {\n      \"column\": \"McEvedy & Jones (1978)[20]\",\n      \"properties\": {\n        \"dtype\": \"number\",\n        \"std\": 507.7268669556215,\n        \"min\": 4.0,\n        \"max\": 2000.0,\n        \"num_unique_values\": 25,\n        \"samples\": [\n          190.0,\n          350.0,\n          4.0\n        ],\n        \"semantic_type\": \"\",\n        \"description\": \"\"\n      }\n    },\n    {\n      \"column\": \"Thomlinson (1975)[21]\",\n      \"properties\": {\n        \"dtype\": \"category\",\n        \"num_unique_values\": 10,\n        \"samples\": [\n          \"1200.\",\n          \"5\\u201320M\",\n          \"600.\"\n        ],\n        \"semantic_type\": \"\",\n        \"description\": \"\"\n      }\n    },\n    {\n      \"column\": \"Durand (1974)[22]\",\n      \"properties\": {\n        \"dtype\": \"category\",\n        \"num_unique_values\": 6,\n        \"samples\": [\n          \"5\\u201310M\",\n          \"270\\u2013330M\",\n          \"1,650\\u20131,710M\"\n        ],\n        \"semantic_type\": \"\",\n        \"description\": \"\"\n      }\n    },\n    {\n      \"column\": \"Clark (1967)[23]\",\n      \"properties\": {\n        \"dtype\": \"category\",\n        \"num_unique_values\": 17,\n        \"samples\": [\n          \"256M[27]\",\n          \"254.\",\n          \"384.\"\n        ],\n        \"semantic_type\": \"\",\n        \"description\": \"\"\n      }\n    }\n  ]\n}"
            }
          },
          "metadata": {},
          "execution_count": 5
        }
      ],
      "source": [
        "table1 = tables[1]\n",
        "table1.head()"
      ]
    },
    {
      "cell_type": "markdown",
      "id": "hungry-monster",
      "metadata": {
        "tags": [],
        "id": "hungry-monster"
      },
      "source": [
        "Some of the values are null because not all researchers provide estimates for the same dates.\n",
        "\n",
        "Again, we'll replace the long column names with more convenient abbreviations."
      ]
    },
    {
      "cell_type": "code",
      "execution_count": 6,
      "id": "thick-blanket",
      "metadata": {
        "tags": [],
        "id": "thick-blanket"
      },
      "outputs": [],
      "source": [
        "table1.columns = ['PRB', 'UN', 'Maddison', 'HYDE', 'Tanton',\n",
        "                  'Biraben', 'McEvedy & Jones', 'Thomlinson', 'Durand', 'Clark']"
      ]
    },
    {
      "cell_type": "markdown",
      "id": "substantial-implement",
      "metadata": {
        "tags": [],
        "id": "substantial-implement"
      },
      "source": [
        "Some of the estimates are in a form Pandas doesn't recognize as numbers, but we can coerce them to be numeric."
      ]
    },
    {
      "cell_type": "code",
      "execution_count": 7,
      "id": "ranking-prescription",
      "metadata": {
        "tags": [],
        "id": "ranking-prescription"
      },
      "outputs": [],
      "source": [
        "for col in table1.columns:\n",
        "    table1[col] = pd.to_numeric(table1[col], errors='coerce')"
      ]
    },
    {
      "cell_type": "markdown",
      "id": "amazing-difference",
      "metadata": {
        "tags": [],
        "id": "amazing-difference"
      },
      "source": [
        "Here are the results.  Notice that we are working in millions now, not billions."
      ]
    },
    {
      "cell_type": "code",
      "execution_count": 8,
      "id": "metallic-offense",
      "metadata": {
        "scrolled": false,
        "tags": [],
        "id": "metallic-offense",
        "colab": {
          "base_uri": "https://localhost:8080/",
          "height": 329
        },
        "outputId": "e4c2afc1-816d-485a-9626-1b4b74491813"
      },
      "outputs": [
        {
          "output_type": "display_data",
          "data": {
            "text/plain": [
              "<Figure size 450x300 with 1 Axes>"
            ],
            "image/png": "[encoded data removed]"
          },
          "metadata": {}
        }
      ],
      "source": [
        "table1.plot()\n",
        "decorate(xlim=[-10000, 2000], xlabel='Year',\n",
        "         ylabel='World population (millions)',\n",
        "         title='Prehistoric population estimates')\n",
        "plt.legend(fontsize='small');"
      ]
    },
    {
      "cell_type": "markdown",
      "id": "human-conservation",
      "metadata": {
        "tags": [],
        "id": "human-conservation"
      },
      "source": [
        "We can use `xlim` to zoom in on everything after Year 0."
      ]
    },
    {
      "cell_type": "markdown",
      "id": "conventional-nudist",
      "metadata": {
        "id": "conventional-nudist"
      },
      "source": [
        "The following figure shows the estimates of several research groups from 1 CE to the near present."
      ]
    },
    {
      "cell_type": "code",
      "execution_count": 9,
      "id": "solar-action",
      "metadata": {
        "id": "solar-action",
        "colab": {
          "base_uri": "https://localhost:8080/",
          "height": 329
        },
        "outputId": "cf488793-0538-4065-b2f3-809c35a85ec4"
      },
      "outputs": [
        {
          "output_type": "display_data",
          "data": {
            "text/plain": [
              "<Figure size 450x300 with 1 Axes>"
            ],
            "image/png": "[encoded data removed]"
          },
          "metadata": {}
        }
      ],
      "source": [
        "table1.plot()\n",
        "decorate(xlim=[0, 2000], xlabel='Year',\n",
        "         ylabel='World population (millions)',\n",
        "         title='CE population estimates')"
      ]
    },
    {
      "cell_type": "markdown",
      "id": "wanted-fantasy",
      "metadata": {
        "id": "wanted-fantasy"
      },
      "source": [
        "See if you can find a model that fits these estimates.\n",
        "How well does your best model predict actual population growth from 1940 to the present?"
      ]
    },
    {
      "cell_type": "code",
      "execution_count": 10,
      "id": "rural-express",
      "metadata": {
        "tags": [],
        "id": "rural-express"
      },
      "outputs": [],
      "source": [
        "tables = read_html(filename, header=0, index_col=0, decimal='M')\n",
        "table2 = tables[2]\n",
        "table2.columns = ['census', 'prb', 'un', 'maddison',\n",
        "                  'hyde', 'tanton', 'biraben', 'mj',\n",
        "                  'thomlinson', 'durand', 'clark']"
      ]
    },
    {
      "cell_type": "code",
      "execution_count": 11,
      "id": "preceding-sheep",
      "metadata": {
        "tags": [],
        "id": "preceding-sheep"
      },
      "outputs": [],
      "source": [
        "un = table2.un / 1e9\n",
        "census = table2.census / 1e9"
      ]
    },
    {
      "cell_type": "code",
      "execution_count": 12,
      "id": "together-jackson",
      "metadata": {
        "id": "together-jackson"
      },
      "outputs": [],
      "source": [
        "# Solution goes here\n",
        "# I am going to use an exponential approach for the model, starting with setting the parameters\n",
        "initial_population = table2['un'].iloc[0] / 1e9  # in billions\n",
        "t_0 = table2.index.min()\n",
        "t_end = table2.index.max()\n",
        "\n",
        "system = System(t_0=t_0, t_end=t_end, P0=initial_population)\n",
        "\n",
        "# defining the model as a function\n",
        "def exp_growth(system, r):\n",
        "    \"\"\"Exponential growth model.\n",
        "\n",
        "    system: System object\n",
        "    r: growth rate\n",
        "    \"\"\"\n",
        "    # array of years\n",
        "    times = np.arange(system.t_0, system.t_end + 1)\n",
        "    # the population for each year\n",
        "    results = system.P0 * np.exp(r * (times - system.t_0))\n",
        "\n",
        "    return times, results"
      ]
    },
    {
      "cell_type": "code",
      "execution_count": 13,
      "id": "simple-verse",
      "metadata": {
        "scrolled": true,
        "id": "simple-verse",
        "colab": {
          "base_uri": "https://localhost:8080/"
        },
        "outputId": "b5e6b5da-611c-4c4c-8f06-5a560f68f979"
      },
      "outputs": [
        {
          "output_type": "stream",
          "name": "stdout",
          "text": [
            "Best fit growth rate: 0.017272727272727273\n"
          ]
        }
      ],
      "source": [
        "# Solution goes here\n",
        "# estimating growth rate (as part of the exponential model)\n",
        "import matplotlib.pyplot as plt\n",
        "growth_rates = np.linspace(0.01, 0.03, 100)  # Adjust range and step based on observations\n",
        "best_fit_rate = None\n",
        "smallest_error = float('inf')\n",
        "\n",
        "# looping through each growth rate to find best fit\n",
        "for r in growth_rates:\n",
        "    _, model_population = exp_growth(system, r)\n",
        "    # Calculate the error (e.g., mean squared error)\n",
        "    error = np.mean((model_population - table2['un'] / 1e9)**2)\n",
        "    if error < smallest_error:\n",
        "        smallest_error = error\n",
        "        best_fit_rate = r\n",
        "\n",
        "print(f\"Best fit growth rate: {best_fit_rate}\")"
      ]
    },
    {
      "cell_type": "code",
      "source": [
        "# plotting model against actual data\n",
        "times, fitted_population = exp_growth(system, best_fit_rate)\n",
        "plt.figure(figsize=(10, 5))\n",
        "plt.plot(table2.index, table2['un'] / 1e9, 'bo', label='UN Data')\n",
        "plt.plot(times, fitted_population, 'r-', label='Model Prediction')\n",
        "plt.title('Exponential Growth Model Fit to Historical Data')\n",
        "plt.xlabel('Year')\n",
        "plt.ylabel('World Population (billions)')\n",
        "plt.legend()\n",
        "plt.grid(True)\n",
        "plt.show()"
      ],
      "metadata": {
        "colab": {
          "base_uri": "https://localhost:8080/",
          "height": 388
        },
        "id": "jVkS9U4Gwqvb",
        "outputId": "1c0f6f8c-0ee3-419b-e858-2c6bd4f173ca"
      },
      "id": "jVkS9U4Gwqvb",
      "execution_count": 14,
      "outputs": [
        {
          "output_type": "display_data",
          "data": {
            "text/plain": [
              "<Figure size 750x375 with 1 Axes>"
            ],
            "image/png": "[encoded data removed]"
          },
          "metadata": {}
        }
      ]
    },
    {
      "cell_type": "markdown",
      "id": "ruled-spain",
      "metadata": {
        "id": "ruled-spain"
      },
      "source": [
        "## One Queue Or Two?\n",
        "\n",
        "This case study is related to *queueing theory*, which is the study of systems that involve waiting in lines, also known as \"queues\".\n",
        "\n",
        "Suppose you are designing the checkout area for a new store. There is\n",
        "enough room in the store for two checkout counters and a waiting area\n",
        "for customers. You can make two lines, one for each counter, or one line that feeds both counters.\n",
        "\n",
        "In theory, you might expect a single line to be better, but it has some practical drawbacks: in order to maintain a single line, you might have to install barriers, and customers might be put off by what seems to be a longer line, even if it moves faster.\n",
        "\n",
        "So you'd like to check whether the single line is really better and by\n",
        "how much. Simulation can help answer this question.\n",
        "\n",
        "This figure shows the three scenarios we'll consider:\n",
        "\n",
        "![One queue, one server (left), one queue, two servers (middle), two\n",
        "queues, two servers (right).](https://github.com/AllenDowney/ModSim/raw/main/figs/queue.png)\n",
        "\n",
        "*One queue, one server (left), one queue, two servers (middle), two\n",
        "queues, two servers (right).*\n",
        "\n",
        "As we did in the bike share model, we'll divide time into discrete time steps of one minute.\n",
        "And we'll assume that a customer is equally likely to arrive during any time step.\n",
        "I'll denote this probability using the Greek letter lambda, $\\lambda$, or the variable name `lam`. The value of $\\lambda$ probably varies from day to day, so we'll have to consider a range of possibilities.\n",
        "\n",
        "Based on data from other stores, you know that it takes 5 minutes for a customer to check out, on average. But checkout times are variable: most customers take less than 5 minutes, but some take substantially more. A simple way to model this variability is to assume that when a customer is checking out, they always have the same probability of finishing during the next time step, regardless of how long they have been checking out. I'll denote this probability using the Greek letter mu, $\\mu$, or the variable name `mu`.\n",
        "\n",
        "If we choose $\\mu=1/5$ per minute, the average time for each checkout\n",
        "will be 5 minutes, which is consistent with the data. Most people take less than 5 minutes, but a few take substantially longer, which is probably not a bad model of the distribution in real stores.\n",
        "\n",
        "Now we're ready to implement the model. In the repository for this book, you'll find a notebook called *queue.ipynb* that contains some code to get you started and instructions.\n",
        "You can download it from <https://github.com/AllenDowney/ModSimPy/raw/master/examples/queue.ipynb> or run it on Colab at <https://colab.research.google.com/github/AllenDowney/ModSimPy/blob/master/examples/queue.ipynb>.\n",
        "\n",
        "As always, you should practice incremental development: write no more\n",
        "than one or two lines of code at a time, and test as you go!"
      ]
    },
    {
      "cell_type": "code",
      "source": [
        "# assuming the arrivals follow a Poisson distribution but simulated in a discrete  manner (checking arrival at each time step), we can do the following:\n",
        "import numpy as np\n",
        "\n",
        "def update_two_queues(state, t, system):\n",
        "    \"\"\" function for two separate queues, each with one server.\"\"\"\n",
        "    lam, mu = system.lam, system.mu\n",
        "    queue1, queue2, wait_times1, wait_times2 = state.queue1, state.queue2, state.wait_times1, state.wait_times2\n",
        "\n",
        "    # arrivals\n",
        "    if np.random.random() < lam/2:  # assuming arrivals are split evenly between two queues\n",
        "        queue1.append(0)\n",
        "    if np.random.random() < lam/2:\n",
        "        queue2.append(0)\n",
        "\n",
        "    # queue 1\n",
        "    if state.server1 > 0:\n",
        "        state.server1 -= 1\n",
        "    elif queue1:\n",
        "        wait_times1.append(queue1.pop(0))\n",
        "        state.server1 = np.random.exponential(1 / mu)\n",
        "\n",
        "    # queue 2\n",
        "    if state.server2 > 0:\n",
        "        state.server2 -= 1\n",
        "    elif queue2:\n",
        "        wait_times2.append(queue2.pop(0))\n",
        "        state.server2 = np.random.exponential(1 / mu)\n",
        "\n",
        "    # waiting time in queues\n",
        "    queue1 = [time + 1 for time in queue1]\n",
        "    queue2 = [time + 1 for time in queue2]\n",
        "\n",
        "    return System(queue1=queue1, queue2=queue2, wait_times1=wait_times1, wait_times2=wait_times2, server1=state.server1, server2=state.server2)"
      ],
      "metadata": {
        "id": "AkpY5MVk77Mj"
      },
      "id": "AkpY5MVk77Mj",
      "execution_count": 22,
      "outputs": []
    },
    {
      "cell_type": "code",
      "source": [
        "def run_two_queue_simulation(lam, mu, num_minutes):\n",
        "    \"\"\"Runs the simulation for two separate queues each with one server.\"\"\"\n",
        "    system = System(lam=lam, mu=mu, server1=0, server2=0)\n",
        "    state = System(queue1=[], queue2=[], wait_times1=[], wait_times2=[], server1=0, server2=0)\n",
        "    for _ in range(num_minutes):\n",
        "        state = update_two_queues(state, 0, system)\n",
        "    return state.wait_times1 + state.wait_times2\n",
        "\n",
        "def run_one_queue_one_server_simulation(lam, mu, num_minutes):\n",
        "    system = System(lam=lam, mu=mu, server1=0)\n",
        "    state = System(queue=[], wait_times=[], server1=0)\n",
        "    for _ in range(num_minutes):\n",
        "        state = update_one_queue_one_server(state, 0, system)\n",
        "    return state.wait_times\n",
        "\n",
        "def run_one_queue_two_servers_simulation(lam, mu, num_minutes):\n",
        "    system = System(lam=lam, mu=mu, server1=0, server2=0)\n",
        "    state = System(queue=[], wait_times=[], server1=0, server2=0)\n",
        "    for _ in range(num_minutes):\n",
        "        state = update_one_queue_two_servers(state, 0, system)\n",
        "    return state.wait_times\n",
        "\n",
        "def update_one_queue_one_server(state, t, system):\n",
        "    if np.random.random() < system.lam:\n",
        "        state.queue.append(0)\n",
        "    if state.server1 > 0:\n",
        "        state.server1 -= 1\n",
        "    elif state.queue:\n",
        "        state.wait_times.append(state.queue.pop(0))\n",
        "        state.server1 = np.random.exponential(1 / system.mu)\n",
        "    state.queue = [time + 1 for time in state.queue]\n",
        "    return state\n",
        "\n",
        "def update_one_queue_two_servers(state, t, system):\n",
        "    if np.random.random() < system.lam:\n",
        "        state.queue.append(0)\n",
        "    for i in range(1, 3):  # For two servers\n",
        "        if getattr(state, f'server{i}') > 0:\n",
        "            setattr(state, f'server{i}', getattr(state, f'server{i}') - 1)\n",
        "        elif state.queue:\n",
        "            state.wait_times.append(state.queue.pop(0))\n",
        "            setattr(state, f'server{i}', np.random.exponential(1 / system.mu))\n",
        "    state.queue = [time + 1 for time in state.queue]\n",
        "    return state\n",
        "\n",
        "# Parameters\n",
        "lam = 1/5  # Arrival rate (customers per minute)\n",
        "mu = 1/5   # Service rate (1/average service time)\n",
        "num_minutes = 1000  # Simulation duration in minutes\n",
        "\n",
        "# one queue with one server\n",
        "wait_times_1 = run_one_queue_one_server_simulation(lam, mu, num_minutes)\n",
        "print(f\"Average wait time for 1 queue, 1 server: {np.mean(wait_times_1):.2f} minutes\")\n",
        "\n",
        "# one queue with two servers\n",
        "wait_times_2 = run_one_queue_two_servers_simulation(lam, mu, num_minutes)\n",
        "print(f\"Average wait time for 1 queue, 2 servers: {np.mean(wait_times_2):.2f} minutes\")\n",
        "\n",
        "# two queues with one server each\n",
        "wait_times_3 = run_two_queue_simulation(lam, mu, num_minutes)\n",
        "print(f\"Average wait time for 2 queues, 2 servers: {np.mean(wait_times_3):.2f} minutes\")\n"
      ],
      "metadata": {
        "colab": {
          "base_uri": "https://localhost:8080/"
        },
        "id": "9gjE3_Rm8SqS",
        "outputId": "4bc3ce94-b659-458f-921c-1fc3564b02b8"
      },
      "id": "9gjE3_Rm8SqS",
      "execution_count": 24,
      "outputs": [
        {
          "output_type": "stream",
          "name": "stdout",
          "text": [
            "Average wait time for 1 queue, 1 server: 117.71 minutes\n",
            "Average wait time for 1 queue, 2 servers: 2.36 minutes\n",
            "Average wait time for 2 queues, 2 servers: 7.63 minutes\n"
          ]
        }
      ]
    },
    {
      "cell_type": "markdown",
      "id": "forward-point",
      "metadata": {
        "id": "forward-point"
      },
      "source": [
        "## Predicting Salmon Populations\n",
        "\n",
        "Each year the U.S. Atlantic Salmon Assessment Committee reports\n",
        "estimates of salmon populations in oceans and rivers in the northeastern United States. The reports are useful for monitoring changes in these populations, but they generally do not include predictions.\n",
        "\n",
        "The goal of this case study is to model year-to-year changes in\n",
        "population, evaluate how predictable these changes are, and estimate the probability that a particular population will increase or decrease in the next 10 years.\n",
        "\n",
        "As an example, I use data from the 2017 report, which provides population estimates for the Narraguagus and Sheepscot Rivers\n",
        "in Maine.\n",
        "\n",
        "In the repository for this book, you'll find a notebook called\n",
        "*salmon.ipynb* that contains this data and some code to get you started.\n",
        "You can download it from <https://github.com/AllenDowney/ModSimPy/raw/master/examples/salmon.ipynb> or run it on Colab at <https://colab.research.google.com/github/AllenDowney/ModSimPy/blob/master/examples/salmon.ipynb>.\n",
        "\n",
        "You should take my instructions as suggestions; if you want to try\n",
        "something different, please do!\n",
        "\n"
      ]
    },
    {
      "cell_type": "code",
      "source": [
        "# solved in a separate jupyter notebook named salmon.ipynb"
      ],
      "metadata": {
        "id": "tjC_gXs0mqXV"
      },
      "id": "tjC_gXs0mqXV",
      "execution_count": null,
      "outputs": []
    },
    {
      "cell_type": "markdown",
      "id": "limiting-moore",
      "metadata": {
        "id": "limiting-moore"
      },
      "source": [
        "## Tree Growth\n",
        "\n",
        "This case study is based on \"Height-Age Curves for Planted Stands of\n",
        "Douglas Fir, with Adjustments for Density\", a working paper by\n",
        "Flewelling et al.\n",
        "It provides *site index curves*, which are curves that show the\n",
        "expected height of the tallest tree in a stand of Douglas fir as a\n",
        "function of age, for a stand where the trees are the same age.\n",
        "Depending on the quality of the site, the trees might grow more quickly or slowly. So each curve is identified by a *site index* that indicates the quality of the site.\n",
        "\n",
        "The goal of this case study is to explain the shape of these\n",
        "curves, that is, why trees grow the way they do.\n",
        "The answer I propose involves fractal dimensions, so you might find it interesting.\n",
        "\n",
        "In the repository for this book, you'll find a notebook called\n",
        "*trees.ipynb* that incrementally develops a model of tree growth and uses it to fit the data.\n",
        "You can download it from <https://github.com/AllenDowney/ModSimPy/raw/master/examples/trees.ipynb> or run it on Colab at <https://colab.research.google.com/github/AllenDowney/ModSimPy/blob/master/examples/trees.ipynb>.\n",
        "\n",
        "There are no exercises in this case study, but it is an example of what you can do with the tools we have so far and a preview of what you will be able to do with the tools in the next few chapters."
      ]
    },
    {
      "cell_type": "code",
      "execution_count": null,
      "id": "australian-gregory",
      "metadata": {
        "id": "australian-gregory"
      },
      "outputs": [],
      "source": [
        "# solved in a separate jupyter notebook named trees.ipynb"
      ]
    }
  ],
  "metadata": {
    "celltoolbar": "Tags",
    "kernelspec": {
      "display_name": "Python 3 (ipykernel)",
      "language": "python",
      "name": "python3"
    },
    "language_info": {
      "codemirror_mode": {
        "name": "ipython",
        "version": 3
      },
      "file_extension": ".py",
      "mimetype": "text/x-python",
      "name": "python",
      "nbconvert_exporter": "python",
      "pygments_lexer": "ipython3",
      "version": "3.8.16"
    },
    "colab": {
      "provenance": []
    }
  },
  "nbformat": 4,
  "nbformat_minor": 5
}