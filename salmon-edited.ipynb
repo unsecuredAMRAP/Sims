{
  "cells": [
    {
      "cell_type": "markdown",
      "metadata": {
        "id": "ghtUnyD4VWVy"
      },
      "source": [
        "# Salmon"
      ]
    },
    {
      "cell_type": "markdown",
      "metadata": {
        "id": "LyBfdQiHVWVz"
      },
      "source": [
        "*Modeling and Simulation in Python*\n",
        "\n",
        "Copyright 2021 Allen Downey\n",
        "\n",
        "License: [Creative Commons Attribution-NonCommercial-ShareAlike 4.0 International](https://creativecommons.org/licenses/by-nc-sa/4.0/)"
      ]
    },
    {
      "cell_type": "code",
      "execution_count": 1,
      "metadata": {
        "tags": [],
        "colab": {
          "base_uri": "https://localhost:8080/"
        },
        "id": "T1nnmn4iVWV0",
        "outputId": "84120701-43b7-4348-f1fc-b0c4dffea2ba"
      },
      "outputs": [
        {
          "output_type": "stream",
          "name": "stdout",
          "text": [
            "Collecting pint\n",
            "  Downloading Pint-0.24.1-py3-none-any.whl (301 kB)\n",
            "\u001b[2K     \u001b[90m━━━━━━━━━━━━━━━━━━━━━━━━━━━━━━━━━━━━━━━━\u001b[0m \u001b[32m301.3/301.3 kB\u001b[0m \u001b[31m1.1 MB/s\u001b[0m eta \u001b[36m0:00:00\u001b[0m\n",
            "\u001b[?25hCollecting appdirs>=1.4.4 (from pint)\n",
            "  Downloading appdirs-1.4.4-py2.py3-none-any.whl (9.6 kB)\n",
            "Requirement already satisfied: typing-extensions in /usr/local/lib/python3.10/dist-packages (from pint) (4.12.2)\n",
            "Collecting flexcache>=0.3 (from pint)\n",
            "  Downloading flexcache-0.3-py3-none-any.whl (13 kB)\n",
            "Collecting flexparser>=0.3 (from pint)\n",
            "  Downloading flexparser-0.3.1-py3-none-any.whl (27 kB)\n",
            "Installing collected packages: appdirs, flexparser, flexcache, pint\n",
            "Successfully installed appdirs-1.4.4 flexcache-0.3 flexparser-0.3.1 pint-0.24.1\n"
          ]
        }
      ],
      "source": [
        "# install Pint if necessary\n",
        "\n",
        "try:\n",
        "    import pint\n",
        "except ImportError:\n",
        "    !pip install pint"
      ]
    },
    {
      "cell_type": "code",
      "execution_count": 2,
      "metadata": {
        "tags": [],
        "colab": {
          "base_uri": "https://localhost:8080/"
        },
        "id": "YfvYY_YqVWV0",
        "outputId": "4f31c640-b9c7-4222-e14e-f620f64b03ea"
      },
      "outputs": [
        {
          "output_type": "stream",
          "name": "stdout",
          "text": [
            "Downloaded modsim.py\n"
          ]
        }
      ],
      "source": [
        "# download modsim.py if necessary\n",
        "\n",
        "from os.path import basename, exists\n",
        "\n",
        "def download(url):\n",
        "    filename = basename(url)\n",
        "    if not exists(filename):\n",
        "        from urllib.request import urlretrieve\n",
        "        local, _ = urlretrieve(url, filename)\n",
        "        print('Downloaded ' + local)\n",
        "\n",
        "download('https://github.com/AllenDowney/ModSimPy/raw/master/modsim.py')"
      ]
    },
    {
      "cell_type": "code",
      "execution_count": 3,
      "metadata": {
        "tags": [],
        "id": "uP2Yy93qVWV1"
      },
      "outputs": [],
      "source": [
        "# import functions from modsim\n",
        "\n",
        "from modsim import *"
      ]
    },
    {
      "cell_type": "markdown",
      "metadata": {
        "id": "vVSMB-8TVWV1"
      },
      "source": [
        "## Can we predict salmon populations?\n",
        "\n",
        "Each year the [U.S. Atlantic Salmon Assessment Committee](https://www.nefsc.noaa.gov/USASAC/Reports/USASAC2018-Report-30-2017-Activities.pdf) reports estimates of salmon populations in oceans and rivers in the northeastern United States.  The reports are useful for monitoring changes in these populations, but they generally do not include predictions.\n",
        "\n",
        "The goal of this case study is to model year-to-year changes in population, evaluate how predictable these changes are, and estimate the probability that a particular population will increase or decrease in the next 10 years.\n",
        "\n",
        "As an example, I'll use data from page 18 of the 2017 report, which provides population estimates for the Narraguagus and Sheepscot Rivers in Maine.\n",
        "\n",
        "![USASAC_Report_2017_Page18](https://github.com/AllenDowney/ModSim/raw/main/data/USASAC_Report_2017_Page18.png)\n",
        "\n",
        "There are tools for extracting data from a PDF document automatically, but for this example I will keep it simple and type it in.\n",
        "\n",
        "Here are the population estimates for the Narraguagus River:"
      ]
    },
    {
      "cell_type": "code",
      "execution_count": 4,
      "metadata": {
        "id": "cD3luVpcVWV2"
      },
      "outputs": [],
      "source": [
        "pops = [2749, 2845, 4247, 1843, 2562, 1774, 1201, 1284, 1287,\n",
        "        2339, 1177, 962, 1176, 2149, 1404, 969, 1237, 1615, 1201]"
      ]
    },
    {
      "cell_type": "markdown",
      "metadata": {
        "id": "CbaDsII4VWV2"
      },
      "source": [
        "To get this data into a Pandas Series, I'll also make a range of years to use as an index."
      ]
    },
    {
      "cell_type": "code",
      "execution_count": 5,
      "metadata": {
        "colab": {
          "base_uri": "https://localhost:8080/"
        },
        "id": "VWK9Lk6VVWV2",
        "outputId": "68b679e5-0741-4daa-a480-c288ccf8cb31"
      },
      "outputs": [
        {
          "output_type": "execute_result",
          "data": {
            "text/plain": [
              "array([1997., 1998., 1999., 2000., 2001., 2002., 2003., 2004., 2005.,\n",
              "       2006., 2007., 2008., 2009., 2010., 2011., 2012., 2013., 2014.,\n",
              "       2015.])"
            ]
          },
          "metadata": {},
          "execution_count": 5
        }
      ],
      "source": [
        "years = linrange(1997, 2015)\n",
        "years"
      ]
    },
    {
      "cell_type": "markdown",
      "metadata": {
        "id": "RxyM_6NLVWV3"
      },
      "source": [
        "And here's the series."
      ]
    },
    {
      "cell_type": "code",
      "execution_count": 6,
      "metadata": {
        "colab": {
          "base_uri": "https://localhost:8080/"
        },
        "id": "AVnqhulPVWV3",
        "outputId": "57269170-67fc-41c2-8e51-fdf47092fb13"
      },
      "outputs": [
        {
          "output_type": "execute_result",
          "data": {
            "text/plain": [
              "Time\n",
              "1997.0    2749.0\n",
              "1998.0    2845.0\n",
              "1999.0    4247.0\n",
              "2000.0    1843.0\n",
              "2001.0    2562.0\n",
              "2002.0    1774.0\n",
              "2003.0    1201.0\n",
              "2004.0    1284.0\n",
              "2005.0    1287.0\n",
              "2006.0    2339.0\n",
              "2007.0    1177.0\n",
              "2008.0     962.0\n",
              "2009.0    1176.0\n",
              "2010.0    2149.0\n",
              "2011.0    1404.0\n",
              "2012.0     969.0\n",
              "2013.0    1237.0\n",
              "2014.0    1615.0\n",
              "2015.0    1201.0\n",
              "Name: Quantity, dtype: float64"
            ]
          },
          "metadata": {},
          "execution_count": 6
        }
      ],
      "source": [
        "pop_series = TimeSeries(pops, index=years)\n",
        "pop_series"
      ]
    },
    {
      "cell_type": "markdown",
      "metadata": {
        "id": "rm-ZOcAkVWV4"
      },
      "source": [
        "Here's what it looks like:"
      ]
    },
    {
      "cell_type": "code",
      "execution_count": 7,
      "metadata": {
        "colab": {
          "base_uri": "https://localhost:8080/",
          "height": 329
        },
        "id": "s4g668WvVWV4",
        "outputId": "665f423e-39ca-43ef-d0f0-bbe59d89824b"
      },
      "outputs": [
        {
          "output_type": "display_data",
          "data": {
            "text/plain": [
              "<Figure size 450x300 with 1 Axes>"
            ],
            "image/png": "[encoded data removed]"
          },
          "metadata": {}
        }
      ],
      "source": [
        "def plot_population(series):\n",
        "    series.plot(label='Estimated population')\n",
        "    decorate(xlabel='Year',\n",
        "             ylabel='Population estimate',\n",
        "             title='Narraguacus River',\n",
        "             ylim=[0, 5000])\n",
        "\n",
        "plot_population(pop_series)"
      ]
    },
    {
      "cell_type": "markdown",
      "metadata": {
        "id": "ac7xJZ2AVWV4"
      },
      "source": [
        "## Modeling changes\n",
        "\n",
        "To see how the population changes from year-to-year, I'll use `diff` to compute the absolute difference between each year and the next.\n"
      ]
    },
    {
      "cell_type": "code",
      "execution_count": 8,
      "metadata": {
        "colab": {
          "base_uri": "https://localhost:8080/"
        },
        "id": "AmWnXtDjVWV4",
        "outputId": "ae3ffe16-deaa-4183-9070-2d770f276baa"
      },
      "outputs": [
        {
          "output_type": "execute_result",
          "data": {
            "text/plain": [
              "Time\n",
              "1997.0       NaN\n",
              "1998.0      96.0\n",
              "1999.0    1402.0\n",
              "2000.0   -2404.0\n",
              "2001.0     719.0\n",
              "2002.0    -788.0\n",
              "2003.0    -573.0\n",
              "2004.0      83.0\n",
              "2005.0       3.0\n",
              "2006.0    1052.0\n",
              "2007.0   -1162.0\n",
              "2008.0    -215.0\n",
              "2009.0     214.0\n",
              "2010.0     973.0\n",
              "2011.0    -745.0\n",
              "2012.0    -435.0\n",
              "2013.0     268.0\n",
              "2014.0     378.0\n",
              "2015.0    -414.0\n",
              "Name: Quantity, dtype: float64"
            ]
          },
          "metadata": {},
          "execution_count": 8
        }
      ],
      "source": [
        "abs_diffs = pop_series.diff()\n",
        "abs_diffs"
      ]
    },
    {
      "cell_type": "markdown",
      "metadata": {
        "id": "zAlJUoJAVWV5"
      },
      "source": [
        "We can compute relative differences by dividing by the original series elementwise."
      ]
    },
    {
      "cell_type": "code",
      "execution_count": 9,
      "metadata": {
        "colab": {
          "base_uri": "https://localhost:8080/"
        },
        "id": "ioPm3JovVWV5",
        "outputId": "d17c1e26-fd09-4d80-e4ad-9b67065bbd70"
      },
      "outputs": [
        {
          "output_type": "execute_result",
          "data": {
            "text/plain": [
              "Time\n",
              "1997.0         NaN\n",
              "1998.0    0.033743\n",
              "1999.0    0.330115\n",
              "2000.0   -1.304395\n",
              "2001.0    0.280640\n",
              "2002.0   -0.444194\n",
              "2003.0   -0.477102\n",
              "2004.0    0.064642\n",
              "2005.0    0.002331\n",
              "2006.0    0.449765\n",
              "2007.0   -0.987256\n",
              "2008.0   -0.223493\n",
              "2009.0    0.181973\n",
              "2010.0    0.452769\n",
              "2011.0   -0.530627\n",
              "2012.0   -0.448916\n",
              "2013.0    0.216653\n",
              "2014.0    0.234056\n",
              "2015.0   -0.344713\n",
              "Name: Quantity, dtype: float64"
            ]
          },
          "metadata": {},
          "execution_count": 9
        }
      ],
      "source": [
        "rel_diffs = abs_diffs / pop_series\n",
        "rel_diffs"
      ]
    },
    {
      "cell_type": "markdown",
      "metadata": {
        "id": "cbniyy3OVWV6"
      },
      "source": [
        "These relative differences are observed annual net growth rates.  So let's drop the `0` and save them."
      ]
    },
    {
      "cell_type": "code",
      "execution_count": 10,
      "metadata": {
        "colab": {
          "base_uri": "https://localhost:8080/"
        },
        "id": "I9z_hRWmVWV6",
        "outputId": "b4ca40b1-503f-4d79-da59-82e36cb4b1e8"
      },
      "outputs": [
        {
          "output_type": "execute_result",
          "data": {
            "text/plain": [
              "Time\n",
              "1998.0    0.033743\n",
              "1999.0    0.330115\n",
              "2000.0   -1.304395\n",
              "2001.0    0.280640\n",
              "2002.0   -0.444194\n",
              "2003.0   -0.477102\n",
              "2004.0    0.064642\n",
              "2005.0    0.002331\n",
              "2006.0    0.449765\n",
              "2007.0   -0.987256\n",
              "2008.0   -0.223493\n",
              "2009.0    0.181973\n",
              "2010.0    0.452769\n",
              "2011.0   -0.530627\n",
              "2012.0   -0.448916\n",
              "2013.0    0.216653\n",
              "2014.0    0.234056\n",
              "2015.0   -0.344713\n",
              "Name: Quantity, dtype: float64"
            ]
          },
          "metadata": {},
          "execution_count": 10
        }
      ],
      "source": [
        "rates = rel_diffs.dropna()\n",
        "rates"
      ]
    },
    {
      "cell_type": "markdown",
      "metadata": {
        "id": "N30ys_g_VWV6"
      },
      "source": [
        "A simple way to model this system is to draw a random value from this series of observed rates each year.  We can use the NumPy function `choice` to make a random choice from a series."
      ]
    },
    {
      "cell_type": "code",
      "execution_count": 11,
      "metadata": {
        "colab": {
          "base_uri": "https://localhost:8080/"
        },
        "id": "FH8Ior1YVWV6",
        "outputId": "29c631b6-820c-4563-dcb7-524f618d4fd6"
      },
      "outputs": [
        {
          "output_type": "execute_result",
          "data": {
            "text/plain": [
              "-0.44891640866873067"
            ]
          },
          "metadata": {},
          "execution_count": 11
        }
      ],
      "source": [
        "np.random.choice(rates)"
      ]
    },
    {
      "cell_type": "markdown",
      "metadata": {
        "id": "dM1pYwBVVWV6"
      },
      "source": [
        "## Simulation\n",
        "\n",
        "Now we can simulate the system by drawing random growth rates from the series of observed rates.\n",
        "\n",
        "I'll start the simulation in 2015."
      ]
    },
    {
      "cell_type": "code",
      "execution_count": 12,
      "metadata": {
        "id": "tLLozCxjVWV7"
      },
      "outputs": [],
      "source": [
        "t_0 = 2015\n",
        "p_0 = pop_series[t_0]"
      ]
    },
    {
      "cell_type": "markdown",
      "metadata": {
        "id": "W5Y1m3kPVWV7"
      },
      "source": [
        "I'll create a `System` object with variables `t_0`, `p_0`, `rates`, and `duration=10` years.\n",
        "\n",
        "The series of observed rates is one big parameter of the model."
      ]
    },
    {
      "cell_type": "code",
      "execution_count": 13,
      "metadata": {
        "id": "vcEtPLVeVWV7"
      },
      "outputs": [],
      "source": [
        "system = System(t_0=t_0,\n",
        "                p_0=p_0,\n",
        "                duration=10,\n",
        "                rates=rates)"
      ]
    },
    {
      "cell_type": "markdown",
      "metadata": {
        "id": "xpwq3DMKVWV7"
      },
      "source": [
        "Write an update functon that takes as parameters `pop`, `t`, and `system`.\n",
        "It should choose a random growth rate, compute the change in population, and return the new population."
      ]
    },
    {
      "cell_type": "code",
      "execution_count": 15,
      "metadata": {
        "id": "fp3IurKMVWV7"
      },
      "outputs": [],
      "source": [
        "# Solution goes here\n",
        "def update_func1(pop, t, system):\n",
        "    \"\"\"Update function for the population model.\n",
        "\n",
        "    pop: current population\n",
        "    t: current year\n",
        "    system: system object with model parameters\n",
        "\n",
        "    returns: updated population\n",
        "    \"\"\"\n",
        "    net_change = np.random.choice(system.rates)\n",
        "    return pop + net_change * pop"
      ]
    },
    {
      "cell_type": "markdown",
      "metadata": {
        "id": "nLwFyVxHVWV8"
      },
      "source": [
        "Test your update function and run it a few times"
      ]
    },
    {
      "cell_type": "code",
      "execution_count": 19,
      "metadata": {
        "colab": {
          "base_uri": "https://localhost:8080/"
        },
        "id": "6-iu4g2mVWV8",
        "outputId": "b1ecb763-f533-4309-e07c-9b657f60da31"
      },
      "outputs": [
        {
          "output_type": "execute_result",
          "data": {
            "text/plain": [
              "932.5852390852391"
            ]
          },
          "metadata": {},
          "execution_count": 19
        }
      ],
      "source": [
        "update_func1(p_0, t_0, system)"
      ]
    },
    {
      "cell_type": "markdown",
      "metadata": {
        "id": "O4IKEbYRVWV8"
      },
      "source": [
        "Here's a version of `run_simulation` that stores the results in a `TimeSeries` and returns it."
      ]
    },
    {
      "cell_type": "code",
      "execution_count": 20,
      "metadata": {
        "id": "eTWsI-ktVWV8"
      },
      "outputs": [],
      "source": [
        "def run_simulation(system, update_func):\n",
        "    \"\"\"Simulate a queueing system.\n",
        "\n",
        "    system: System object\n",
        "    update_func: function object\n",
        "    \"\"\"\n",
        "    t_0 = system.t_0\n",
        "    t_end = t_0 + system.duration\n",
        "\n",
        "    results = TimeSeries()\n",
        "    results[t_0] = system.p_0\n",
        "\n",
        "    for t in linrange(t_0, t_end):\n",
        "        results[t+1] = update_func(results[t], t, system)\n",
        "\n",
        "    return results"
      ]
    },
    {
      "cell_type": "markdown",
      "metadata": {
        "id": "6qJ1EPOVVWV9"
      },
      "source": [
        "Use `run_simulation` to run generate a prediction for the next 10 years.\n",
        "\n",
        "Then plot your prediction along with the original data.  Your prediction should pick up where the data leave off."
      ]
    },
    {
      "cell_type": "code",
      "execution_count": 21,
      "metadata": {
        "id": "B-rOo5E5VWV9"
      },
      "outputs": [],
      "source": [
        "# Solution goes here\n",
        "def run_many_simulations(system, update_func, iters):\n",
        "    \"\"\"Runs simulations and report final populations.\n",
        "\n",
        "    system: System object\n",
        "    update_func: function object\n",
        "    iters: number of simulations to run\n",
        "\n",
        "    returns: series of final populations\n",
        "    \"\"\"\n",
        "    t_0 = system.t_0\n",
        "    t_end = t_0 + system.duration\n",
        "\n",
        "    all_final_pops = TimeSeries()\n",
        "\n",
        "    for i in range(iters):\n",
        "        results = TimeSeries()\n",
        "        results[t_0] = system.p_0\n",
        "\n",
        "        for t in linrange(t_0, t_end):\n",
        "            results[t+1] = update_func(results[t], t, system)\n",
        "\n",
        "        all_final_pops[i] = results[t_end]\n",
        "\n",
        "    return all_final_pops\n"
      ]
    },
    {
      "cell_type": "markdown",
      "metadata": {
        "id": "iacGQv4MVWV9"
      },
      "source": [
        "To get a sense of how much the results vary, we can run the model several times and plot all of the results."
      ]
    },
    {
      "cell_type": "code",
      "execution_count": 22,
      "metadata": {
        "id": "WIZd9nDSVWV9"
      },
      "outputs": [],
      "source": [
        "def plot_many_simulations(system, update_func, iters):\n",
        "    \"\"\"Runs simulations and plots the results.\n",
        "\n",
        "    system: System object\n",
        "    update_func: function object\n",
        "    iters: number of simulations to run\n",
        "    \"\"\"\n",
        "    for i in range(iters):\n",
        "        results = run_simulation(system, update_func)\n",
        "        results.plot(color='gray', label='_nolegend',\n",
        "                     linewidth=1, alpha=0.3)"
      ]
    },
    {
      "cell_type": "markdown",
      "metadata": {
        "id": "olTjn8NhVWV9"
      },
      "source": [
        "The plot option `alpha=0.1` makes the lines semi-transparent, so they are darker where they overlap.\n",
        "\n",
        "Run `plot_many_simulations` with your update function and `iters=30`.  Also plot the original data."
      ]
    },
    {
      "cell_type": "code",
      "execution_count": 24,
      "metadata": {
        "colab": {
          "base_uri": "https://localhost:8080/",
          "height": 329
        },
        "id": "Jqx1TK47VWV-",
        "outputId": "57f6ddec-afff-4a63-85d6-2ce9984cda48"
      },
      "outputs": [
        {
          "output_type": "display_data",
          "data": {
            "text/plain": [
              "<Figure size 450x300 with 1 Axes>"
            ],
            "image/png": "[encoded data removed]"
          },
          "metadata": {}
        }
      ],
      "source": [
        "# Running the simulation 30 times\n",
        "plot_many_simulations(system, update_func1, 30)\n",
        "\n",
        "# Plotting the original population data to compare\n",
        "plot_population(pop_series)\n",
        "\n",
        "# original data with a bold blue line\n",
        "pop_series.plot(label='Original Estimated Population', color='blue', linewidth=3)\n",
        "\n",
        "decorate(xlabel='Year',\n",
        "         ylabel='Population Estimate',\n",
        "         title='Population Simulations with Original Data')"
      ]
    },
    {
      "cell_type": "markdown",
      "metadata": {
        "id": "nR2rDmz_VWV-"
      },
      "source": [
        "The results are highly variable: according to this model, the population might continue to decline over the next 10 years, or it might recover and grow rapidly!\n",
        "\n",
        "It's hard to say how seriously we should take this model.  There are many factors that influence salmon populations that are not included in the model.  For example, if the population starts to grow quickly, it might be limited by resource limits, predators, or fishing.  If the population starts to fall, humans might restrict fishing and stock the river with farmed fish.\n",
        "\n",
        "So these results should probably not be considered useful predictions.  However, there might be something useful we can do, which is to estimate the probability that the population will increase or decrease in the next 10 years.  "
      ]
    },
    {
      "cell_type": "markdown",
      "metadata": {
        "id": "jRlY73InVWV-"
      },
      "source": [
        "## Distribution of net changes\n",
        "\n",
        "To describe the distribution of net changes, write a function called `run_many_simulations` that runs many simulations, saves the final populations in a `SweepSeries`, and returns the `SweepSeries`."
      ]
    },
    {
      "cell_type": "code",
      "execution_count": 28,
      "metadata": {
        "id": "Pq-QypnXVWV-"
      },
      "outputs": [],
      "source": [
        "def run_many_simulations(system, update_func, iters):\n",
        "    \"\"\"\n",
        "    Runs simulations and reports final populations.\n",
        "\n",
        "    system: System object\n",
        "    update_func: function object\n",
        "    iters: number of simulations to run\n",
        "\n",
        "    returns: SweepSeries of final populations\n",
        "    \"\"\"\n",
        "    final_pops = SweepSeries()\n",
        "\n",
        "    for i in range(iters):\n",
        "        results = TimeSeries()\n",
        "        results[system.t_0] = system.p_0\n",
        "\n",
        "        for t in range(system.t_0 + 1, system.t_0 + system.duration + 1):\n",
        "            results[t] = update_func(results[t-1], t, system)\n",
        "\n",
        "        final_pops[i] = results[system.t_0 + system.duration]\n",
        "\n",
        "    return final_pops"
      ]
    },
    {
      "cell_type": "markdown",
      "metadata": {
        "id": "Jgctx9eDVWV-"
      },
      "source": [
        "Test your function by running it with `iters=5`."
      ]
    },
    {
      "cell_type": "code",
      "execution_count": 29,
      "metadata": {
        "colab": {
          "base_uri": "https://localhost:8080/"
        },
        "id": "HqZT6tOIVWV-",
        "outputId": "e11b029b-cf23-40af-b7de-01597b24e590"
      },
      "outputs": [
        {
          "output_type": "execute_result",
          "data": {
            "text/plain": [
              "Parameter\n",
              "0      -0.044281\n",
              "1    1873.886394\n",
              "2    -223.917516\n",
              "3      12.726925\n",
              "4       5.814855\n",
              "Name: Metric, dtype: float64"
            ]
          },
          "metadata": {},
          "execution_count": 29
        }
      ],
      "source": [
        "run_many_simulations(system, update_func1, 5)"
      ]
    },
    {
      "cell_type": "markdown",
      "metadata": {
        "id": "Zy_L-vkFVWWC"
      },
      "source": [
        "Now we can run 1000 simulations and describe the distribution of the results."
      ]
    },
    {
      "cell_type": "code",
      "execution_count": 30,
      "metadata": {
        "colab": {
          "base_uri": "https://localhost:8080/"
        },
        "id": "qNDVS1nvVWWC",
        "outputId": "1785a394-4dfd-4b94-ae66-8009c000d1db"
      },
      "outputs": [
        {
          "output_type": "execute_result",
          "data": {
            "text/plain": [
              "count     1000.000000\n",
              "mean       242.516918\n",
              "std        881.112743\n",
              "min      -1887.591573\n",
              "25%         -5.625706\n",
              "50%          1.788532\n",
              "75%        136.789484\n",
              "max      10400.032872\n",
              "Name: Metric, dtype: float64"
            ]
          },
          "metadata": {},
          "execution_count": 30
        }
      ],
      "source": [
        "last_pops = run_many_simulations(system, update_func1, 1000)\n",
        "last_pops.describe()"
      ]
    },
    {
      "cell_type": "markdown",
      "metadata": {
        "id": "CgosqiExVWWC"
      },
      "source": [
        "If we substract off the initial population, we get the distribution of changes."
      ]
    },
    {
      "cell_type": "code",
      "execution_count": 31,
      "metadata": {
        "colab": {
          "base_uri": "https://localhost:8080/"
        },
        "id": "YkdCOMsLVWWD",
        "outputId": "9db9860e-4737-44ef-ae55-c039d187afe6"
      },
      "outputs": [
        {
          "output_type": "execute_result",
          "data": {
            "text/plain": [
              "count    1000.000000\n",
              "mean     -958.483082\n",
              "std       881.112743\n",
              "min     -3088.591573\n",
              "25%     -1206.625706\n",
              "50%     -1199.211468\n",
              "75%     -1064.210516\n",
              "max      9199.032872\n",
              "Name: Metric, dtype: float64"
            ]
          },
          "metadata": {},
          "execution_count": 31
        }
      ],
      "source": [
        "net_changes = last_pops - p_0\n",
        "net_changes.describe()"
      ]
    },
    {
      "cell_type": "markdown",
      "metadata": {
        "id": "QHmWkkZ7VWWD"
      },
      "source": [
        "The median is negative, which indicates that the population decreases more often than it increases.\n",
        "\n",
        "We can be more specific by counting the number of runs where `net_changes` is positive."
      ]
    },
    {
      "cell_type": "code",
      "execution_count": 32,
      "metadata": {
        "colab": {
          "base_uri": "https://localhost:8080/"
        },
        "id": "HRrh8VXOVWWD",
        "outputId": "2f0c6144-72ee-4e0c-a9ba-a22b5418683c"
      },
      "outputs": [
        {
          "output_type": "execute_result",
          "data": {
            "text/plain": [
              "77"
            ]
          },
          "metadata": {},
          "execution_count": 32
        }
      ],
      "source": [
        "np.sum(net_changes > 0)"
      ]
    },
    {
      "cell_type": "markdown",
      "metadata": {
        "id": "OuZAdXu_VWWD"
      },
      "source": [
        "Or we can use `mean` to compute the fraction of runs where `net_changes` is positive."
      ]
    },
    {
      "cell_type": "code",
      "execution_count": 33,
      "metadata": {
        "colab": {
          "base_uri": "https://localhost:8080/"
        },
        "id": "W8pFxkj6VWWD",
        "outputId": "e55b4275-6ebe-4701-f1b7-2fb3efc4ecb6"
      },
      "outputs": [
        {
          "output_type": "execute_result",
          "data": {
            "text/plain": [
              "0.077"
            ]
          },
          "metadata": {},
          "execution_count": 33
        }
      ],
      "source": [
        "np.mean(net_changes > 0)"
      ]
    },
    {
      "cell_type": "markdown",
      "metadata": {
        "id": "SByAfpfeVWWD"
      },
      "source": [
        "And here's the fraction where it's negative."
      ]
    },
    {
      "cell_type": "code",
      "execution_count": 34,
      "metadata": {
        "colab": {
          "base_uri": "https://localhost:8080/"
        },
        "id": "wfFkS8yAVWWE",
        "outputId": "f0c26cd3-2b07-4754-d1d3-8c563b3f9ce2"
      },
      "outputs": [
        {
          "output_type": "execute_result",
          "data": {
            "text/plain": [
              "0.923"
            ]
          },
          "metadata": {},
          "execution_count": 34
        }
      ],
      "source": [
        "np.mean(net_changes < 0)"
      ]
    },
    {
      "cell_type": "markdown",
      "metadata": {
        "id": "m_S-GpAWVWWE"
      },
      "source": [
        "So, based on observed past changes, this model predicts that the population is more likely to decrease than increase over the next 10 years, by about 2:1."
      ]
    },
    {
      "cell_type": "markdown",
      "metadata": {
        "id": "1-XmC-enVWWE"
      },
      "source": [
        "## A refined model\n",
        "\n",
        "There are a few ways we could improve the model.\n",
        "\n",
        "1.  It looks like there might be cyclic behavior in the past data, with a period of 4-5 years.  We could extend the model to include this effect.\n",
        "\n",
        "2.  Older data might not be as relevant for prediction as newer data, so we could give more weight to newer data.\n",
        "\n",
        "The second option is easier to implement, so let's try it.\n",
        "\n",
        "I'll use `linspace` to create an array of \"weights\" for the observed rates.  The probability that I choose each rate will be proportional to these weights.\n",
        "\n",
        "The weights have to add up to 1, so I divide through by the total."
      ]
    },
    {
      "cell_type": "code",
      "execution_count": 35,
      "metadata": {
        "colab": {
          "base_uri": "https://localhost:8080/"
        },
        "id": "3fUoHpBmVWWE",
        "outputId": "8be7460e-3645-4120-f32f-aa7d7a0edaec"
      },
      "outputs": [
        {
          "output_type": "execute_result",
          "data": {
            "text/plain": [
              "array([0.        , 0.00653595, 0.0130719 , 0.01960784, 0.02614379,\n",
              "       0.03267974, 0.03921569, 0.04575163, 0.05228758, 0.05882353,\n",
              "       0.06535948, 0.07189542, 0.07843137, 0.08496732, 0.09150327,\n",
              "       0.09803922, 0.10457516, 0.11111111])"
            ]
          },
          "metadata": {},
          "execution_count": 35
        }
      ],
      "source": [
        "weights = linspace(0, 1, len(rates))\n",
        "weights /= sum(weights)\n",
        "weights"
      ]
    },
    {
      "cell_type": "markdown",
      "metadata": {
        "id": "Oug3iG6lVWWE"
      },
      "source": [
        "I'll add the weights to the `System` object, since they are parameters of the model."
      ]
    },
    {
      "cell_type": "code",
      "execution_count": 36,
      "metadata": {
        "id": "NtvsgGCLVWWF"
      },
      "outputs": [],
      "source": [
        "system.weights = weights"
      ]
    },
    {
      "cell_type": "markdown",
      "metadata": {
        "id": "F2wClsKRVWWF"
      },
      "source": [
        "We can pass these weights as a parameter to `np.random.choice` (see the [documentation](https://docs.scipy.org/doc/numpy/reference/generated/numpy.random.choice.html))"
      ]
    },
    {
      "cell_type": "code",
      "execution_count": 37,
      "metadata": {
        "colab": {
          "base_uri": "https://localhost:8080/"
        },
        "id": "Oc0Rnn69VWWF",
        "outputId": "b6b74f93-8479-4698-e529-6ecb43ee3728"
      },
      "outputs": [
        {
          "output_type": "execute_result",
          "data": {
            "text/plain": [
              "-0.5306267806267806"
            ]
          },
          "metadata": {},
          "execution_count": 37
        }
      ],
      "source": [
        "np.random.choice(system.rates, p=system.weights)"
      ]
    },
    {
      "cell_type": "markdown",
      "metadata": {
        "id": "3la9fRdVVWWF"
      },
      "source": [
        "Write an update function that takes the weights into account."
      ]
    },
    {
      "cell_type": "code",
      "execution_count": 43,
      "metadata": {
        "id": "qEVHwkGGVWWF"
      },
      "outputs": [],
      "source": [
        "# Solution goes here\n",
        "def update_func_weighted(pop, t, system):\n",
        "    \"\"\"Update function that accounts for weights in selecting the growth rate.\n",
        "\n",
        "    pop: current population\n",
        "    t: current year\n",
        "    system: system object with rates and weights\n",
        "\n",
        "    returns: updated population\n",
        "    \"\"\"\n",
        "    rate = np.random.choice(system.rates, p=system.weights)\n",
        "    return pop + rate * pop"
      ]
    },
    {
      "cell_type": "markdown",
      "metadata": {
        "id": "freOXZRIVWWF"
      },
      "source": [
        "Use `plot_many_simulations` to plot the results."
      ]
    },
    {
      "cell_type": "code",
      "execution_count": 44,
      "metadata": {
        "colab": {
          "base_uri": "https://localhost:8080/",
          "height": 329
        },
        "id": "-b3Qn84cVWWF",
        "outputId": "db50088f-9e73-4236-ddbc-38638afb729e"
      },
      "outputs": [
        {
          "output_type": "display_data",
          "data": {
            "text/plain": [
              "<Figure size 450x300 with 1 Axes>"
            ],
            "image/png": "[encoded data removed]"
          },
          "metadata": {}
        }
      ],
      "source": [
        "# Solution goes here\n",
        "def plot_many_simulations(system, update_func, iters):\n",
        "    \"\"\"Runs simulations and plots the results for visual comparison.\n",
        "\n",
        "    system: System object\n",
        "    update_func: function object\n",
        "    iters: number of simulations to run\n",
        "    \"\"\"\n",
        "    for i in range(iters):\n",
        "        results = run_simulation(system, update_func)\n",
        "        results.plot(color='gray', label='_nolegend_', alpha=0.3)\n",
        "\n",
        "    plot_population(pop_series)\n",
        "    decorate(xlabel='Year', ylabel='Population Estimate', title='Simulation Outcomes with Weighted Rates')\n",
        "\n",
        "\n",
        "plot_many_simulations(system, update_func_weighted, 30)"
      ]
    },
    {
      "cell_type": "markdown",
      "metadata": {
        "id": "RlTfu6Y5VWWG"
      },
      "source": [
        "Use `run_many_simulations` to collect the results and `describe` to summarize the distribution of net changes."
      ]
    },
    {
      "cell_type": "code",
      "execution_count": 45,
      "metadata": {
        "colab": {
          "base_uri": "https://localhost:8080/"
        },
        "id": "gzcQHUjpVWWG",
        "outputId": "fff59d29-96c0-460f-a030-99876bfc47e3"
      },
      "outputs": [
        {
          "output_type": "stream",
          "name": "stdout",
          "text": [
            "count     100.000000\n",
            "mean      405.302838\n",
            "std      1179.922009\n",
            "min      -931.639253\n",
            "25%         2.756604\n",
            "50%        11.312392\n",
            "75%       186.980690\n",
            "max      7643.902122\n",
            "Name: Metric, dtype: float64\n"
          ]
        }
      ],
      "source": [
        "# Solution goes here\n",
        "def summarize_simulation_results(system, update_func, iters):\n",
        "    \"\"\"Collect results from multiple simulations and summarize the distribution of net changes.\n",
        "\n",
        "    system: System object\n",
        "    update_func: function object\n",
        "    iters: number of simulations to run\n",
        "    \"\"\"\n",
        "    results = run_many_simulations(system, update_func, iters)\n",
        "    # Describe the results for an overview of distribution\n",
        "    return results.describe()\n",
        "\n",
        "summary_results = summarize_simulation_results(system, update_func_weighted, 100)\n",
        "print(summary_results)"
      ]
    },
    {
      "cell_type": "markdown",
      "metadata": {
        "id": "dCx__hN-VWWG"
      },
      "source": [
        "Does the refined model have much effect on the probability of population decline?"
      ]
    },
    {
      "cell_type": "code",
      "execution_count": 46,
      "metadata": {
        "colab": {
          "base_uri": "https://localhost:8080/"
        },
        "id": "CFnSRSkAVWWG",
        "outputId": "06427006-8994-4f56-fc80-a311fbe39aa0"
      },
      "outputs": [
        {
          "output_type": "stream",
          "name": "stdout",
          "text": [
            "Probability of population decline: 89.00%\n"
          ]
        }
      ],
      "source": [
        "# Solution goes here\n",
        "def calculate_decline_probability(system, update_func, iters):\n",
        "    \"\"\"Calculate the probability of population decline over the simulation period.\n",
        "\n",
        "    system: System object\n",
        "    update_func: function object\n",
        "    iters: number of simulations to run\n",
        "    \"\"\"\n",
        "    results = run_many_simulations(system, update_func, iters)\n",
        "    # Count how many of the final populations are less than the initial population\n",
        "    declines = sum(result < system.p_0 for result in results)\n",
        "    return declines / iters\n",
        "\n",
        "decline_probability = calculate_decline_probability(system, update_func_weighted, 100)\n",
        "print(f\"Probability of population decline: {decline_probability * 100:.2f}%\")"
      ]
    }
  ],
  "metadata": {
    "kernelspec": {
      "display_name": "Python 3 (ipykernel)",
      "language": "python",
      "name": "python3"
    },
    "language_info": {
      "codemirror_mode": {
        "name": "ipython",
        "version": 3
      },
      "file_extension": ".py",
      "mimetype": "text/x-python",
      "name": "python",
      "nbconvert_exporter": "python",
      "pygments_lexer": "ipython3",
      "version": "3.8.16"
    },
    "colab": {
      "provenance": []
    }
  },
  "nbformat": 4,
  "nbformat_minor": 0
}